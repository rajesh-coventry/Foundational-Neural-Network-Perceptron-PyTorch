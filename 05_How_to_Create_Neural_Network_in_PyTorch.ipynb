{
  "nbformat": 4,
  "nbformat_minor": 0,
  "metadata": {
    "colab": {
      "provenance": [],
      "authorship_tag": "ABX9TyNBCNwMkg+UgKc98TDv4Kj8",
      "include_colab_link": true
    },
    "kernelspec": {
      "name": "python3",
      "display_name": "Python 3"
    },
    "language_info": {
      "name": "python"
    }
  },
  "cells": [
    {
      "cell_type": "markdown",
      "metadata": {
        "id": "view-in-github",
        "colab_type": "text"
      },
      "source": [
        "<a href=\"https://colab.research.google.com/github/rajesh-coventry/Foundational-Neural-Network-Perceptron-PyTorch/blob/master/05_How_to_Create_Neural_Network_in_PyTorch.ipynb\" target=\"_parent\"><img src=\"https://colab.research.google.com/assets/colab-badge.svg\" alt=\"Open In Colab\"/></a>"
      ]
    },
    {
      "cell_type": "markdown",
      "source": [
        "# **How to Create Neural Network in PyTorch:**"
      ],
      "metadata": {
        "id": "R-NK-__klF-O"
      }
    },
    {
      "cell_type": "markdown",
      "source": [
        "### 1. **Data Preparation:**\n",
        "- Custom Dataset class for PyTorch\n",
        "\n",
        "- Data preprocessing (scaling, encoding)\n",
        "\n",
        "- Automatic train/validation/test splitting\n",
        "\n",
        "- DataLoader creation with proper batching\n",
        "\n",
        "### 2. **Model Building:**\n",
        "- Flexible neural network architecture (`FlexibleNN`)\n",
        "\n",
        "- Configurable hidden layers, dropout, batch normalization\n",
        "\n",
        "- Support for both classification and regression\n",
        "\n",
        "- Proper weight initialization\n",
        "\n",
        "### 3. **Model Training:**\n",
        "- Complete training loop with progress bars\n",
        "\n",
        "- Early stopping to prevent overfitting\n",
        "\n",
        "- Learning rate scheduling\n",
        "\n",
        "- Support for both CPU and GPU training\n",
        "\n",
        "- Comprehensive training history tracking\n",
        "\n",
        "### 4. **Prediction & Testing:**\n",
        "- Prediction functions for new data\n",
        "\n",
        "- Comprehensive model evaluation\n",
        "\n",
        "- Support for both classification and regression metrics\n",
        "\n",
        "### 5. **Performance Testing:**\n",
        "- Classification metrics: accuracy, precision, recall, F1-score, confusion matrix\n",
        "\n",
        "- Regression metrics: MSE, RMSE, MAE, R²-score\n",
        "\n",
        "- Overfitting detection and analysis\n",
        "\n",
        "### 6. **Visualization:**\n",
        "The framework provides extensive visualizations to assess model performance:\n",
        "\n",
        "**Training Visualizations:**\n",
        "- **`Loss curves`**: Track training and validation loss to detect overfitting\n",
        "\n",
        "- **`Accuracy curves`**: Monitor training and validation accuracy over time\n",
        "\n",
        "- **`Learning rate schedule`**: See how learning rate changes during training\n",
        "\n",
        "- **`Overfitting indicator`**: Plot showing validation loss - training loss difference\n",
        "\n",
        "**Classification Visualizations:**\n",
        "- **`Confusion matrix`**: See which classes are being confused\n",
        "\n",
        "- **`Prediction distribution`**: Check if predictions are balanced\n",
        "\n",
        "- **`Confidence distribution`**: Analyze model confidence in predictions\n",
        "\n",
        "- **`Per-class accuracy`**: Identify which classes perform poorly\n",
        "\n",
        "**Regression Visualizations:**\n",
        "- **`Actual vs Predicted scatter plot`**: Check prediction quality\n",
        "\n",
        "- **`Residual plot`**: Detect patterns in errors\n",
        "\n",
        "- **`Residuals distribution`**: Check if errors are normally distributed\n",
        "\n",
        "- **`Error metrics bar chart`**: Compare different error metrics\n",
        "\n",
        "## **Key Features:**\n",
        "\n",
        "1. **`Easy to Use`**: Single function `complete_training_workflow()` handles everything\n",
        "\n",
        "2. **`Flexible`**: Configurable model architecture and training parameters\n",
        "\n",
        "3. **`Robust`**: Includes early stopping, learning rate scheduling, and proper validation\n",
        "\n",
        "4. **`Comprehensive`**: Full evaluation with multiple metrics and visualizations\n",
        "\n",
        "5. **`Saveable`**: Automatically saves models, configs, and results\n",
        "\n",
        "6. **`Reusable`**: Load saved models and make predictions on new data\n",
        "\n",
        "## **What to Look for in Visualizations:**\n",
        "\n",
        "**Good Model Indicators:**\n",
        "- Loss curves converging without large gaps\n",
        "\n",
        "- Validation accuracy close to training accuracy\n",
        "\n",
        "- Residuals randomly distributed around zero\n",
        "(regression)\n",
        "\n",
        "- High confidence in correct predictions (classification)\n",
        "\n",
        "- Confusion matrix with strong diagonal values\n",
        "\n",
        "**Warning Signs:**\n",
        "- Large gap between training and validation loss (overfitting)\n",
        "\n",
        "- Validation metrics plateauing early (underfitting)\n",
        "\n",
        "- Systematic patterns in residual plots (regression)\n",
        "\n",
        "- Low confidence in predictions\n",
        "\n",
        "- Poor per-class performance for specific classes"
      ],
      "metadata": {
        "id": "wFH-kBYElQoX"
      }
    },
    {
      "cell_type": "code",
      "source": [
        "import torch\n",
        "import torch.nn as nn\n",
        "import torch.optim as optim\n",
        "from torch.utils.data import Dataset, DataLoader, random_split\n",
        "import numpy as np\n",
        "import matplotlib.pyplot as plt\n",
        "import seaborn as sns\n",
        "from sklearn.metrics import accuracy_score, precision_recall_fscore_support, confusion_matrix, classification_report\n",
        "from sklearn.preprocessing import StandardScaler, LabelEncoder\n",
        "import pandas as pd\n",
        "from tqdm import tqdm\n",
        "import os\n",
        "import json\n",
        "from typing import Tuple, Dict, List, Optional"
      ],
      "metadata": {
        "id": "8GfwkkyEmj8Y"
      },
      "execution_count": 18,
      "outputs": []
    },
    {
      "cell_type": "markdown",
      "source": [
        "## **1. DATA PREPARATION:**"
      ],
      "metadata": {
        "id": "MiT5mEmOoiQd"
      }
    },
    {
      "cell_type": "code",
      "source": [
        "# DATA PREPARATION\n",
        "\n",
        "class CustomDataset(Dataset):\n",
        "    \"\"\"\n",
        "    Custom Dataset class for PyTorch\n",
        "    Modify this based on your specific data format\n",
        "    \"\"\"\n",
        "    def __init__(self, X, y, transform=None):\n",
        "        self.X = torch.FloatTensor(X)\n",
        "        self.y = torch.LongTensor(y) if y.dtype != np.float32 else torch.FloatTensor(y)\n",
        "        self.transform = transform\n",
        "\n",
        "    def __len__(self):\n",
        "        return len(self.X)\n",
        "\n",
        "    def __getitem__(self, idx):\n",
        "        sample = self.X[idx]\n",
        "        target = self.y[idx]\n",
        "\n",
        "        if self.transform:\n",
        "            sample = self.transform(sample)\n",
        "\n",
        "        return sample, target\n",
        "\n",
        "def prepare_data(X, y, test_size=0.2, val_size=0.1, batch_size=32, random_seed=42):\n",
        "    \"\"\"\n",
        "    Prepare data for training, validation, and testing\n",
        "\n",
        "    Args:\n",
        "        X: Input features\n",
        "        y: Target labels\n",
        "        test_size: Proportion of data for testing\n",
        "        val_size: Proportion of training data for validation\n",
        "        batch_size: Batch size for DataLoader\n",
        "        random_seed: Random seed for reproducibility\n",
        "\n",
        "    Returns:\n",
        "        train_loader, val_loader, test_loader, input_size, num_classes\n",
        "    \"\"\"\n",
        "    torch.manual_seed(random_seed)\n",
        "    np.random.seed(random_seed)\n",
        "\n",
        "    # Create dataset\n",
        "    dataset = CustomDataset(X, y)\n",
        "\n",
        "    # Calculate split sizes\n",
        "    total_size = len(dataset)\n",
        "    test_size_abs = int(test_size * total_size)\n",
        "    train_val_size = total_size - test_size_abs\n",
        "    val_size_abs = int(val_size * train_val_size)\n",
        "    train_size_abs = train_val_size - val_size_abs\n",
        "\n",
        "    # Split dataset\n",
        "    train_dataset, val_dataset, test_dataset = random_split(\n",
        "        dataset, [train_size_abs, val_size_abs, test_size_abs],\n",
        "        generator=torch.Generator().manual_seed(random_seed)\n",
        "    )\n",
        "\n",
        "    # Create data loaders\n",
        "    train_loader = DataLoader(train_dataset, batch_size=batch_size, shuffle=True)\n",
        "    val_loader = DataLoader(val_dataset, batch_size=batch_size, shuffle=False)\n",
        "    test_loader = DataLoader(test_dataset, batch_size=batch_size, shuffle=False)\n",
        "\n",
        "    # Get input size and number of classes\n",
        "    input_size = X.shape[1] if len(X.shape) == 2 else X.shape[1:]\n",
        "    num_classes = len(np.unique(y))\n",
        "\n",
        "    print(f\"Data split - Train: {len(train_dataset)}, Val: {len(val_dataset)}, Test: {len(test_dataset)}\")\n",
        "    print(f\"Input size: {input_size}, Number of classes: {num_classes}\")\n",
        "\n",
        "    return train_loader, val_loader, test_loader, input_size, num_classes\n",
        "\n",
        "def preprocess_data(X, y, scale_features=True):\n",
        "    \"\"\"\n",
        "    Preprocess the data (scaling, encoding, etc.)\n",
        "\n",
        "    Args:\n",
        "        X: Input features\n",
        "        y: Target labels\n",
        "        scale_features: Whether to scale features\n",
        "\n",
        "    Returns:\n",
        "        Preprocessed X and y\n",
        "    \"\"\"\n",
        "    # Feature scaling\n",
        "    if scale_features:\n",
        "        scaler = StandardScaler()\n",
        "        X = scaler.fit_transform(X)\n",
        "\n",
        "    # Label encoding (if needed)\n",
        "    if y.dtype == 'object':\n",
        "        label_encoder = LabelEncoder()\n",
        "        y = label_encoder.fit_transform(y)\n",
        "\n",
        "    return X.astype(np.float32), y.astype(np.int64)\n"
      ],
      "metadata": {
        "id": "EceoQuhpmsA3"
      },
      "execution_count": 2,
      "outputs": []
    },
    {
      "cell_type": "markdown",
      "source": [
        "## **2. MODEL BUILDING:**"
      ],
      "metadata": {
        "id": "-dhKpU_yoqnE"
      }
    },
    {
      "cell_type": "code",
      "source": [
        "# MODEL BUILDING\n",
        "\n",
        "class FlexibleNN(nn.Module):\n",
        "    \"\"\"\n",
        "    Flexible Neural Network architecture that can be configured for different tasks\n",
        "    \"\"\"\n",
        "    def __init__(self, input_size, hidden_sizes, num_classes, dropout_rate=0.2,\n",
        "                 activation='relu', batch_norm=True, task_type='classification'):\n",
        "        super(FlexibleNN, self).__init__()\n",
        "\n",
        "        self.task_type = task_type\n",
        "\n",
        "        # Define activation function\n",
        "        if activation == 'relu':\n",
        "            self.activation = nn.ReLU()\n",
        "        elif activation == 'tanh':\n",
        "            self.activation = nn.Tanh()\n",
        "        elif activation == 'leaky_relu':\n",
        "            self.activation = nn.LeakyReLU()\n",
        "        else:\n",
        "            self.activation = nn.ReLU()\n",
        "\n",
        "        # Build layers\n",
        "        layers = []\n",
        "        prev_size = input_size if isinstance(input_size, int) else np.prod(input_size)\n",
        "\n",
        "        # Hidden layers\n",
        "        for hidden_size in hidden_sizes:\n",
        "            layers.append(nn.Linear(prev_size, hidden_size))\n",
        "            if batch_norm:\n",
        "                layers.append(nn.BatchNorm1d(hidden_size))\n",
        "            layers.append(self.activation)\n",
        "            layers.append(nn.Dropout(dropout_rate))\n",
        "            prev_size = hidden_size\n",
        "\n",
        "        # Output layer\n",
        "        if task_type == 'classification':\n",
        "            layers.append(nn.Linear(prev_size, num_classes))\n",
        "        elif task_type == 'regression':\n",
        "            layers.append(nn.Linear(prev_size, 1 if num_classes == 1 else num_classes))\n",
        "\n",
        "        self.network = nn.Sequential(*layers)\n",
        "\n",
        "        # Initialize weights\n",
        "        self._initialize_weights()\n",
        "\n",
        "    def _initialize_weights(self):\n",
        "        \"\"\"Initialize network weights\"\"\"\n",
        "        for m in self.modules():\n",
        "            if isinstance(m, nn.Linear):\n",
        "                nn.init.xavier_uniform_(m.weight)\n",
        "                nn.init.constant_(m.bias, 0)\n",
        "\n",
        "    def forward(self, x):\n",
        "        # Flatten input if needed\n",
        "        if len(x.shape) > 2:\n",
        "            x = x.view(x.size(0), -1)\n",
        "        return self.network(x)\n",
        "\n",
        "def create_model(input_size, num_classes, hidden_sizes=[128, 64],\n",
        "                dropout_rate=0.2, activation='relu', batch_norm=True,\n",
        "                task_type='classification'):\n",
        "    \"\"\"\n",
        "    Factory function to create a neural network model\n",
        "\n",
        "    Args:\n",
        "        input_size: Size of input features\n",
        "        num_classes: Number of output classes/targets\n",
        "        hidden_sizes: List of hidden layer sizes\n",
        "        dropout_rate: Dropout probability\n",
        "        activation: Activation function type\n",
        "        batch_norm: Whether to use batch normalization\n",
        "        task_type: 'classification' or 'regression'\n",
        "\n",
        "    Returns:\n",
        "        PyTorch model\n",
        "    \"\"\"\n",
        "    model = FlexibleNN(\n",
        "        input_size=input_size,\n",
        "        hidden_sizes=hidden_sizes,\n",
        "        num_classes=num_classes,\n",
        "        dropout_rate=dropout_rate,\n",
        "        activation=activation,\n",
        "        batch_norm=batch_norm,\n",
        "        task_type=task_type\n",
        "    )\n",
        "\n",
        "    return model\n"
      ],
      "metadata": {
        "id": "ZsoO7xLAnCoN"
      },
      "execution_count": 3,
      "outputs": []
    },
    {
      "cell_type": "markdown",
      "source": [
        "## **3. MODEL TRAINING:**"
      ],
      "metadata": {
        "id": "npXXSwboo0eB"
      }
    },
    {
      "cell_type": "code",
      "source": [
        "# MODEL TRAINING\n",
        "\n",
        "class EarlyStopping:\n",
        "    \"\"\"Early stopping to prevent overfitting\"\"\"\n",
        "    def __init__(self, patience=10, min_delta=0.001, restore_best_weights=True):\n",
        "        self.patience = patience\n",
        "        self.min_delta = min_delta\n",
        "        self.restore_best_weights = restore_best_weights\n",
        "        self.best_loss = None\n",
        "        self.counter = 0\n",
        "        self.best_weights = None\n",
        "\n",
        "    def __call__(self, val_loss, model):\n",
        "        if self.best_loss is None:\n",
        "            self.best_loss = val_loss\n",
        "            self.save_checkpoint(model)\n",
        "        elif val_loss < self.best_loss - self.min_delta:\n",
        "            self.best_loss = val_loss\n",
        "            self.counter = 0\n",
        "            self.save_checkpoint(model)\n",
        "        else:\n",
        "            self.counter += 1\n",
        "\n",
        "        if self.counter >= self.patience:\n",
        "            if self.restore_best_weights:\n",
        "                model.load_state_dict(self.best_weights)\n",
        "            return True\n",
        "        return False\n",
        "\n",
        "    def save_checkpoint(self, model):\n",
        "        self.best_weights = model.state_dict().copy()\n",
        "\n",
        "def train_model(model, train_loader, val_loader, num_epochs=100, learning_rate=0.001,\n",
        "                task_type='classification', patience=10, device='auto'):\n",
        "    \"\"\"\n",
        "    Train the neural network model\n",
        "\n",
        "    Args:\n",
        "        model: PyTorch model\n",
        "        train_loader: Training data loader\n",
        "        val_loader: Validation data loader\n",
        "        num_epochs: Number of training epochs\n",
        "        learning_rate: Learning rate\n",
        "        task_type: 'classification' or 'regression'\n",
        "        patience: Early stopping patience\n",
        "        device: Device to train on ('auto', 'cpu', 'cuda')\n",
        "\n",
        "    Returns:\n",
        "        model, training_history\n",
        "    \"\"\"\n",
        "\n",
        "    # Set device\n",
        "    if device == 'auto':\n",
        "        device = torch.device('cuda' if torch.cuda.is_available() else 'cpu')\n",
        "    else:\n",
        "        device = torch.device(device)\n",
        "\n",
        "    model = model.to(device)\n",
        "    print(f\"Training on device: {device}\")\n",
        "\n",
        "    # Define loss function and optimizer\n",
        "    if task_type == 'classification':\n",
        "        criterion = nn.CrossEntropyLoss()\n",
        "    else:  # regression\n",
        "        criterion = nn.MSELoss()\n",
        "\n",
        "    optimizer = optim.Adam(model.parameters(), lr=learning_rate)\n",
        "    scheduler = optim.lr_scheduler.ReduceLROnPlateau(optimizer, mode='min', patience=5, factor=0.5)\n",
        "\n",
        "    # Early stopping\n",
        "    early_stopping = EarlyStopping(patience=patience)\n",
        "\n",
        "    # Training history\n",
        "    history = {\n",
        "        'train_loss': [],\n",
        "        'val_loss': [],\n",
        "        'train_acc': [],\n",
        "        'val_acc': [],\n",
        "        'learning_rates': []\n",
        "    }\n",
        "\n",
        "    # Training loop\n",
        "    for epoch in range(num_epochs):\n",
        "        # Training phase\n",
        "        model.train()\n",
        "        train_loss = 0.0\n",
        "        train_correct = 0\n",
        "        train_total = 0\n",
        "\n",
        "        train_pbar = tqdm(train_loader, desc=f'Epoch {epoch+1}/{num_epochs} [Train]')\n",
        "        for batch_idx, (data, target) in enumerate(train_pbar):\n",
        "            data, target = data.to(device), target.to(device)\n",
        "\n",
        "            optimizer.zero_grad()\n",
        "            output = model(data)\n",
        "\n",
        "            if task_type == 'classification':\n",
        "                loss = criterion(output, target)\n",
        "                _, predicted = torch.max(output.data, 1)\n",
        "                train_correct += (predicted == target).sum().item()\n",
        "            else:  # regression\n",
        "                if target.dim() == 1:\n",
        "                    target = target.unsqueeze(1)\n",
        "                loss = criterion(output, target.float())\n",
        "\n",
        "            loss.backward()\n",
        "            optimizer.step()\n",
        "\n",
        "            train_loss += loss.item()\n",
        "            train_total += target.size(0)\n",
        "\n",
        "            # Update progress bar\n",
        "            if task_type == 'classification':\n",
        "                train_acc = 100. * train_correct / train_total\n",
        "                train_pbar.set_postfix({'Loss': f'{train_loss/(batch_idx+1):.4f}', 'Acc': f'{train_acc:.2f}%'})\n",
        "            else:\n",
        "                train_pbar.set_postfix({'Loss': f'{train_loss/(batch_idx+1):.4f}'})\n",
        "\n",
        "        # Validation phase\n",
        "        model.eval()\n",
        "        val_loss = 0.0\n",
        "        val_correct = 0\n",
        "        val_total = 0\n",
        "\n",
        "        with torch.no_grad():\n",
        "            for data, target in val_loader:\n",
        "                data, target = data.to(device), target.to(device)\n",
        "                output = model(data)\n",
        "\n",
        "                if task_type == 'classification':\n",
        "                    val_loss += criterion(output, target).item()\n",
        "                    _, predicted = torch.max(output.data, 1)\n",
        "                    val_correct += (predicted == target).sum().item()\n",
        "                else:  # regression\n",
        "                    if target.dim() == 1:\n",
        "                        target = target.unsqueeze(1)\n",
        "                    val_loss += criterion(output, target.float()).item()\n",
        "\n",
        "                val_total += target.size(0)\n",
        "\n",
        "        # Calculate average losses and accuracies\n",
        "        avg_train_loss = train_loss / len(train_loader)\n",
        "        avg_val_loss = val_loss / len(val_loader)\n",
        "\n",
        "        history['train_loss'].append(avg_train_loss)\n",
        "        history['val_loss'].append(avg_val_loss)\n",
        "        history['learning_rates'].append(optimizer.param_groups[0]['lr'])\n",
        "\n",
        "        if task_type == 'classification':\n",
        "            train_accuracy = 100. * train_correct / train_total\n",
        "            val_accuracy = 100. * val_correct / val_total\n",
        "            history['train_acc'].append(train_accuracy)\n",
        "            history['val_acc'].append(val_accuracy)\n",
        "\n",
        "            print(f'Epoch {epoch+1}: Train Loss: {avg_train_loss:.4f}, Train Acc: {train_accuracy:.2f}%, '\n",
        "                  f'Val Loss: {avg_val_loss:.4f}, Val Acc: {val_accuracy:.2f}%')\n",
        "        else:\n",
        "            print(f'Epoch {epoch+1}: Train Loss: {avg_train_loss:.4f}, Val Loss: {avg_val_loss:.4f}')\n",
        "\n",
        "        # Learning rate scheduling\n",
        "        scheduler.step(avg_val_loss)\n",
        "\n",
        "        # Early stopping\n",
        "        if early_stopping(avg_val_loss, model):\n",
        "            print(f'Early stopping triggered after epoch {epoch+1}')\n",
        "            break\n",
        "\n",
        "    return model, history\n"
      ],
      "metadata": {
        "id": "wdjcwo9hnRGy"
      },
      "execution_count": 4,
      "outputs": []
    },
    {
      "cell_type": "markdown",
      "source": [
        "## **4. PREDICTION:**"
      ],
      "metadata": {
        "id": "A_ESpEaLo8jO"
      }
    },
    {
      "cell_type": "code",
      "source": [
        "import torch\n",
        "import numpy as np\n",
        "from sklearn.metrics import (\n",
        "    accuracy_score, precision_recall_fscore_support, confusion_matrix,\n",
        "    classification_report, mean_squared_error, mean_absolute_error, r2_score\n",
        ")\n",
        "\n",
        "def make_predictions(model, data_loader, device='auto', task_type='classification'):\n",
        "    \"\"\"\n",
        "    Make predictions using the trained model (FIXED VERSION)\n",
        "\n",
        "    Args:\n",
        "        model: Trained PyTorch model\n",
        "        data_loader: Data loader for predictions\n",
        "        device: Device to use\n",
        "        task_type: 'classification' or 'regression'\n",
        "\n",
        "    Returns:\n",
        "        predictions, true_labels, probabilities (for classification)\n",
        "    \"\"\"\n",
        "    if device == 'auto':\n",
        "        device = torch.device('cuda' if torch.cuda.is_available() else 'cpu')\n",
        "\n",
        "    model.eval()\n",
        "    predictions = []\n",
        "    true_labels = []\n",
        "    probabilities = []\n",
        "\n",
        "    print(f\"Making predictions on {len(data_loader)} batches...\")\n",
        "\n",
        "    with torch.no_grad():\n",
        "        for batch_idx, (data, target) in enumerate(data_loader):\n",
        "            data, target = data.to(device), target.to(device)\n",
        "            output = model(data)\n",
        "\n",
        "            # Debug print for first few batches\n",
        "            if batch_idx < 3:\n",
        "                print(f\"Batch {batch_idx}: data shape {data.shape}, target shape {target.shape}, output shape {output.shape}\")\n",
        "\n",
        "            if task_type == 'classification':\n",
        "                # Get probabilities and predictions\n",
        "                probs = torch.softmax(output, dim=1)\n",
        "                _, predicted = torch.max(output, 1)\n",
        "\n",
        "                # Convert to numpy and extend lists\n",
        "                probabilities.extend(probs.cpu().numpy())\n",
        "                predictions.extend(predicted.cpu().numpy())\n",
        "                true_labels.extend(target.cpu().numpy())\n",
        "            else:  # regression\n",
        "                # For regression, ensure output is flattened properly\n",
        "                pred_batch = output.cpu().numpy()\n",
        "                target_batch = target.cpu().numpy()\n",
        "\n",
        "                # Handle different output shapes\n",
        "                if pred_batch.ndim > 1:\n",
        "                    pred_batch = pred_batch.flatten()\n",
        "                if target_batch.ndim > 1:\n",
        "                    target_batch = target_batch.flatten()\n",
        "\n",
        "                predictions.extend(pred_batch)\n",
        "                true_labels.extend(target_batch)\n",
        "\n",
        "    # Convert to numpy arrays\n",
        "    predictions = np.array(predictions)\n",
        "    true_labels = np.array(true_labels)\n",
        "\n",
        "    print(f\"Final predictions shape: {predictions.shape}\")\n",
        "    print(f\"Final true_labels shape: {true_labels.shape}\")\n",
        "\n",
        "    # Verify shapes match\n",
        "    if len(predictions) != len(true_labels):\n",
        "        print(f\"WARNING: Shape mismatch! Predictions: {len(predictions)}, Labels: {len(true_labels)}\")\n",
        "        # Truncate to smaller size to avoid error\n",
        "        min_size = min(len(predictions), len(true_labels))\n",
        "        predictions = predictions[:min_size]\n",
        "        true_labels = true_labels[:min_size]\n",
        "        print(f\"Truncated to size: {min_size}\")\n",
        "\n",
        "    if task_type == 'classification':\n",
        "        probabilities = np.array(probabilities)\n",
        "        return predictions, true_labels, probabilities\n",
        "    else:\n",
        "        return predictions, true_labels, None\n"
      ],
      "metadata": {
        "id": "aFxSETsV5OZI"
      },
      "execution_count": 5,
      "outputs": []
    },
    {
      "cell_type": "markdown",
      "source": [
        "## **5. TESTING LOOP:**"
      ],
      "metadata": {
        "id": "owPTKmVUpL4a"
      }
    },
    {
      "cell_type": "code",
      "source": [
        "\n",
        "def evaluate_model(model, test_loader, device='auto', task_type='classification'):\n",
        "    \"\"\"\n",
        "    Evaluate model performance on test set (FIXED VERSION)\n",
        "\n",
        "    Args:\n",
        "        model: Trained model\n",
        "        test_loader: Test data loader\n",
        "        device: Device to use\n",
        "        task_type: 'classification' or 'regression'\n",
        "\n",
        "    Returns:\n",
        "        evaluation_results dictionary\n",
        "    \"\"\"\n",
        "    print(f\"Evaluating model on test set with {len(test_loader)} batches...\")\n",
        "\n",
        "    predictions, true_labels, probabilities = make_predictions(\n",
        "        model, test_loader, device, task_type\n",
        "    )\n",
        "\n",
        "    results = {}\n",
        "\n",
        "    # Debug prints to check shapes\n",
        "    print(f\"Evaluation - Predictions shape: {predictions.shape}\")\n",
        "    print(f\"Evaluation - True labels shape: {true_labels.shape}\")\n",
        "\n",
        "    # Additional shape verification\n",
        "    if predictions.shape != true_labels.shape:\n",
        "        print(f\"ERROR: Shape mismatch in evaluation!\")\n",
        "        print(f\"Predictions shape: {predictions.shape}\")\n",
        "        print(f\"True labels shape: {true_labels.shape}\")\n",
        "\n",
        "        # Try to fix by ensuring both are 1D\n",
        "        predictions = predictions.flatten()\n",
        "        true_labels = true_labels.flatten()\n",
        "\n",
        "        print(f\"After flattening - Predictions: {predictions.shape}, Labels: {true_labels.shape}\")\n",
        "\n",
        "        # If still mismatched, truncate\n",
        "        if len(predictions) != len(true_labels):\n",
        "            min_size = min(len(predictions), len(true_labels))\n",
        "            predictions = predictions[:min_size]\n",
        "            true_labels = true_labels[:min_size]\n",
        "            print(f\"Truncated both to size: {min_size}\")\n",
        "\n",
        "    if task_type == 'classification':\n",
        "        # Classification metrics\n",
        "        results['accuracy'] = accuracy_score(true_labels, predictions)\n",
        "        precision, recall, f1, _ = precision_recall_fscore_support(\n",
        "            true_labels, predictions, average='weighted', zero_division=0\n",
        "        )\n",
        "        results['precision'] = precision\n",
        "        results['recall'] = recall\n",
        "        results['f1_score'] = f1\n",
        "        results['confusion_matrix'] = confusion_matrix(true_labels, predictions)\n",
        "        results['classification_report'] = classification_report(\n",
        "            true_labels, predictions, zero_division=0\n",
        "        )\n",
        "        results['predictions'] = predictions\n",
        "        results['true_labels'] = true_labels\n",
        "        results['probabilities'] = probabilities\n",
        "\n",
        "    else:  # regression\n",
        "        # Regression metrics\n",
        "        try:\n",
        "            results['mse'] = mean_squared_error(true_labels, predictions)\n",
        "            results['rmse'] = np.sqrt(results['mse'])\n",
        "            results['mae'] = mean_absolute_error(true_labels, predictions)\n",
        "            results['r2_score'] = r2_score(true_labels, predictions)\n",
        "            results['predictions'] = predictions\n",
        "            results['true_labels'] = true_labels\n",
        "\n",
        "            print(f\"Regression metrics calculated successfully:\")\n",
        "            print(f\"MSE: {results['mse']:.4f}\")\n",
        "            print(f\"RMSE: {results['rmse']:.4f}\")\n",
        "            print(f\"MAE: {results['mae']:.4f}\")\n",
        "            print(f\"R²: {results['r2_score']:.4f}\")\n",
        "\n",
        "        except Exception as e:\n",
        "            print(f\"Error calculating regression metrics: {e}\")\n",
        "            print(f\"Predictions shape: {predictions.shape}, type: {type(predictions)}\")\n",
        "            print(f\"True labels shape: {true_labels.shape}, type: {type(true_labels)}\")\n",
        "            raise\n",
        "\n",
        "    return results\n",
        "\n"
      ],
      "metadata": {
        "id": "4qfeHK_t54Be"
      },
      "execution_count": 6,
      "outputs": []
    },
    {
      "cell_type": "markdown",
      "source": [
        "## **6. COMPREHENSIVE MODEL PERFORMANCE TESTING:**"
      ],
      "metadata": {
        "id": "Jv490accpTbC"
      }
    },
    {
      "cell_type": "code",
      "source": [
        "# COMPREHENSIVE MODEL PERFORMANCE TESTING\n",
        "\n",
        "def comprehensive_evaluation(model, test_loader, val_loader=None, device='auto',\n",
        "                           task_type='classification', class_names=None):\n",
        "    \"\"\"\n",
        "    Perform comprehensive model evaluation\n",
        "\n",
        "    Args:\n",
        "        model: Trained model\n",
        "        test_loader: Test data loader\n",
        "        val_loader: Validation data loader (optional)\n",
        "        device: Device to use\n",
        "        task_type: 'classification' or 'regression'\n",
        "        class_names: List of class names for classification\n",
        "\n",
        "    Returns:\n",
        "        comprehensive_results dictionary\n",
        "    \"\"\"\n",
        "    results = {}\n",
        "\n",
        "    # Test set evaluation\n",
        "    print(\"Evaluating on test set...\")\n",
        "    test_results = evaluate_model(model, test_loader, device, task_type)\n",
        "    results['test'] = test_results\n",
        "\n",
        "    # Validation set evaluation (if provided)\n",
        "    if val_loader is not None:\n",
        "        print(\"Evaluating on validation set...\")\n",
        "        val_results = evaluate_model(model, val_loader, device, task_type)\n",
        "        results['validation'] = val_results\n",
        "\n",
        "    # Print results\n",
        "    if task_type == 'classification':\n",
        "        print(f\"\\n=== CLASSIFICATION RESULTS ===\")\n",
        "        print(f\"Test Accuracy: {test_results['accuracy']:.4f}\")\n",
        "        print(f\"Test Precision: {test_results['precision']:.4f}\")\n",
        "        print(f\"Test Recall: {test_results['recall']:.4f}\")\n",
        "        print(f\"Test F1-Score: {test_results['f1_score']:.4f}\")\n",
        "        print(f\"\\nClassification Report:\")\n",
        "        print(test_results['classification_report'])\n",
        "\n",
        "    else:  # regression\n",
        "        print(f\"\\n=== REGRESSION RESULTS ===\")\n",
        "        print(f\"Test MSE: {test_results['mse']:.4f}\")\n",
        "        print(f\"Test RMSE: {test_results['rmse']:.4f}\")\n",
        "        print(f\"Test MAE: {test_results['mae']:.4f}\")\n",
        "        print(f\"Test R² Score: {test_results['r2_score']:.4f}\")\n",
        "\n",
        "    return results\n"
      ],
      "metadata": {
        "id": "TJ9p0papngfd"
      },
      "execution_count": 7,
      "outputs": []
    },
    {
      "cell_type": "markdown",
      "source": [
        "## **7. VISUALIZATION:**"
      ],
      "metadata": {
        "id": "uWXw4YRlpZVI"
      }
    },
    {
      "cell_type": "code",
      "source": [
        "# VISUALIZATION\n",
        "\n",
        "def visualize_training_history(history, save_path=None):\n",
        "    \"\"\"\n",
        "    Visualize training history\n",
        "\n",
        "    Args:\n",
        "        history: Training history dictionary\n",
        "        save_path: Path to save the plot\n",
        "    \"\"\"\n",
        "    fig, axes = plt.subplots(2, 2, figsize=(15, 10))\n",
        "\n",
        "    # Loss curves\n",
        "    axes[0, 0].plot(history['train_loss'], label='Train Loss', color='blue')\n",
        "    axes[0, 0].plot(history['val_loss'], label='Validation Loss', color='red')\n",
        "    axes[0, 0].set_title('Training and Validation Loss')\n",
        "    axes[0, 0].set_xlabel('Epoch')\n",
        "    axes[0, 0].set_ylabel('Loss')\n",
        "    axes[0, 0].legend()\n",
        "    axes[0, 0].grid(True)\n",
        "\n",
        "    # Accuracy curves (if available)\n",
        "    if 'train_acc' in history and 'val_acc' in history:\n",
        "        axes[0, 1].plot(history['train_acc'], label='Train Accuracy', color='blue')\n",
        "        axes[0, 1].plot(history['val_acc'], label='Validation Accuracy', color='red')\n",
        "        axes[0, 1].set_title('Training and Validation Accuracy')\n",
        "        axes[0, 1].set_xlabel('Epoch')\n",
        "        axes[0, 1].set_ylabel('Accuracy (%)')\n",
        "        axes[0, 1].legend()\n",
        "        axes[0, 1].grid(True)\n",
        "    else:\n",
        "        axes[0, 1].text(0.5, 0.5, 'Accuracy not available\\n(Regression task)',\n",
        "                       ha='center', va='center', transform=axes[0, 1].transAxes)\n",
        "        axes[0, 1].set_title('Accuracy (Not Available)')\n",
        "\n",
        "    # Learning rate schedule\n",
        "    axes[1, 0].plot(history['learning_rates'], color='green')\n",
        "    axes[1, 0].set_title('Learning Rate Schedule')\n",
        "    axes[1, 0].set_xlabel('Epoch')\n",
        "    axes[1, 0].set_ylabel('Learning Rate')\n",
        "    axes[1, 0].set_yscale('log')\n",
        "    axes[1, 0].grid(True)\n",
        "\n",
        "    # Loss difference (overfitting indicator)\n",
        "    loss_diff = np.array(history['val_loss']) - np.array(history['train_loss'])\n",
        "    axes[1, 1].plot(loss_diff, color='purple')\n",
        "    axes[1, 1].set_title('Overfitting Indicator (Val Loss - Train Loss)')\n",
        "    axes[1, 1].set_xlabel('Epoch')\n",
        "    axes[1, 1].set_ylabel('Loss Difference')\n",
        "    axes[1, 1].axhline(y=0, color='black', linestyle='--', alpha=0.5)\n",
        "    axes[1, 1].grid(True)\n",
        "\n",
        "    plt.tight_layout()\n",
        "\n",
        "    if save_path:\n",
        "        plt.savefig(save_path, dpi=300, bbox_inches='tight')\n",
        "\n",
        "    plt.show()\n",
        "\n",
        "def visualize_classification_results(results, class_names=None, save_path=None):\n",
        "    \"\"\"\n",
        "    Visualize classification results\n",
        "\n",
        "    Args:\n",
        "        results: Results from comprehensive_evaluation\n",
        "        class_names: List of class names\n",
        "        save_path: Path to save the plot\n",
        "    \"\"\"\n",
        "    test_results = results['test']\n",
        "\n",
        "    fig, axes = plt.subplots(2, 2, figsize=(15, 12))\n",
        "\n",
        "    # Confusion Matrix\n",
        "    cm = test_results['confusion_matrix']\n",
        "    sns.heatmap(cm, annot=True, fmt='d', cmap='Blues', ax=axes[0, 0],\n",
        "                xticklabels=class_names, yticklabels=class_names)\n",
        "    axes[0, 0].set_title('Confusion Matrix')\n",
        "    axes[0, 0].set_ylabel('True Label')\n",
        "    axes[0, 0].set_xlabel('Predicted Label')\n",
        "\n",
        "    # Prediction Distribution\n",
        "    axes[0, 1].hist(test_results['predictions'], bins=len(np.unique(test_results['predictions'])),\n",
        "                   alpha=0.7, color='skyblue', edgecolor='black')\n",
        "    axes[0, 1].set_title('Prediction Distribution')\n",
        "    axes[0, 1].set_xlabel('Predicted Class')\n",
        "    axes[0, 1].set_ylabel('Count')\n",
        "\n",
        "    # Confidence Distribution (if probabilities available)\n",
        "    if test_results['probabilities'] is not None:\n",
        "        max_probs = np.max(test_results['probabilities'], axis=1)\n",
        "        axes[1, 0].hist(max_probs, bins=50, alpha=0.7, color='lightgreen', edgecolor='black')\n",
        "        axes[1, 0].set_title('Prediction Confidence Distribution')\n",
        "        axes[1, 0].set_xlabel('Max Probability')\n",
        "        axes[1, 0].set_ylabel('Count')\n",
        "        axes[1, 0].axvline(x=np.mean(max_probs), color='red', linestyle='--',\n",
        "                          label=f'Mean: {np.mean(max_probs):.3f}')\n",
        "        axes[1, 0].legend()\n",
        "\n",
        "    # Per-class accuracy\n",
        "    per_class_acc = []\n",
        "    unique_classes = np.unique(test_results['true_labels'])\n",
        "    for cls in unique_classes:\n",
        "        mask = test_results['true_labels'] == cls\n",
        "        if np.sum(mask) > 0:\n",
        "            acc = np.mean(test_results['predictions'][mask] == test_results['true_labels'][mask])\n",
        "            per_class_acc.append(acc)\n",
        "        else:\n",
        "            per_class_acc.append(0)\n",
        "\n",
        "    class_labels = class_names if class_names else [f'Class {i}' for i in unique_classes]\n",
        "    axes[1, 1].bar(class_labels, per_class_acc, color='orange', alpha=0.7)\n",
        "    axes[1, 1].set_title('Per-Class Accuracy')\n",
        "    axes[1, 1].set_xlabel('Class')\n",
        "    axes[1, 1].set_ylabel('Accuracy')\n",
        "    axes[1, 1].tick_params(axis='x', rotation=45)\n",
        "\n",
        "    plt.tight_layout()\n",
        "\n",
        "    if save_path:\n",
        "        plt.savefig(save_path, dpi=300, bbox_inches='tight')\n",
        "\n",
        "    plt.show()\n",
        "\n",
        "def visualize_regression_results(results, save_path=None):\n",
        "    \"\"\"\n",
        "    Visualize regression results\n",
        "\n",
        "    Args:\n",
        "        results: Results from comprehensive_evaluation\n",
        "        save_path: Path to save the plot\n",
        "    \"\"\"\n",
        "    test_results = results['test']\n",
        "\n",
        "    fig, axes = plt.subplots(2, 2, figsize=(15, 10))\n",
        "\n",
        "    # Actual vs Predicted\n",
        "    axes[0, 0].scatter(test_results['true_labels'], test_results['predictions'],\n",
        "                      alpha=0.6, color='blue')\n",
        "\n",
        "    # Perfect prediction line\n",
        "    min_val = min(test_results['true_labels'].min(), test_results['predictions'].min())\n",
        "    max_val = max(test_results['true_labels'].max(), test_results['predictions'].max())\n",
        "    axes[0, 0].plot([min_val, max_val], [min_val, max_val], 'r--', lw=2)\n",
        "\n",
        "    axes[0, 0].set_title(f'Actual vs Predicted (R² = {test_results[\"r2_score\"]:.3f})')\n",
        "    axes[0, 0].set_xlabel('Actual Values')\n",
        "    axes[0, 0].set_ylabel('Predicted Values')\n",
        "    axes[0, 0].grid(True, alpha=0.3)\n",
        "\n",
        "    # Residuals\n",
        "    residuals = test_results['true_labels'] - test_results['predictions']\n",
        "    axes[0, 1].scatter(test_results['predictions'], residuals, alpha=0.6, color='green')\n",
        "    axes[0, 1].axhline(y=0, color='red', linestyle='--')\n",
        "    axes[0, 1].set_title('Residual Plot')\n",
        "    axes[0, 1].set_xlabel('Predicted Values')\n",
        "    axes[0, 1].set_ylabel('Residuals')\n",
        "    axes[0, 1].grid(True, alpha=0.3)\n",
        "\n",
        "    # Residuals histogram\n",
        "    axes[1, 0].hist(residuals, bins=50, alpha=0.7, color='purple', edgecolor='black')\n",
        "    axes[1, 0].set_title('Residuals Distribution')\n",
        "    axes[1, 0].set_xlabel('Residuals')\n",
        "    axes[1, 0].set_ylabel('Frequency')\n",
        "    axes[1, 0].axvline(x=0, color='red', linestyle='--')\n",
        "\n",
        "    # Error metrics visualization\n",
        "    metrics = ['MSE', 'RMSE', 'MAE']\n",
        "    values = [test_results['mse'], test_results['rmse'], test_results['mae']]\n",
        "\n",
        "    axes[1, 1].bar(metrics, values, color=['red', 'orange', 'yellow'], alpha=0.7)\n",
        "    axes[1, 1].set_title('Error Metrics')\n",
        "    axes[1, 1].set_ylabel('Error Value')\n",
        "\n",
        "    # Add value labels on bars\n",
        "    for i, v in enumerate(values):\n",
        "        axes[1, 1].text(i, v + max(values) * 0.01, f'{v:.3f}',\n",
        "                       ha='center', va='bottom')\n",
        "\n",
        "    plt.tight_layout()\n",
        "\n",
        "    if save_path:\n",
        "        plt.savefig(save_path, dpi=300, bbox_inches='tight')\n",
        "\n",
        "    plt.show()\n",
        "\n",
        "def create_model_summary_report(model, results, history, save_path=None):\n",
        "    \"\"\"\n",
        "    Create a comprehensive model summary report\n",
        "\n",
        "    Args:\n",
        "        model: Trained model\n",
        "        results: Evaluation results\n",
        "        history: Training history\n",
        "        save_path: Path to save the report\n",
        "    \"\"\"\n",
        "    report = []\n",
        "    report.append(\"=\" * 50)\n",
        "    report.append(\"MODEL SUMMARY REPORT\")\n",
        "    report.append(\"=\" * 50)\n",
        "\n",
        "    # Model architecture\n",
        "    report.append(\"\\n1. MODEL ARCHITECTURE:\")\n",
        "    report.append(\"-\" * 30)\n",
        "    total_params = sum(p.numel() for p in model.parameters())\n",
        "    trainable_params = sum(p.numel() for p in model.parameters() if p.requires_grad)\n",
        "\n",
        "    report.append(f\"Total parameters: {total_params:,}\")\n",
        "    report.append(f\"Trainable parameters: {trainable_params:,}\")\n",
        "    report.append(f\"Model size: {total_params * 4 / 1024 / 1024:.2f} MB (float32)\")\n",
        "\n",
        "    # Training summary\n",
        "    report.append(\"\\n2. TRAINING SUMMARY:\")\n",
        "    report.append(\"-\" * 30)\n",
        "    report.append(f\"Total epochs trained: {len(history['train_loss'])}\")\n",
        "    report.append(f\"Final training loss: {history['train_loss'][-1]:.4f}\")\n",
        "    report.append(f\"Final validation loss: {history['val_loss'][-1]:.4f}\")\n",
        "    report.append(f\"Best validation loss: {min(history['val_loss']):.4f}\")\n",
        "\n",
        "    if 'train_acc' in history:\n",
        "        report.append(f\"Final training accuracy: {history['train_acc'][-1]:.2f}%\")\n",
        "        report.append(f\"Final validation accuracy: {history['val_acc'][-1]:.2f}%\")\n",
        "        report.append(f\"Best validation accuracy: {max(history['val_acc']):.2f}%\")\n",
        "\n",
        "    # Performance metrics\n",
        "    report.append(\"\\n3. PERFORMANCE METRICS:\")\n",
        "    report.append(\"-\" * 30)\n",
        "\n",
        "    test_results = results['test']\n",
        "    if 'accuracy' in test_results:  # Classification\n",
        "        report.append(f\"Test Accuracy: {test_results['accuracy']:.4f}\")\n",
        "        report.append(f\"Test Precision: {test_results['precision']:.4f}\")\n",
        "        report.append(f\"Test Recall: {test_results['recall']:.4f}\")\n",
        "        report.append(f\"Test F1-Score: {test_results['f1_score']:.4f}\")\n",
        "    else:  # Regression\n",
        "        report.append(f\"Test MSE: {test_results['mse']:.4f}\")\n",
        "        report.append(f\"Test RMSE: {test_results['rmse']:.4f}\")\n",
        "        report.append(f\"Test MAE: {test_results['mae']:.4f}\")\n",
        "        report.append(f\"Test R² Score: {test_results['r2_score']:.4f}\")\n",
        "\n",
        "    # Overfitting analysis\n",
        "    report.append(\"\\n4. OVERFITTING ANALYSIS:\")\n",
        "    report.append(\"-\" * 30)\n",
        "    final_loss_diff = history['val_loss'][-1] - history['train_loss'][-1]\n",
        "    report.append(f\"Final loss difference (val - train): {final_loss_diff:.4f}\")\n",
        "\n",
        "    if final_loss_diff > 0.1:\n",
        "        report.append(\"⚠️  WARNING: Model may be overfitting\")\n",
        "    elif final_loss_diff < -0.05:\n",
        "        report.append(\"⚠️  WARNING: Model may be underfitting\")\n",
        "    else:\n",
        "        report.append(\"✅ Model appears well-fitted\")\n",
        "\n",
        "    # Recommendations\n",
        "    report.append(\"\\n5. RECOMMENDATIONS:\")\n",
        "    report.append(\"-\" * 30)\n",
        "\n",
        "    if final_loss_diff > 0.1:\n",
        "        report.append(\"• Consider increasing dropout rate\")\n",
        "        report.append(\"• Add more regularization\")\n",
        "        report.append(\"• Reduce model complexity\")\n",
        "        report.append(\"• Collect more training data\")\n",
        "    elif final_loss_diff < -0.05:\n",
        "        report.append(\"• Consider increasing model complexity\")\n",
        "        report.append(\"• Reduce regularization\")\n",
        "        report.append(\"• Train for more epochs\")\n",
        "        report.append(\"• Check for data quality issues\")\n",
        "    else:\n",
        "        report.append(\"• Model performance looks good\")\n",
        "        report.append(\"• Consider ensemble methods for further improvement\")\n",
        "\n",
        "    report_text = \"\\n\".join(report)\n",
        "    print(report_text)\n",
        "\n",
        "    if save_path:\n",
        "        with open(save_path, 'w') as f:\n",
        "            f.write(report_text)\n",
        "\n",
        "    return report_text\n"
      ],
      "metadata": {
        "id": "vRdDVj6Ynm9-"
      },
      "execution_count": 8,
      "outputs": []
    },
    {
      "cell_type": "code",
      "source": [
        "# 7. VISUALIZATION\n",
        "\n",
        "def visualize_training_history(history, save_path=None):\n",
        "    \"\"\"\n",
        "    Visualize training history\n",
        "\n",
        "    Args:\n",
        "        history: Training history dictionary\n",
        "        save_path: Path to save the plot\n",
        "    \"\"\"\n",
        "    fig, axes = plt.subplots(2, 2, figsize=(15, 10))\n",
        "\n",
        "    # Loss curves\n",
        "    axes[0, 0].plot(history['train_loss'], label='Train Loss', color='blue')\n",
        "    axes[0, 0].plot(history['val_loss'], label='Validation Loss', color='red')\n",
        "    axes[0, 0].set_title('Training and Validation Loss')\n",
        "    axes[0, 0].set_xlabel('Epoch')\n",
        "    axes[0, 0].set_ylabel('Loss')\n",
        "    axes[0, 0].legend()\n",
        "    axes[0, 0].grid(True)\n",
        "\n",
        "    # Accuracy curves (if available)\n",
        "    if 'train_acc' in history and 'val_acc' in history and history['train_acc'] and history['val_acc']:\n",
        "        axes[0, 1].plot(history['train_acc'], label='Train Accuracy', color='blue')\n",
        "        axes[0, 1].plot(history['val_acc'], label='Validation Accuracy', color='red')\n",
        "        axes[0, 1].set_title('Training and Validation Accuracy')\n",
        "        axes[0, 1].set_xlabel('Epoch')\n",
        "        axes[0, 1].set_ylabel('Accuracy (%)')\n",
        "        axes[0, 1].legend()\n",
        "        axes[0, 1].grid(True)\n",
        "    else:\n",
        "        axes[0, 1].text(0.5, 0.5, 'Accuracy not available\\n(Regression task or no data)',\n",
        "                       ha='center', va='center', transform=axes[0, 1].transAxes)\n",
        "        axes[0, 1].set_title('Accuracy (Not Available)')\n",
        "\n",
        "    # Learning rate schedule\n",
        "    axes[1, 0].plot(history['learning_rates'], color='green')\n",
        "    axes[1, 0].set_title('Learning Rate Schedule')\n",
        "    axes[1, 0].set_xlabel('Epoch')\n",
        "    axes[1, 0].set_ylabel('Learning Rate')\n",
        "    axes[1, 0].set_yscale('log')\n",
        "    axes[1, 0].grid(True)\n",
        "\n",
        "    # Loss difference (overfitting indicator)\n",
        "    if history['val_loss'] and history['train_loss']: # Ensure lists are not empty\n",
        "        loss_diff = np.array(history['val_loss']) - np.array(history['train_loss'])\n",
        "        axes[1, 1].plot(loss_diff, color='purple')\n",
        "        axes[1, 1].set_title('Overfitting Indicator (Val Loss - Train Loss)')\n",
        "        axes[1, 1].set_xlabel('Epoch')\n",
        "        axes[1, 1].set_ylabel('Loss Difference')\n",
        "        axes[1, 1].axhline(y=0, color='black', linestyle='--', alpha=0.5)\n",
        "        axes[1, 1].grid(True)\n",
        "    else:\n",
        "         axes[1, 1].text(0.5, 0.5, 'Loss difference not available',\n",
        "                       ha='center', va='center', transform=axes[1, 1].transAxes)\n",
        "         axes[1, 1].set_title('Overfitting Indicator (Not Available)')\n",
        "\n",
        "\n",
        "    plt.tight_layout()\n",
        "\n",
        "    if save_path:\n",
        "        plt.savefig(save_path, dpi=300, bbox_inches='tight')\n",
        "\n",
        "    plt.show()\n",
        "\n",
        "def visualize_classification_results(results, class_names=None, save_path=None):\n",
        "    \"\"\"\n",
        "    Visualize classification results\n",
        "\n",
        "    Args:\n",
        "        results: Results from comprehensive_evaluation\n",
        "        class_names: List of class names\n",
        "        save_path: Path to save the plot\n",
        "    \"\"\"\n",
        "    test_results = results['test']\n",
        "\n",
        "    # Ensure predictions and true_labels are in results before plotting\n",
        "    if 'predictions' not in test_results or 'true_labels' not in test_results:\n",
        "         print(\"Classification visualizations skipped: 'predictions' or 'true_labels' not found in results.\")\n",
        "         return\n",
        "\n",
        "    fig, axes = plt.subplots(2, 2, figsize=(15, 12))\n",
        "\n",
        "    # Confusion Matrix\n",
        "    if 'confusion_matrix' in test_results:\n",
        "        cm = test_results['confusion_matrix']\n",
        "        sns.heatmap(cm, annot=True, fmt='d', cmap='Blues', ax=axes[0, 0],\n",
        "                    xticklabels=class_names, yticklabels=class_names)\n",
        "        axes[0, 0].set_title('Confusion Matrix')\n",
        "        axes[0, 0].set_ylabel('True Label')\n",
        "        axes[0, 0].set_xlabel('Predicted Label')\n",
        "    else:\n",
        "         axes[0, 0].text(0.5, 0.5, 'Confusion Matrix not available',\n",
        "                       ha='center', va='center', transform=axes[0, 0].transAxes)\n",
        "         axes[0, 0].set_title('Confusion Matrix (Not Available)')\n",
        "\n",
        "\n",
        "    # Prediction Distribution\n",
        "    if len(test_results['predictions']) > 0:\n",
        "        axes[0, 1].hist(test_results['predictions'], bins=len(np.unique(test_results['predictions'])),\n",
        "                       alpha=0.7, color='skyblue', edgecolor='black')\n",
        "        axes[0, 1].set_title('Prediction Distribution')\n",
        "        axes[0, 1].set_xlabel('Predicted Class')\n",
        "        axes[0, 1].set_ylabel('Count')\n",
        "    else:\n",
        "        axes[0, 1].text(0.5, 0.5, 'Prediction Distribution not available\\n(No predictions)',\n",
        "                       ha='center', va='center', transform=axes[0, 1].transAxes)\n",
        "        axes[0, 1].set_title('Prediction Distribution (Not Available)')\n",
        "\n",
        "\n",
        "    # Confidence Distribution (if probabilities available)\n",
        "    if test_results.get('probabilities') is not None and len(test_results['probabilities']) > 0:\n",
        "        max_probs = np.max(test_results['probabilities'], axis=1)\n",
        "        axes[1, 0].hist(max_probs, bins=50, alpha=0.7, color='lightgreen', edgecolor='black')\n",
        "        axes[1, 0].set_title('Prediction Confidence Distribution')\n",
        "        axes[1, 0].set_xlabel('Max Probability')\n",
        "        axes[1, 0].set_ylabel('Count')\n",
        "        if len(max_probs) > 0: # Prevent calculating mean of empty array\n",
        "             axes[1, 0].axvline(x=np.mean(max_probs), color='red', linestyle='--',\n",
        "                              label=f'Mean: {np.mean(max_probs):.3f}')\n",
        "             axes[1, 0].legend()\n",
        "    else:\n",
        "         axes[1, 0].text(0.5, 0.5, 'Confidence Distribution not available',\n",
        "                       ha='center', va='center', transform=axes[1, 0].transAxes)\n",
        "         axes[1, 0].set_title('Prediction Confidence Distribution (Not Available)')\n",
        "\n",
        "\n",
        "    # Per-class accuracy\n",
        "    if len(test_results['true_labels']) > 0 and len(test_results['predictions']) == len(test_results['true_labels']):\n",
        "        per_class_acc = []\n",
        "        unique_classes = np.unique(test_results['true_labels'])\n",
        "        for cls in unique_classes:\n",
        "            mask = test_results['true_labels'] == cls\n",
        "            if np.sum(mask) > 0:\n",
        "                acc = np.mean(test_results['predictions'][mask] == test_results['true_labels'][mask])\n",
        "                per_class_acc.append(acc)\n",
        "            else:\n",
        "                per_class_acc.append(0)\n",
        "\n",
        "        if per_class_acc: # Check if list is not empty before plotting\n",
        "            class_labels = class_names if class_names else [f'Class {i}' for i in unique_classes]\n",
        "            axes[1, 1].bar(class_labels, per_class_acc, color='orange', alpha=0.7)\n",
        "            axes[1, 1].set_title('Per-Class Accuracy')\n",
        "            axes[1, 1].set_xlabel('Class')\n",
        "            axes[1, 1].set_ylabel('Accuracy')\n",
        "            axes[1, 1].tick_params(axis='x', rotation=45)\n",
        "        else:\n",
        "            axes[1, 1].text(0.5, 0.5, 'Per-Class Accuracy not available',\n",
        "                           ha='center', va='center', transform=axes[1, 1].transAxes)\n",
        "            axes[1, 1].set_title('Per-Class Accuracy (Not Available)')\n",
        "\n",
        "    else:\n",
        "        axes[1, 1].text(0.5, 0.5, 'Per-Class Accuracy not available\\n(Data mismatch or empty)',\n",
        "                       ha='center', va='center', transform=axes[1, 1].transAxes)\n",
        "        axes[1, 1].set_title('Per-Class Accuracy (Not Available)')\n",
        "\n",
        "\n",
        "    plt.tight_layout()\n",
        "\n",
        "    if save_path:\n",
        "        plt.savefig(save_path, dpi=300, bbox_inches='tight')\n",
        "\n",
        "    plt.show()\n",
        "\n",
        "def visualize_regression_results(results, save_path=None):\n",
        "    \"\"\"\n",
        "    Visualize regression results\n",
        "\n",
        "    Args:\n",
        "        results: Results from comprehensive_evaluation\n",
        "        save_path: Path to save the plot\n",
        "    \"\"\"\n",
        "    test_results = results['test']\n",
        "\n",
        "    # Ensure predictions and true_labels are in results before plotting\n",
        "    if 'predictions' not in test_results or 'true_labels' not in test_results:\n",
        "         print(\"Regression visualizations skipped: 'predictions' or 'true_labels' not found in results.\")\n",
        "         return\n",
        "\n",
        "    # Ensure the arrays are not empty before proceeding\n",
        "    if len(test_results['predictions']) == 0 or len(test_results['true_labels']) == 0:\n",
        "         print(\"Regression visualizations skipped: Predictions or true labels are empty.\")\n",
        "         return\n",
        "\n",
        "\n",
        "    fig, axes = plt.subplots(2, 2, figsize=(15, 10))\n",
        "\n",
        "    # Actual vs Predicted\n",
        "    if len(test_results['true_labels']) > 0 and len(test_results['predictions']) == len(test_results['true_labels']):\n",
        "        axes[0, 0].scatter(test_results['true_labels'], test_results['predictions'],\n",
        "                          alpha=0.6, color='blue')\n",
        "\n",
        "        # Perfect prediction line\n",
        "        min_val = min(test_results['true_labels'].min(), test_results['predictions'].min())\n",
        "        max_val = max(test_results['true_labels'].max(), test_results['predictions'].max())\n",
        "        axes[0, 0].plot([min_val, max_val], [min_val, max_val], 'r--', lw=2)\n",
        "\n",
        "        r2_score_val = test_results.get('r2_score', 'N/A') # Handle case where R2 is not calculated\n",
        "        axes[0, 0].set_title(f'Actual vs Predicted (R² = {r2_score_val:.3f})' if isinstance(r2_score_val, (int, float)) else 'Actual vs Predicted (R² N/A)')\n",
        "        axes[0, 0].set_xlabel('Actual Values')\n",
        "        axes[0, 0].set_ylabel('Predicted Values')\n",
        "        axes[0, 0].grid(True, alpha=0.3)\n",
        "    else:\n",
        "        axes[0, 0].text(0.5, 0.5, 'Actual vs Predicted plot not available\\n(Data mismatch or empty)',\n",
        "                       ha='center', va='center', transform=axes[0, 0].transAxes)\n",
        "        axes[0, 0].set_title('Actual vs Predicted (Not Available)')\n",
        "\n",
        "\n",
        "    # Residuals\n",
        "    if len(test_results['true_labels']) > 0 and len(test_results['predictions']) == len(test_results['true_labels']):\n",
        "        residuals = np.array(test_results['true_labels']) - np.array(test_results['predictions']) # Ensure arrays\n",
        "        axes[0, 1].scatter(test_results['predictions'], residuals, alpha=0.6, color='green')\n",
        "        axes[0, 1].axhline(y=0, color='red', linestyle='--')\n",
        "        axes[0, 1].set_title('Residual Plot')\n",
        "        axes[0, 1].set_xlabel('Predicted Values')\n",
        "        axes[0, 1].set_ylabel('Residuals')\n",
        "        axes[0, 1].grid(True, alpha=0.3)\n",
        "    else:\n",
        "         axes[0, 1].text(0.5, 0.5, 'Residual Plot not available\\n(Data mismatch or empty)',\n",
        "                       ha='center', va='center', transform=axes[0, 1].transAxes)\n",
        "         axes[0, 1].set_title('Residual Plot (Not Available)')\n",
        "\n",
        "\n",
        "    # Residuals histogram\n",
        "    if len(test_results['true_labels']) > 0 and len(test_results['predictions']) == len(test_results['true_labels']):\n",
        "        residuals = np.array(test_results['true_labels']) - np.array(test_results['predictions']) # Ensure arrays\n",
        "        axes[1, 0].hist(residuals, bins=50, alpha=0.7, color='purple', edgecolor='black')\n",
        "        axes[1, 0].set_title('Residuals Distribution')\n",
        "        axes[1, 0].set_xlabel('Residuals')\n",
        "        axes[1, 0].set_ylabel('Frequency')\n",
        "        axes[1, 0].axvline(x=0, color='red', linestyle='--')\n",
        "    else:\n",
        "         axes[1, 0].text(0.5, 0.5, 'Residuals Distribution not available\\n(Data mismatch or empty)',\n",
        "                       ha='center', va='center', transform=axes[1, 0].transAxes)\n",
        "         axes[1, 0].set_title('Residuals Distribution (Not Available)')\n",
        "\n",
        "\n",
        "    # Error metrics visualization\n",
        "    metrics = ['MSE', 'RMSE', 'MAE']\n",
        "    values = [test_results.get('mse'), test_results.get('rmse'), test_results.get('mae')]\n",
        "    # Filter out None values if metrics were not calculated\n",
        "    valid_metrics = [(m, v) for m, v in zip(metrics, values) if v is not None]\n",
        "\n",
        "    if valid_metrics:\n",
        "        metric_names, metric_values = zip(*valid_metrics)\n",
        "        axes[1, 1].bar(metric_names, metric_values, color=['red', 'orange', 'yellow'][:len(valid_metrics)], alpha=0.7)\n",
        "        axes[1, 1].set_title('Error Metrics')\n",
        "        axes[1, 1].set_ylabel('Error Value')\n",
        "\n",
        "        # Add value labels on bars\n",
        "        for i, v in enumerate(metric_values):\n",
        "            axes[1, 1].text(i, v + max(metric_values) * 0.01, f'{v:.3f}',\n",
        "                           ha='center', va='bottom')\n",
        "    else:\n",
        "         axes[1, 1].text(0.5, 0.5, 'Error metrics not available',\n",
        "                       ha='center', va='center', transform=axes[1, 1].transAxes)\n",
        "         axes[1, 1].set_title('Error Metrics (Not Available)')\n",
        "\n",
        "\n",
        "    plt.tight_layout()\n",
        "\n",
        "    if save_path:\n",
        "        plt.savefig(save_path, dpi=300, bbox_inches='tight')\n",
        "\n",
        "    plt.show()\n",
        "\n",
        "def create_model_summary_report(model, results, history, save_path=None):\n",
        "    \"\"\"\n",
        "    Create a comprehensive model summary report\n",
        "\n",
        "    Args:\n",
        "        model: Trained model\n",
        "        results: Evaluation results\n",
        "        history: Training history\n",
        "        save_path: Path to save the report\n",
        "    \"\"\"\n",
        "    report = []\n",
        "    report.append(\"=\" * 50)\n",
        "    report.append(\"MODEL SUMMARY REPORT\")\n",
        "    report.append(\"=\" * 50)\n",
        "\n",
        "    # Model architecture\n",
        "    report.append(\"\\n1. MODEL ARCHITECTURE:\")\n",
        "    report.append(\"-\" * 30)\n",
        "    total_params = sum(p.numel() for p in model.parameters())\n",
        "    trainable_params = sum(p.numel() for p in model.parameters() if p.requires_grad)\n",
        "\n",
        "    report.append(f\"Total parameters: {total_params:,}\")\n",
        "    report.append(f\"Trainable parameters: {trainable_params:,}\")\n",
        "    report.append(f\"Model size: {total_params * 4 / 1024 / 1024:.2f} MB (float32)\")\n",
        "\n",
        "    # Training summary\n",
        "    report.append(\"\\n2. TRAINING SUMMARY:\")\n",
        "    report.append(\"-\" * 30)\n",
        "    report.append(f\"Total epochs trained: {len(history.get('train_loss', []))}\") # Use .get with default empty list\n",
        "    # Access last element only if list is not empty\n",
        "    report.append(f\"Final training loss: {history['train_loss'][-1]:.4f}\" if history.get('train_loss') else \"N/A\")\n",
        "    report.append(f\"Final validation loss: {history['val_loss'][-1]:.4f}\" if history.get('val_loss') else \"N/A\")\n",
        "    report.append(f\"Best validation loss: {min(history['val_loss']):.4f}\" if history.get('val_loss') else \"N/A\")\n",
        "\n",
        "\n",
        "    # Add checks for empty lists before accessing elements\n",
        "    if 'train_acc' in history and history['train_acc'] and 'val_acc' in history and history['val_acc']:\n",
        "        report.append(f\"Final training accuracy: {history['train_acc'][-1]:.2f}%\")\n",
        "        report.append(f\"Final validation accuracy: {history['val_acc'][-1]:.2f}%\")\n",
        "        report.append(f\"Best validation accuracy: {max(history['val_acc']):.2f}%\")\n",
        "    elif 'train_acc' in history or 'val_acc' in history:\n",
        "         report.append(\"Accuracy data available but empty or incomplete.\")\n",
        "    else:\n",
        "         report.append(\"Accuracy data not available (Regression task).\")\n",
        "\n",
        "\n",
        "    # Performance metrics\n",
        "    report.append(\"\\n3. PERFORMANCE METRICS:\")\n",
        "    report.append(\"-\" * 30)\n",
        "\n",
        "    test_results = results.get('test', {}) # Use .get with default empty dict\n",
        "    if 'accuracy' in test_results:  # Classification\n",
        "        report.append(f\"Test Accuracy: {test_results.get('accuracy', 'N/A'):.4f}\")\n",
        "        report.append(f\"Test Precision: {test_results.get('precision', 'N/A'):.4f}\")\n",
        "        report.append(f\"Test Recall: {test_results.get('recall', 'N/A'):.4f}\")\n",
        "        report.append(f\"Test F1-Score: {test_results.get('f1_score', 'N/A'):.4f}\")\n",
        "    elif test_results: # Regression or other task if test_results is not empty\n",
        "        report.append(f\"Test MSE: {test_results.get('mse', 'N/A'):.4f}\")\n",
        "        report.append(f\"Test RMSE: {test_results.get('rmse', 'N/A'):.4f}\")\n",
        "        report.append(f\"Test MAE: {test_results.get('mae', 'N/A'):.4f}\")\n",
        "        report.append(f\"Test R² Score: {test_results.get('r2_score', 'N/A'):.4f}\")\n",
        "    else:\n",
        "        report.append(\"Test results not available.\")\n",
        "\n",
        "\n",
        "    # Overfitting analysis - Only if loss history is available and not empty\n",
        "    report.append(\"\\n4. OVERFITTING ANALYSIS:\")\n",
        "    report.append(\"-\" * 30)\n",
        "    if history.get('val_loss') and history.get('train_loss') and len(history['val_loss']) > 0 and len(history['train_loss']) > 0:\n",
        "        final_loss_diff = history['val_loss'][-1] - history['train_loss'][-1]\n",
        "        report.append(f\"Final loss difference (val - train): {final_loss_diff:.4f}\")\n",
        "\n",
        "        if final_loss_diff > 0.1:\n",
        "            report.append(\"⚠️  WARNING: Model may be overfitting\")\n",
        "        elif final_loss_diff < -0.05:\n",
        "            report.append(\"⚠️  WARNING: Model may be underfitting\")\n",
        "        else:\n",
        "            report.append(\"✅ Model appears well-fitted\")\n",
        "    else:\n",
        "        report.append(\"Overfitting analysis not available (Loss history missing or empty).\")\n",
        "\n",
        "\n",
        "    # Recommendations\n",
        "    report.append(\"\\n5. RECOMMENDATIONS:\")\n",
        "    report.append(\"-\" * 30)\n",
        "\n",
        "    # Provide recommendations only if overfitting analysis was possible\n",
        "    if history.get('val_loss') and history.get('train_loss') and len(history['val_loss']) > 0 and len(history['train_loss']) > 0:\n",
        "        final_loss_diff = history['val_loss'][-1] - history['train_loss'][-1]\n",
        "        if final_loss_diff > 0.1:\n",
        "            report.append(\"• Consider increasing dropout rate\")\n",
        "            report.append(\"• Add more regularization\")\n",
        "            report.append(\"• Reduce model complexity\")\n",
        "            report.append(\"• Collect more training data\")\n",
        "        elif final_loss_diff < -0.05:\n",
        "            report.append(\"• Consider increasing model complexity\")\n",
        "            report.append(\"• Reduce regularization\")\n",
        "            report.append(\"• Train for more epochs\")\n",
        "            report.append(\"• Check for data quality issues\")\n",
        "        else:\n",
        "            report.append(\"• Model performance looks good\")\n",
        "            report.append(\"• Consider ensemble methods for further improvement\")\n",
        "    else:\n",
        "        report.append(\"Recommendations based on overfitting analysis are not available.\")\n",
        "\n",
        "\n",
        "    report_text = \"\\n\".join(report)\n",
        "    print(report_text)\n",
        "\n",
        "    if save_path:\n",
        "        with open(save_path, 'w') as f:\n",
        "            f.write(report_text)\n",
        "\n",
        "    return report_text\n"
      ],
      "metadata": {
        "id": "JzwP4K4BlVcY"
      },
      "execution_count": 16,
      "outputs": []
    },
    {
      "cell_type": "markdown",
      "source": [
        "## **8. COMPLETE WORKFLOW FUNCTION:**"
      ],
      "metadata": {
        "id": "b7IF5C2Ppkea"
      }
    },
    {
      "cell_type": "code",
      "source": [
        "# COMPLETE WORKFLOW FUNCTION\n",
        "\n",
        "def complete_training_workflow(X, y, task_type='classification',\n",
        "                             model_config=None, training_config=None,\n",
        "                             class_names=None, save_dir=None):\n",
        "    \"\"\"\n",
        "    Complete end-to-end training workflow\n",
        "\n",
        "    Args:\n",
        "        X: Input features\n",
        "        y: Target labels\n",
        "        task_type: 'classification' or 'regression'\n",
        "        model_config: Dictionary with model configuration\n",
        "        training_config: Dictionary with training configuration\n",
        "        class_names: List of class names for classification\n",
        "        save_dir: Directory to save results\n",
        "\n",
        "    Returns:\n",
        "        model, results, history\n",
        "    \"\"\"\n",
        "\n",
        "    # Default configurations\n",
        "    if model_config is None:\n",
        "        model_config = {\n",
        "            'hidden_sizes': [128, 64],\n",
        "            'dropout_rate': 0.2,\n",
        "            'activation': 'relu',\n",
        "            'batch_norm': True\n",
        "        }\n",
        "\n",
        "    if training_config is None:\n",
        "        training_config = {\n",
        "            'num_epochs': 100,\n",
        "            'learning_rate': 0.001,\n",
        "            'batch_size': 32,\n",
        "            'patience': 10,\n",
        "            'test_size': 0.2,\n",
        "            'val_size': 0.1\n",
        "        }\n",
        "\n",
        "    print(\"Starting complete training workflow...\")\n",
        "    print(f\"Task type: {task_type}\")\n",
        "    print(f\"Data shape: {X.shape}\")\n",
        "\n",
        "    # 1. Data preparation\n",
        "    print(\"\\n1. Preparing data...\")\n",
        "    X_processed, y_processed = preprocess_data(X, y, scale_features=True)\n",
        "\n",
        "    train_loader, val_loader, test_loader, input_size, num_classes = prepare_data(\n",
        "        X_processed, y_processed,\n",
        "        test_size=training_config['test_size'],\n",
        "        val_size=training_config['val_size'],\n",
        "        batch_size=training_config['batch_size']\n",
        "    )\n",
        "\n",
        "    # 2. Model creation\n",
        "    print(\"\\n2. Creating model...\")\n",
        "    model = create_model(\n",
        "        input_size=input_size,\n",
        "        num_classes=num_classes,\n",
        "        hidden_sizes=model_config['hidden_sizes'],\n",
        "        dropout_rate=model_config['dropout_rate'],\n",
        "        activation=model_config['activation'],\n",
        "        batch_norm=model_config['batch_norm'],\n",
        "        task_type=task_type\n",
        "    )\n",
        "\n",
        "    print(f\"Model created with {sum(p.numel() for p in model.parameters()):,} parameters\")\n",
        "\n",
        "    # 3. Model training\n",
        "    print(\"\\n3. Training model...\")\n",
        "    model, history = train_model(\n",
        "        model=model,\n",
        "        train_loader=train_loader,\n",
        "        val_loader=val_loader,\n",
        "        num_epochs=training_config['num_epochs'],\n",
        "        learning_rate=training_config['learning_rate'],\n",
        "        task_type=task_type,\n",
        "        patience=training_config['patience']\n",
        "    )\n",
        "\n",
        "    # 4. Comprehensive evaluation\n",
        "    print(\"\\n4. Evaluating model...\")\n",
        "    results = comprehensive_evaluation(\n",
        "        model=model,\n",
        "        test_loader=test_loader,\n",
        "        val_loader=val_loader,\n",
        "        task_type=task_type,\n",
        "        class_names=class_names\n",
        "    )\n",
        "\n",
        "    # 5. Visualization\n",
        "    print(\"\\n5. Creating visualizations...\")\n",
        "\n",
        "    # Training history visualization\n",
        "    visualize_training_history(history,\n",
        "                             save_path=f\"{save_dir}/training_history.png\" if save_dir else None)\n",
        "\n",
        "    # Task-specific visualizations\n",
        "    if task_type == 'classification':\n",
        "        visualize_classification_results(results, class_names=class_names,\n",
        "                                       save_path=f\"{save_dir}/classification_results.png\" if save_dir else None)\n",
        "    else:\n",
        "        visualize_regression_results(results,\n",
        "                                   save_path=f\"{save_dir}/regression_results.png\" if save_dir else None)\n",
        "\n",
        "    # 6. Generate summary report\n",
        "    print(\"\\n6. Generating summary report...\")\n",
        "    create_model_summary_report(model, results, history,\n",
        "                              save_path=f\"{save_dir}/model_report.txt\" if save_dir else None)\n",
        "\n",
        "    # 7. Save model\n",
        "    if save_dir:\n",
        "        os.makedirs(save_dir, exist_ok=True)\n",
        "        torch.save(model.state_dict(), f\"{save_dir}/model_weights.pth\")\n",
        "\n",
        "        # Save configuration\n",
        "        config = {\n",
        "            'model_config': model_config,\n",
        "            'training_config': training_config,\n",
        "            'input_size': input_size,\n",
        "            'num_classes': num_classes,\n",
        "            'task_type': task_type\n",
        "        }\n",
        "        with open(f\"{save_dir}/config.json\", 'w') as f:\n",
        "            json.dump(config, f, indent=2)\n",
        "\n",
        "        print(f\"Model and results saved to: {save_dir}\")\n",
        "\n",
        "    return model, results, history\n"
      ],
      "metadata": {
        "id": "m45fTljbnwP2"
      },
      "execution_count": 9,
      "outputs": []
    },
    {
      "cell_type": "markdown",
      "source": [
        "**If the directory is not created already then, use the following code instead:**"
      ],
      "metadata": {
        "id": "x9oWyJtFrN01"
      }
    },
    {
      "cell_type": "code",
      "source": [
        "def complete_training_workflow(X, y, task_type='classification',\n",
        "                             model_config=None, training_config=None,\n",
        "                             class_names=None, save_dir=None):\n",
        "    \"\"\"\n",
        "    Complete end-to-end training workflow\n",
        "\n",
        "    Args:\n",
        "        X: Input features\n",
        "        y: Target labels\n",
        "        task_type: 'classification' or 'regression'\n",
        "        model_config: Dictionary with model configuration\n",
        "        training_config: Dictionary with training configuration\n",
        "        class_names: List of class names for classification\n",
        "        save_dir: Directory to save results\n",
        "\n",
        "    Returns:\n",
        "        model, results, history\n",
        "    \"\"\"\n",
        "\n",
        "    # Default configurations\n",
        "    if model_config is None:\n",
        "        model_config = {\n",
        "            'hidden_sizes': [128, 64],\n",
        "            'dropout_rate': 0.2,\n",
        "            'activation': 'relu',\n",
        "            'batch_norm': True\n",
        "        }\n",
        "\n",
        "    if training_config is None:\n",
        "        training_config = {\n",
        "            'num_epochs': 100,\n",
        "            'learning_rate': 0.001,\n",
        "            'batch_size': 32,\n",
        "            'patience': 10,\n",
        "            'test_size': 0.2,\n",
        "            'val_size': 0.1\n",
        "        }\n",
        "\n",
        "    print(\"Starting complete training workflow...\")\n",
        "    print(f\"Task type: {task_type}\")\n",
        "    print(f\"Data shape: {X.shape}\")\n",
        "\n",
        "    # Create save directory if provided\n",
        "    if save_dir:\n",
        "        os.makedirs(save_dir, exist_ok=True)\n",
        "        print(f\"Results will be saved to: {save_dir}\")\n",
        "\n",
        "    # 1. Data preparation\n",
        "    print(\"\\n1. Preparing data...\")\n",
        "    X_processed, y_processed = preprocess_data(X, y, scale_features=True)\n",
        "\n",
        "    train_loader, val_loader, test_loader, input_size, num_classes = prepare_data(\n",
        "        X_processed, y_processed,\n",
        "        test_size=training_config['test_size'],\n",
        "        val_size=training_config['val_size'],\n",
        "        batch_size=training_config['batch_size']\n",
        "    )\n",
        "\n",
        "    # 2. Model creation\n",
        "    print(\"\\n2. Creating model...\")\n",
        "    model = create_model(\n",
        "        input_size=input_size,\n",
        "        num_classes=num_classes,\n",
        "        hidden_sizes=model_config['hidden_sizes'],\n",
        "        dropout_rate=model_config['dropout_rate'],\n",
        "        activation=model_config['activation'],\n",
        "        batch_norm=model_config['batch_norm'],\n",
        "        task_type=task_type\n",
        "    )\n",
        "\n",
        "    print(f\"Model created with {sum(p.numel() for p in model.parameters()):,} parameters\")\n",
        "\n",
        "    # 3. Model training\n",
        "    print(\"\\n3. Training model...\")\n",
        "    model, history = train_model(\n",
        "        model=model,\n",
        "        train_loader=train_loader,\n",
        "        val_loader=val_loader,\n",
        "        num_epochs=training_config['num_epochs'],\n",
        "        learning_rate=training_config['learning_rate'],\n",
        "        task_type=task_type,\n",
        "        patience=training_config['patience']\n",
        "    )\n",
        "\n",
        "    # 4. Comprehensive evaluation\n",
        "    print(\"\\n4. Evaluating model...\")\n",
        "    results = comprehensive_evaluation(\n",
        "        model=model,\n",
        "        test_loader=test_loader,\n",
        "        val_loader=val_loader,\n",
        "        task_type=task_type,\n",
        "        class_names=class_names\n",
        "    )\n",
        "\n",
        "    # 5. Visualization\n",
        "    print(\"\\n5. Creating visualizations...\")\n",
        "\n",
        "    # Training history visualization\n",
        "    visualize_training_history(history,\n",
        "                             save_path=f\"{save_dir}/training_history.png\" if save_dir else None)\n",
        "\n",
        "    # Task-specific visualizations\n",
        "    if task_type == 'classification':\n",
        "        visualize_classification_results(results, class_names=class_names,\n",
        "                                       save_path=f\"{save_dir}/classification_results.png\" if save_dir else None)\n",
        "    else:\n",
        "        visualize_regression_results(results,\n",
        "                                   save_path=f\"{save_dir}/regression_results.png\" if save_dir else None)\n",
        "\n",
        "    # 6. Generate summary report\n",
        "    print(\"\\n6. Generating summary report...\")\n",
        "    create_model_summary_report(model, results, history,\n",
        "                              save_path=f\"{save_dir}/model_report.txt\" if save_dir else None)\n",
        "\n",
        "    # 7. Save model and configuration (This block remains the same)\n",
        "    if save_dir:\n",
        "        torch.save(model.state_dict(), f\"{save_dir}/model_weights.pth\")\n",
        "\n",
        "        # Save configuration\n",
        "        config = {\n",
        "            'model_config': model_config,\n",
        "            'training_config': training_config,\n",
        "            'input_size': input_size,\n",
        "            'num_classes': num_classes,\n",
        "            'task_type': task_type\n",
        "        }\n",
        "        with open(f\"{save_dir}/config.json\", 'w') as f:\n",
        "            json.dump(config, f, indent=2)\n",
        "\n",
        "        print(f\"Model and results successfully saved to: {save_dir}\")\n",
        "\n",
        "    return model, results, history\n"
      ],
      "metadata": {
        "id": "pSRRtgewrJSl"
      },
      "execution_count": 13,
      "outputs": []
    },
    {
      "cell_type": "markdown",
      "source": [
        "## **9. EXAMPLE USAGE:**"
      ],
      "metadata": {
        "id": "M4XRdp9xpq-d"
      }
    },
    {
      "cell_type": "code",
      "source": [
        "# EXAMPLE USAGE\n",
        "\n",
        "def example_usage():\n",
        "    \"\"\"\n",
        "    Example of how to use the framework\n",
        "    \"\"\"\n",
        "    # Generate example data\n",
        "    from sklearn.datasets import make_classification, make_regression\n",
        "\n",
        "    print(\"=== CLASSIFICATION EXAMPLE ===\")\n",
        "\n",
        "    # Classification data\n",
        "    X_cls, y_cls = make_classification(\n",
        "        n_samples=1000, n_features=20, n_classes=3,\n",
        "        n_informative=15, n_redundant=5, random_state=42\n",
        "    )\n",
        "\n",
        "    # Run classification workflow\n",
        "    model_cls, results_cls, history_cls = complete_training_workflow(\n",
        "        X=X_cls,\n",
        "        y=y_cls,\n",
        "        task_type='classification',\n",
        "        class_names=['Class A', 'Class B', 'Class C'],\n",
        "        save_dir='classification_results'\n",
        "    )\n",
        "\n",
        "    print(\"\\n\" + \"=\"*50)\n",
        "    print(\"=== REGRESSION EXAMPLE ===\")\n",
        "\n",
        "    # Regression data\n",
        "    X_reg, y_reg = make_regression(\n",
        "        n_samples=1000, n_features=10, noise=0.1, random_state=42\n",
        "    )\n",
        "\n",
        "    # Run regression workflow\n",
        "    model_reg, results_reg, history_reg = complete_training_workflow(\n",
        "        X=X_reg,\n",
        "        y=y_reg,\n",
        "        task_type='regression',\n",
        "        save_dir='regression_results'\n",
        "    )\n"
      ],
      "metadata": {
        "id": "Mqs1Fzqxn2DX"
      },
      "execution_count": 10,
      "outputs": []
    },
    {
      "cell_type": "markdown",
      "source": [
        "## **10. UTILITY FUNCTIONS:**"
      ],
      "metadata": {
        "id": "aRCaqP8JpxnC"
      }
    },
    {
      "cell_type": "code",
      "source": [
        "def debug_data_loader(data_loader, name=\"DataLoader\"):\n",
        "    \"\"\"\n",
        "    Debug function to inspect data loader\n",
        "    \"\"\"\n",
        "    print(f\"\\n=== Debugging {name} ===\")\n",
        "    print(f\"Number of batches: {len(data_loader)}\")\n",
        "    print(f\"Batch size: {data_loader.batch_size}\")\n",
        "\n",
        "    total_samples = 0\n",
        "    for i, (data, target) in enumerate(data_loader):\n",
        "        batch_size = data.shape[0]\n",
        "        total_samples += batch_size\n",
        "\n",
        "        if i < 3:  # Print first few batches\n",
        "            print(f\"Batch {i}: data shape {data.shape}, target shape {target.shape}\")\n",
        "\n",
        "        if i == 0:\n",
        "            print(f\"Data dtype: {data.dtype}, Target dtype: {target.dtype}\")\n",
        "\n",
        "    print(f\"Total samples in loader: {total_samples}\")\n",
        "    print(\"=\" * 30)\n",
        "\n",
        "# Additional helper function to verify data consistency\n",
        "def verify_data_consistency(train_loader, val_loader, test_loader):\n",
        "    \"\"\"\n",
        "    Verify that data loaders are consistent\n",
        "    \"\"\"\n",
        "    print(\"\\n=== VERIFYING DATA CONSISTENCY ===\")\n",
        "\n",
        "    debug_data_loader(train_loader, \"Train Loader\")\n",
        "    debug_data_loader(val_loader, \"Validation Loader\")\n",
        "    debug_data_loader(test_loader, \"Test Loader\")\n",
        "\n",
        "    # Check if batch sizes and shapes are consistent\n",
        "    train_batch = next(iter(train_loader))\n",
        "    val_batch = next(iter(val_loader))\n",
        "    test_batch = next(iter(test_loader))\n",
        "\n",
        "    print(f\"Sample batch shapes:\")\n",
        "    print(f\"Train: data {train_batch[0].shape}, target {train_batch[1].shape}\")\n",
        "    print(f\"Val: data {val_batch[0].shape}, target {val_batch[1].shape}\")\n",
        "    print(f\"Test: data {test_batch[0].shape}, target {test_batch[1].shape}\")\n",
        "\n",
        "    return True\n",
        "\n",
        "# Usage example with debugging\n",
        "def test_fixed_functions():\n",
        "    \"\"\"\n",
        "    Test the fixed functions with debugging\n",
        "    \"\"\"\n",
        "    from sklearn.datasets import make_regression\n",
        "    from torch.utils.data import TensorDataset, DataLoader\n",
        "    import torch.nn as nn\n",
        "\n",
        "    # Create sample data\n",
        "    X, y = make_regression(n_samples=1000, n_features=10, noise=0.1, random_state=42)\n",
        "\n",
        "    # Convert to tensors\n",
        "    X_tensor = torch.FloatTensor(X)\n",
        "    y_tensor = torch.FloatTensor(y)\n",
        "\n",
        "    # Create dataset and loader\n",
        "    dataset = TensorDataset(X_tensor, y_tensor)\n",
        "    test_loader = DataLoader(dataset, batch_size=32, shuffle=False)\n",
        "\n",
        "    # Debug the data loader\n",
        "    debug_data_loader(test_loader, \"Test Loader\")\n",
        "\n",
        "    # Create simple model\n",
        "    class SimpleModel(nn.Module):\n",
        "        def __init__(self, input_size):\n",
        "            super().__init__()\n",
        "            self.fc = nn.Linear(input_size, 1)\n",
        "\n",
        "        def forward(self, x):\n",
        "            return self.fc(x)\n",
        "\n",
        "    model = SimpleModel(10)\n",
        "\n",
        "    # Test prediction function\n",
        "    try:\n",
        "        predictions, true_labels, _ = make_predictions(model, test_loader, task_type='regression')\n",
        "        print(f\"Predictions successful! Shape: {predictions.shape}\")\n",
        "\n",
        "        # Test evaluation\n",
        "        results = evaluate_model(model, test_loader, task_type='regression')\n",
        "        print(\"Evaluation successful!\")\n",
        "\n",
        "    except Exception as e:\n",
        "        print(f\"Test failed: {e}\")\n",
        "        import traceback\n",
        "        traceback.print_exc()\n",
        "\n",
        "if __name__ == \"__main__\":\n",
        "    test_fixed_functions()"
      ],
      "metadata": {
        "colab": {
          "base_uri": "https://localhost:8080/"
        },
        "id": "cqPZlqdu6pXn",
        "outputId": "16a84e99-4857-4f99-eb0a-e39158febcc9"
      },
      "execution_count": 19,
      "outputs": [
        {
          "output_type": "stream",
          "name": "stdout",
          "text": [
            "\n",
            "=== Debugging Test Loader ===\n",
            "Number of batches: 32\n",
            "Batch size: 32\n",
            "Batch 0: data shape torch.Size([32, 10]), target shape torch.Size([32])\n",
            "Data dtype: torch.float32, Target dtype: torch.float32\n",
            "Batch 1: data shape torch.Size([32, 10]), target shape torch.Size([32])\n",
            "Batch 2: data shape torch.Size([32, 10]), target shape torch.Size([32])\n",
            "Total samples in loader: 1000\n",
            "==============================\n",
            "Making predictions on 32 batches...\n",
            "Batch 0: data shape torch.Size([32, 10]), target shape torch.Size([32]), output shape torch.Size([32, 1])\n",
            "Batch 1: data shape torch.Size([32, 10]), target shape torch.Size([32]), output shape torch.Size([32, 1])\n",
            "Batch 2: data shape torch.Size([32, 10]), target shape torch.Size([32]), output shape torch.Size([32, 1])\n",
            "Final predictions shape: (1000,)\n",
            "Final true_labels shape: (1000,)\n",
            "Predictions successful! Shape: (1000,)\n",
            "Evaluating model on test set with 32 batches...\n",
            "Making predictions on 32 batches...\n",
            "Batch 0: data shape torch.Size([32, 10]), target shape torch.Size([32]), output shape torch.Size([32, 1])\n",
            "Batch 1: data shape torch.Size([32, 10]), target shape torch.Size([32]), output shape torch.Size([32, 1])\n",
            "Batch 2: data shape torch.Size([32, 10]), target shape torch.Size([32]), output shape torch.Size([32, 1])\n",
            "Final predictions shape: (1000,)\n",
            "Final true_labels shape: (1000,)\n",
            "Evaluation - Predictions shape: (1000,)\n",
            "Evaluation - True labels shape: (1000,)\n",
            "Regression metrics calculated successfully:\n",
            "MSE: 17511.1465\n",
            "RMSE: 132.3297\n",
            "MAE: 105.1341\n",
            "R²: -0.0008\n",
            "Evaluation successful!\n"
          ]
        }
      ]
    },
    {
      "cell_type": "code",
      "source": [
        "# 10. UTILITY FUNCTIONS\n",
        "\n",
        "def load_model(model_path, config_path):\n",
        "    \"\"\"\n",
        "    Load a saved model\n",
        "\n",
        "    Args:\n",
        "        model_path: Path to model weights\n",
        "        config_path: Path to configuration file\n",
        "\n",
        "    Returns:\n",
        "        Loaded model\n",
        "    \"\"\"\n",
        "    with open(config_path, 'r') as f:\n",
        "        config = json.load(f)\n",
        "\n",
        "    model = create_model(\n",
        "        input_size=config['input_size'],\n",
        "        num_classes=config['num_classes'],\n",
        "        hidden_sizes=config['model_config']['hidden_sizes'],\n",
        "        dropout_rate=config['model_config']['dropout_rate'],\n",
        "        activation=config['model_config']['activation'],\n",
        "        batch_norm=config['model_config']['batch_norm'],\n",
        "        task_type=config['task_type']\n",
        "    )\n",
        "\n",
        "    model.load_state_dict(torch.load(model_path))\n",
        "    return model\n",
        "\n",
        "def predict_new_data(model, X_new, device='auto', task_type='classification',\n",
        "                    scaler=None):\n",
        "    \"\"\"\n",
        "    Make predictions on new data\n",
        "\n",
        "    Args:\n",
        "        model: Trained model\n",
        "        X_new: New input data\n",
        "        device: Device to use\n",
        "        task_type: 'classification' or 'regression'\n",
        "        scaler: Scaler used during training (if any)\n",
        "\n",
        "    Returns:\n",
        "        Predictions\n",
        "    \"\"\"\n",
        "    if device == 'auto':\n",
        "        device = torch.device('cuda' if torch.cuda.is_available() else 'cpu')\n",
        "\n",
        "    model.eval()\n",
        "\n",
        "    # Apply scaling if provided\n",
        "    if scaler is not None:\n",
        "        X_new = scaler.transform(X_new)\n",
        "\n",
        "    # Convert to tensor\n",
        "    X_tensor = torch.FloatTensor(X_new).to(device)\n",
        "\n",
        "    with torch.no_grad():\n",
        "        output = model(X_tensor)\n",
        "\n",
        "        if task_type == 'classification':\n",
        "            probabilities = torch.softmax(output, dim=1)\n",
        "            predictions = torch.argmax(output, dim=1)\n",
        "            return predictions.cpu().numpy(), probabilities.cpu().numpy()\n",
        "        else:\n",
        "            return output.cpu().numpy().flatten()\n",
        "\n",
        "# Run example if this script is executed directly\n",
        "if __name__ == \"__main__\":\n",
        "    example_usage()"
      ],
      "metadata": {
        "colab": {
          "base_uri": "https://localhost:8080/",
          "height": 1000
        },
        "id": "vq8tLJlOn9TS",
        "outputId": "4a3fa644-b04a-4588-a9ba-6282de897266"
      },
      "execution_count": 20,
      "outputs": [
        {
          "output_type": "stream",
          "name": "stdout",
          "text": [
            "=== CLASSIFICATION EXAMPLE ===\n",
            "Starting complete training workflow...\n",
            "Task type: classification\n",
            "Data shape: (1000, 20)\n",
            "Results will be saved to: classification_results\n",
            "\n",
            "1. Preparing data...\n",
            "Data split - Train: 720, Val: 80, Test: 200\n",
            "Input size: 20, Number of classes: 3\n",
            "\n",
            "2. Creating model...\n",
            "Model created with 11,523 parameters\n",
            "\n",
            "3. Training model...\n",
            "Training on device: cpu\n"
          ]
        },
        {
          "output_type": "stream",
          "name": "stderr",
          "text": [
            "Epoch 1/100 [Train]: 100%|██████████| 23/23 [00:00<00:00, 212.42it/s, Loss=1.1438, Acc=45.14%]\n"
          ]
        },
        {
          "output_type": "stream",
          "name": "stdout",
          "text": [
            "Epoch 1: Train Loss: 1.1438, Train Acc: 45.14%, Val Loss: 0.8766, Val Acc: 62.50%\n"
          ]
        },
        {
          "output_type": "stream",
          "name": "stderr",
          "text": [
            "Epoch 2/100 [Train]: 100%|██████████| 23/23 [00:00<00:00, 231.58it/s, Loss=0.8515, Acc=62.64%]\n"
          ]
        },
        {
          "output_type": "stream",
          "name": "stdout",
          "text": [
            "Epoch 2: Train Loss: 0.8515, Train Acc: 62.64%, Val Loss: 0.7255, Val Acc: 68.75%\n"
          ]
        },
        {
          "output_type": "stream",
          "name": "stderr",
          "text": [
            "Epoch 3/100 [Train]: 100%|██████████| 23/23 [00:00<00:00, 204.16it/s, Loss=0.7478, Acc=66.94%]\n"
          ]
        },
        {
          "output_type": "stream",
          "name": "stdout",
          "text": [
            "Epoch 3: Train Loss: 0.7478, Train Acc: 66.94%, Val Loss: 0.6631, Val Acc: 66.25%\n"
          ]
        },
        {
          "output_type": "stream",
          "name": "stderr",
          "text": [
            "Epoch 4/100 [Train]: 100%|██████████| 23/23 [00:00<00:00, 233.29it/s, Loss=0.6819, Acc=71.25%]\n"
          ]
        },
        {
          "output_type": "stream",
          "name": "stdout",
          "text": [
            "Epoch 4: Train Loss: 0.6819, Train Acc: 71.25%, Val Loss: 0.6459, Val Acc: 71.25%\n"
          ]
        },
        {
          "output_type": "stream",
          "name": "stderr",
          "text": [
            "Epoch 5/100 [Train]: 100%|██████████| 23/23 [00:00<00:00, 205.35it/s, Loss=0.6192, Acc=72.36%]\n"
          ]
        },
        {
          "output_type": "stream",
          "name": "stdout",
          "text": [
            "Epoch 5: Train Loss: 0.6192, Train Acc: 72.36%, Val Loss: 0.6116, Val Acc: 71.25%\n"
          ]
        },
        {
          "output_type": "stream",
          "name": "stderr",
          "text": [
            "Epoch 6/100 [Train]: 100%|██████████| 23/23 [00:00<00:00, 207.62it/s, Loss=0.5882, Acc=75.83%]\n"
          ]
        },
        {
          "output_type": "stream",
          "name": "stdout",
          "text": [
            "Epoch 6: Train Loss: 0.5882, Train Acc: 75.83%, Val Loss: 0.5828, Val Acc: 73.75%\n"
          ]
        },
        {
          "output_type": "stream",
          "name": "stderr",
          "text": [
            "Epoch 7/100 [Train]: 100%|██████████| 23/23 [00:00<00:00, 185.07it/s, Loss=0.5458, Acc=77.36%]\n"
          ]
        },
        {
          "output_type": "stream",
          "name": "stdout",
          "text": [
            "Epoch 7: Train Loss: 0.5458, Train Acc: 77.36%, Val Loss: 0.5356, Val Acc: 77.50%\n"
          ]
        },
        {
          "output_type": "stream",
          "name": "stderr",
          "text": [
            "Epoch 8/100 [Train]: 100%|██████████| 23/23 [00:00<00:00, 212.93it/s, Loss=0.5521, Acc=75.97%]\n"
          ]
        },
        {
          "output_type": "stream",
          "name": "stdout",
          "text": [
            "Epoch 8: Train Loss: 0.5521, Train Acc: 75.97%, Val Loss: 0.5146, Val Acc: 77.50%\n"
          ]
        },
        {
          "output_type": "stream",
          "name": "stderr",
          "text": [
            "Epoch 9/100 [Train]: 100%|██████████| 23/23 [00:00<00:00, 212.29it/s, Loss=0.4759, Acc=81.53%]\n"
          ]
        },
        {
          "output_type": "stream",
          "name": "stdout",
          "text": [
            "Epoch 9: Train Loss: 0.4759, Train Acc: 81.53%, Val Loss: 0.4901, Val Acc: 77.50%\n"
          ]
        },
        {
          "output_type": "stream",
          "name": "stderr",
          "text": [
            "Epoch 10/100 [Train]: 100%|██████████| 23/23 [00:00<00:00, 235.83it/s, Loss=0.4739, Acc=80.14%]\n"
          ]
        },
        {
          "output_type": "stream",
          "name": "stdout",
          "text": [
            "Epoch 10: Train Loss: 0.4739, Train Acc: 80.14%, Val Loss: 0.4772, Val Acc: 78.75%\n"
          ]
        },
        {
          "output_type": "stream",
          "name": "stderr",
          "text": [
            "Epoch 11/100 [Train]: 100%|██████████| 23/23 [00:00<00:00, 230.68it/s, Loss=0.4632, Acc=82.36%]\n"
          ]
        },
        {
          "output_type": "stream",
          "name": "stdout",
          "text": [
            "Epoch 11: Train Loss: 0.4632, Train Acc: 82.36%, Val Loss: 0.4571, Val Acc: 82.50%\n"
          ]
        },
        {
          "output_type": "stream",
          "name": "stderr",
          "text": [
            "Epoch 12/100 [Train]: 100%|██████████| 23/23 [00:00<00:00, 225.58it/s, Loss=0.4374, Acc=82.50%]\n"
          ]
        },
        {
          "output_type": "stream",
          "name": "stdout",
          "text": [
            "Epoch 12: Train Loss: 0.4374, Train Acc: 82.50%, Val Loss: 0.4563, Val Acc: 81.25%\n"
          ]
        },
        {
          "output_type": "stream",
          "name": "stderr",
          "text": [
            "Epoch 13/100 [Train]: 100%|██████████| 23/23 [00:00<00:00, 222.96it/s, Loss=0.4385, Acc=82.08%]\n"
          ]
        },
        {
          "output_type": "stream",
          "name": "stdout",
          "text": [
            "Epoch 13: Train Loss: 0.4385, Train Acc: 82.08%, Val Loss: 0.4442, Val Acc: 85.00%\n"
          ]
        },
        {
          "output_type": "stream",
          "name": "stderr",
          "text": [
            "Epoch 14/100 [Train]: 100%|██████████| 23/23 [00:00<00:00, 209.90it/s, Loss=0.4385, Acc=82.22%]\n"
          ]
        },
        {
          "output_type": "stream",
          "name": "stdout",
          "text": [
            "Epoch 14: Train Loss: 0.4385, Train Acc: 82.22%, Val Loss: 0.4083, Val Acc: 85.00%\n"
          ]
        },
        {
          "output_type": "stream",
          "name": "stderr",
          "text": [
            "Epoch 15/100 [Train]: 100%|██████████| 23/23 [00:00<00:00, 211.47it/s, Loss=0.4189, Acc=83.19%]\n"
          ]
        },
        {
          "output_type": "stream",
          "name": "stdout",
          "text": [
            "Epoch 15: Train Loss: 0.4189, Train Acc: 83.19%, Val Loss: 0.4238, Val Acc: 83.75%\n"
          ]
        },
        {
          "output_type": "stream",
          "name": "stderr",
          "text": [
            "Epoch 16/100 [Train]: 100%|██████████| 23/23 [00:00<00:00, 232.12it/s, Loss=0.4134, Acc=82.78%]\n"
          ]
        },
        {
          "output_type": "stream",
          "name": "stdout",
          "text": [
            "Epoch 16: Train Loss: 0.4134, Train Acc: 82.78%, Val Loss: 0.3897, Val Acc: 87.50%\n"
          ]
        },
        {
          "output_type": "stream",
          "name": "stderr",
          "text": [
            "Epoch 17/100 [Train]: 100%|██████████| 23/23 [00:00<00:00, 234.98it/s, Loss=0.3648, Acc=86.94%]\n"
          ]
        },
        {
          "output_type": "stream",
          "name": "stdout",
          "text": [
            "Epoch 17: Train Loss: 0.3648, Train Acc: 86.94%, Val Loss: 0.3880, Val Acc: 87.50%\n"
          ]
        },
        {
          "output_type": "stream",
          "name": "stderr",
          "text": [
            "Epoch 18/100 [Train]: 100%|██████████| 23/23 [00:00<00:00, 183.05it/s, Loss=0.3755, Acc=85.97%]\n"
          ]
        },
        {
          "output_type": "stream",
          "name": "stdout",
          "text": [
            "Epoch 18: Train Loss: 0.3755, Train Acc: 85.97%, Val Loss: 0.3992, Val Acc: 87.50%\n"
          ]
        },
        {
          "output_type": "stream",
          "name": "stderr",
          "text": [
            "Epoch 19/100 [Train]: 100%|██████████| 23/23 [00:00<00:00, 221.55it/s, Loss=0.3599, Acc=85.83%]\n"
          ]
        },
        {
          "output_type": "stream",
          "name": "stdout",
          "text": [
            "Epoch 19: Train Loss: 0.3599, Train Acc: 85.83%, Val Loss: 0.3834, Val Acc: 87.50%\n"
          ]
        },
        {
          "output_type": "stream",
          "name": "stderr",
          "text": [
            "Epoch 20/100 [Train]: 100%|██████████| 23/23 [00:00<00:00, 202.57it/s, Loss=0.3380, Acc=86.67%]\n"
          ]
        },
        {
          "output_type": "stream",
          "name": "stdout",
          "text": [
            "Epoch 20: Train Loss: 0.3380, Train Acc: 86.67%, Val Loss: 0.3492, Val Acc: 87.50%\n"
          ]
        },
        {
          "output_type": "stream",
          "name": "stderr",
          "text": [
            "Epoch 21/100 [Train]: 100%|██████████| 23/23 [00:00<00:00, 220.93it/s, Loss=0.3140, Acc=88.47%]\n"
          ]
        },
        {
          "output_type": "stream",
          "name": "stdout",
          "text": [
            "Epoch 21: Train Loss: 0.3140, Train Acc: 88.47%, Val Loss: 0.3528, Val Acc: 88.75%\n"
          ]
        },
        {
          "output_type": "stream",
          "name": "stderr",
          "text": [
            "Epoch 22/100 [Train]: 100%|██████████| 23/23 [00:00<00:00, 212.44it/s, Loss=0.3375, Acc=86.94%]\n"
          ]
        },
        {
          "output_type": "stream",
          "name": "stdout",
          "text": [
            "Epoch 22: Train Loss: 0.3375, Train Acc: 86.94%, Val Loss: 0.3238, Val Acc: 91.25%\n"
          ]
        },
        {
          "output_type": "stream",
          "name": "stderr",
          "text": [
            "Epoch 23/100 [Train]: 100%|██████████| 23/23 [00:00<00:00, 212.75it/s, Loss=0.2996, Acc=90.00%]\n"
          ]
        },
        {
          "output_type": "stream",
          "name": "stdout",
          "text": [
            "Epoch 23: Train Loss: 0.2996, Train Acc: 90.00%, Val Loss: 0.3239, Val Acc: 90.00%\n"
          ]
        },
        {
          "output_type": "stream",
          "name": "stderr",
          "text": [
            "Epoch 24/100 [Train]: 100%|██████████| 23/23 [00:00<00:00, 201.42it/s, Loss=0.3202, Acc=87.78%]\n"
          ]
        },
        {
          "output_type": "stream",
          "name": "stdout",
          "text": [
            "Epoch 24: Train Loss: 0.3202, Train Acc: 87.78%, Val Loss: 0.3032, Val Acc: 91.25%\n"
          ]
        },
        {
          "output_type": "stream",
          "name": "stderr",
          "text": [
            "Epoch 25/100 [Train]: 100%|██████████| 23/23 [00:00<00:00, 197.93it/s, Loss=0.3185, Acc=88.06%]\n"
          ]
        },
        {
          "output_type": "stream",
          "name": "stdout",
          "text": [
            "Epoch 25: Train Loss: 0.3185, Train Acc: 88.06%, Val Loss: 0.3009, Val Acc: 90.00%\n"
          ]
        },
        {
          "output_type": "stream",
          "name": "stderr",
          "text": [
            "Epoch 26/100 [Train]: 100%|██████████| 23/23 [00:00<00:00, 195.96it/s, Loss=0.2881, Acc=89.17%]\n"
          ]
        },
        {
          "output_type": "stream",
          "name": "stdout",
          "text": [
            "Epoch 26: Train Loss: 0.2881, Train Acc: 89.17%, Val Loss: 0.3105, Val Acc: 90.00%\n"
          ]
        },
        {
          "output_type": "stream",
          "name": "stderr",
          "text": [
            "Epoch 27/100 [Train]: 100%|██████████| 23/23 [00:00<00:00, 181.48it/s, Loss=0.3079, Acc=88.47%]\n"
          ]
        },
        {
          "output_type": "stream",
          "name": "stdout",
          "text": [
            "Epoch 27: Train Loss: 0.3079, Train Acc: 88.47%, Val Loss: 0.3292, Val Acc: 88.75%\n"
          ]
        },
        {
          "output_type": "stream",
          "name": "stderr",
          "text": [
            "Epoch 28/100 [Train]: 100%|██████████| 23/23 [00:00<00:00, 224.80it/s, Loss=0.2800, Acc=90.14%]\n"
          ]
        },
        {
          "output_type": "stream",
          "name": "stdout",
          "text": [
            "Epoch 28: Train Loss: 0.2800, Train Acc: 90.14%, Val Loss: 0.3069, Val Acc: 88.75%\n"
          ]
        },
        {
          "output_type": "stream",
          "name": "stderr",
          "text": [
            "Epoch 29/100 [Train]: 100%|██████████| 23/23 [00:00<00:00, 207.06it/s, Loss=0.2789, Acc=89.86%]\n"
          ]
        },
        {
          "output_type": "stream",
          "name": "stdout",
          "text": [
            "Epoch 29: Train Loss: 0.2789, Train Acc: 89.86%, Val Loss: 0.3295, Val Acc: 88.75%\n"
          ]
        },
        {
          "output_type": "stream",
          "name": "stderr",
          "text": [
            "Epoch 30/100 [Train]: 100%|██████████| 23/23 [00:00<00:00, 216.70it/s, Loss=0.2386, Acc=90.97%]\n"
          ]
        },
        {
          "output_type": "stream",
          "name": "stdout",
          "text": [
            "Epoch 30: Train Loss: 0.2386, Train Acc: 90.97%, Val Loss: 0.2993, Val Acc: 87.50%\n"
          ]
        },
        {
          "output_type": "stream",
          "name": "stderr",
          "text": [
            "Epoch 31/100 [Train]: 100%|██████████| 23/23 [00:00<00:00, 202.50it/s, Loss=0.2605, Acc=89.58%]\n"
          ]
        },
        {
          "output_type": "stream",
          "name": "stdout",
          "text": [
            "Epoch 31: Train Loss: 0.2605, Train Acc: 89.58%, Val Loss: 0.2944, Val Acc: 86.25%\n"
          ]
        },
        {
          "output_type": "stream",
          "name": "stderr",
          "text": [
            "Epoch 32/100 [Train]: 100%|██████████| 23/23 [00:00<00:00, 211.24it/s, Loss=0.2362, Acc=91.53%]\n"
          ]
        },
        {
          "output_type": "stream",
          "name": "stdout",
          "text": [
            "Epoch 32: Train Loss: 0.2362, Train Acc: 91.53%, Val Loss: 0.2884, Val Acc: 86.25%\n"
          ]
        },
        {
          "output_type": "stream",
          "name": "stderr",
          "text": [
            "Epoch 33/100 [Train]: 100%|██████████| 23/23 [00:00<00:00, 197.43it/s, Loss=0.2277, Acc=92.08%]\n"
          ]
        },
        {
          "output_type": "stream",
          "name": "stdout",
          "text": [
            "Epoch 33: Train Loss: 0.2277, Train Acc: 92.08%, Val Loss: 0.2962, Val Acc: 85.00%\n"
          ]
        },
        {
          "output_type": "stream",
          "name": "stderr",
          "text": [
            "Epoch 34/100 [Train]: 100%|██████████| 23/23 [00:00<00:00, 206.49it/s, Loss=0.2335, Acc=92.22%]\n"
          ]
        },
        {
          "output_type": "stream",
          "name": "stdout",
          "text": [
            "Epoch 34: Train Loss: 0.2335, Train Acc: 92.22%, Val Loss: 0.3013, Val Acc: 86.25%\n"
          ]
        },
        {
          "output_type": "stream",
          "name": "stderr",
          "text": [
            "Epoch 35/100 [Train]: 100%|██████████| 23/23 [00:00<00:00, 203.93it/s, Loss=0.2210, Acc=91.39%]\n"
          ]
        },
        {
          "output_type": "stream",
          "name": "stdout",
          "text": [
            "Epoch 35: Train Loss: 0.2210, Train Acc: 91.39%, Val Loss: 0.3000, Val Acc: 87.50%\n"
          ]
        },
        {
          "output_type": "stream",
          "name": "stderr",
          "text": [
            "Epoch 36/100 [Train]: 100%|██████████| 23/23 [00:00<00:00, 178.46it/s, Loss=0.2361, Acc=91.11%]\n"
          ]
        },
        {
          "output_type": "stream",
          "name": "stdout",
          "text": [
            "Epoch 36: Train Loss: 0.2361, Train Acc: 91.11%, Val Loss: 0.2948, Val Acc: 85.00%\n"
          ]
        },
        {
          "output_type": "stream",
          "name": "stderr",
          "text": [
            "Epoch 37/100 [Train]: 100%|██████████| 23/23 [00:00<00:00, 205.04it/s, Loss=0.2310, Acc=91.53%]\n"
          ]
        },
        {
          "output_type": "stream",
          "name": "stdout",
          "text": [
            "Epoch 37: Train Loss: 0.2310, Train Acc: 91.53%, Val Loss: 0.2651, Val Acc: 91.25%\n"
          ]
        },
        {
          "output_type": "stream",
          "name": "stderr",
          "text": [
            "Epoch 38/100 [Train]: 100%|██████████| 23/23 [00:00<00:00, 187.19it/s, Loss=0.2339, Acc=91.67%]\n"
          ]
        },
        {
          "output_type": "stream",
          "name": "stdout",
          "text": [
            "Epoch 38: Train Loss: 0.2339, Train Acc: 91.67%, Val Loss: 0.2780, Val Acc: 90.00%\n"
          ]
        },
        {
          "output_type": "stream",
          "name": "stderr",
          "text": [
            "Epoch 39/100 [Train]: 100%|██████████| 23/23 [00:00<00:00, 192.15it/s, Loss=0.2322, Acc=91.53%]\n"
          ]
        },
        {
          "output_type": "stream",
          "name": "stdout",
          "text": [
            "Epoch 39: Train Loss: 0.2322, Train Acc: 91.53%, Val Loss: 0.2726, Val Acc: 88.75%\n"
          ]
        },
        {
          "output_type": "stream",
          "name": "stderr",
          "text": [
            "Epoch 40/100 [Train]: 100%|██████████| 23/23 [00:00<00:00, 203.59it/s, Loss=0.2309, Acc=92.64%]\n"
          ]
        },
        {
          "output_type": "stream",
          "name": "stdout",
          "text": [
            "Epoch 40: Train Loss: 0.2309, Train Acc: 92.64%, Val Loss: 0.2663, Val Acc: 88.75%\n"
          ]
        },
        {
          "output_type": "stream",
          "name": "stderr",
          "text": [
            "Epoch 41/100 [Train]: 100%|██████████| 23/23 [00:00<00:00, 202.29it/s, Loss=0.2149, Acc=92.08%]\n"
          ]
        },
        {
          "output_type": "stream",
          "name": "stdout",
          "text": [
            "Epoch 41: Train Loss: 0.2149, Train Acc: 92.08%, Val Loss: 0.2742, Val Acc: 87.50%\n"
          ]
        },
        {
          "output_type": "stream",
          "name": "stderr",
          "text": [
            "Epoch 42/100 [Train]: 100%|██████████| 23/23 [00:00<00:00, 188.82it/s, Loss=0.1990, Acc=92.22%]\n"
          ]
        },
        {
          "output_type": "stream",
          "name": "stdout",
          "text": [
            "Epoch 42: Train Loss: 0.1990, Train Acc: 92.22%, Val Loss: 0.2690, Val Acc: 87.50%\n"
          ]
        },
        {
          "output_type": "stream",
          "name": "stderr",
          "text": [
            "Epoch 43/100 [Train]: 100%|██████████| 23/23 [00:00<00:00, 203.03it/s, Loss=0.2174, Acc=91.81%]\n"
          ]
        },
        {
          "output_type": "stream",
          "name": "stdout",
          "text": [
            "Epoch 43: Train Loss: 0.2174, Train Acc: 91.81%, Val Loss: 0.2496, Val Acc: 91.25%\n"
          ]
        },
        {
          "output_type": "stream",
          "name": "stderr",
          "text": [
            "Epoch 44/100 [Train]: 100%|██████████| 23/23 [00:00<00:00, 167.26it/s, Loss=0.2182, Acc=91.81%]\n"
          ]
        },
        {
          "output_type": "stream",
          "name": "stdout",
          "text": [
            "Epoch 44: Train Loss: 0.2182, Train Acc: 91.81%, Val Loss: 0.2728, Val Acc: 88.75%\n"
          ]
        },
        {
          "output_type": "stream",
          "name": "stderr",
          "text": [
            "Epoch 45/100 [Train]: 100%|██████████| 23/23 [00:00<00:00, 196.44it/s, Loss=0.1979, Acc=92.50%]\n"
          ]
        },
        {
          "output_type": "stream",
          "name": "stdout",
          "text": [
            "Epoch 45: Train Loss: 0.1979, Train Acc: 92.50%, Val Loss: 0.2402, Val Acc: 90.00%\n"
          ]
        },
        {
          "output_type": "stream",
          "name": "stderr",
          "text": [
            "Epoch 46/100 [Train]: 100%|██████████| 23/23 [00:00<00:00, 200.85it/s, Loss=0.2066, Acc=91.94%]\n"
          ]
        },
        {
          "output_type": "stream",
          "name": "stdout",
          "text": [
            "Epoch 46: Train Loss: 0.2066, Train Acc: 91.94%, Val Loss: 0.2092, Val Acc: 92.50%\n"
          ]
        },
        {
          "output_type": "stream",
          "name": "stderr",
          "text": [
            "Epoch 47/100 [Train]: 100%|██████████| 23/23 [00:00<00:00, 195.77it/s, Loss=0.2052, Acc=94.58%]\n"
          ]
        },
        {
          "output_type": "stream",
          "name": "stdout",
          "text": [
            "Epoch 47: Train Loss: 0.2052, Train Acc: 94.58%, Val Loss: 0.2462, Val Acc: 90.00%\n"
          ]
        },
        {
          "output_type": "stream",
          "name": "stderr",
          "text": [
            "Epoch 48/100 [Train]: 100%|██████████| 23/23 [00:00<00:00, 208.17it/s, Loss=0.1667, Acc=94.31%]\n"
          ]
        },
        {
          "output_type": "stream",
          "name": "stdout",
          "text": [
            "Epoch 48: Train Loss: 0.1667, Train Acc: 94.31%, Val Loss: 0.2611, Val Acc: 90.00%\n"
          ]
        },
        {
          "output_type": "stream",
          "name": "stderr",
          "text": [
            "Epoch 49/100 [Train]: 100%|██████████| 23/23 [00:00<00:00, 196.97it/s, Loss=0.2044, Acc=92.64%]\n"
          ]
        },
        {
          "output_type": "stream",
          "name": "stdout",
          "text": [
            "Epoch 49: Train Loss: 0.2044, Train Acc: 92.64%, Val Loss: 0.2560, Val Acc: 88.75%\n"
          ]
        },
        {
          "output_type": "stream",
          "name": "stderr",
          "text": [
            "Epoch 50/100 [Train]: 100%|██████████| 23/23 [00:00<00:00, 205.80it/s, Loss=0.1683, Acc=94.72%]\n"
          ]
        },
        {
          "output_type": "stream",
          "name": "stdout",
          "text": [
            "Epoch 50: Train Loss: 0.1683, Train Acc: 94.72%, Val Loss: 0.2571, Val Acc: 91.25%\n"
          ]
        },
        {
          "output_type": "stream",
          "name": "stderr",
          "text": [
            "Epoch 51/100 [Train]: 100%|██████████| 23/23 [00:00<00:00, 205.50it/s, Loss=0.2068, Acc=91.39%]\n"
          ]
        },
        {
          "output_type": "stream",
          "name": "stdout",
          "text": [
            "Epoch 51: Train Loss: 0.2068, Train Acc: 91.39%, Val Loss: 0.2713, Val Acc: 91.25%\n"
          ]
        },
        {
          "output_type": "stream",
          "name": "stderr",
          "text": [
            "Epoch 52/100 [Train]: 100%|██████████| 23/23 [00:00<00:00, 200.42it/s, Loss=0.1706, Acc=94.31%]\n"
          ]
        },
        {
          "output_type": "stream",
          "name": "stdout",
          "text": [
            "Epoch 52: Train Loss: 0.1706, Train Acc: 94.31%, Val Loss: 0.2733, Val Acc: 90.00%\n"
          ]
        },
        {
          "output_type": "stream",
          "name": "stderr",
          "text": [
            "Epoch 53/100 [Train]: 100%|██████████| 23/23 [00:00<00:00, 171.64it/s, Loss=0.1532, Acc=94.58%]\n"
          ]
        },
        {
          "output_type": "stream",
          "name": "stdout",
          "text": [
            "Epoch 53: Train Loss: 0.1532, Train Acc: 94.58%, Val Loss: 0.2670, Val Acc: 90.00%\n"
          ]
        },
        {
          "output_type": "stream",
          "name": "stderr",
          "text": [
            "Epoch 54/100 [Train]: 100%|██████████| 23/23 [00:00<00:00, 208.04it/s, Loss=0.1857, Acc=92.78%]\n"
          ]
        },
        {
          "output_type": "stream",
          "name": "stdout",
          "text": [
            "Epoch 54: Train Loss: 0.1857, Train Acc: 92.78%, Val Loss: 0.2704, Val Acc: 91.25%\n"
          ]
        },
        {
          "output_type": "stream",
          "name": "stderr",
          "text": [
            "Epoch 55/100 [Train]: 100%|██████████| 23/23 [00:00<00:00, 192.51it/s, Loss=0.1534, Acc=94.17%]\n"
          ]
        },
        {
          "output_type": "stream",
          "name": "stdout",
          "text": [
            "Epoch 55: Train Loss: 0.1534, Train Acc: 94.17%, Val Loss: 0.2557, Val Acc: 93.75%\n"
          ]
        },
        {
          "output_type": "stream",
          "name": "stderr",
          "text": [
            "Epoch 56/100 [Train]: 100%|██████████| 23/23 [00:00<00:00, 157.01it/s, Loss=0.1723, Acc=93.47%]\n"
          ]
        },
        {
          "output_type": "stream",
          "name": "stdout",
          "text": [
            "Epoch 56: Train Loss: 0.1723, Train Acc: 93.47%, Val Loss: 0.2598, Val Acc: 91.25%\n",
            "Early stopping triggered after epoch 56\n",
            "\n",
            "4. Evaluating model...\n",
            "Evaluating on test set...\n",
            "Evaluating model on test set with 7 batches...\n",
            "Making predictions on 7 batches...\n",
            "Batch 0: data shape torch.Size([32, 20]), target shape torch.Size([32]), output shape torch.Size([32, 3])\n",
            "Batch 1: data shape torch.Size([32, 20]), target shape torch.Size([32]), output shape torch.Size([32, 3])\n",
            "Batch 2: data shape torch.Size([32, 20]), target shape torch.Size([32]), output shape torch.Size([32, 3])\n",
            "Final predictions shape: (200,)\n",
            "Final true_labels shape: (200,)\n",
            "Evaluation - Predictions shape: (200,)\n",
            "Evaluation - True labels shape: (200,)\n",
            "Evaluating on validation set...\n",
            "Evaluating model on test set with 3 batches...\n",
            "Making predictions on 3 batches...\n",
            "Batch 0: data shape torch.Size([32, 20]), target shape torch.Size([32]), output shape torch.Size([32, 3])\n",
            "Batch 1: data shape torch.Size([32, 20]), target shape torch.Size([32]), output shape torch.Size([32, 3])\n",
            "Batch 2: data shape torch.Size([16, 20]), target shape torch.Size([16]), output shape torch.Size([16, 3])\n",
            "Final predictions shape: (80,)\n",
            "Final true_labels shape: (80,)\n",
            "Evaluation - Predictions shape: (80,)\n",
            "Evaluation - True labels shape: (80,)\n",
            "\n",
            "=== CLASSIFICATION RESULTS ===\n",
            "Test Accuracy: 0.9150\n",
            "Test Precision: 0.9173\n",
            "Test Recall: 0.9150\n",
            "Test F1-Score: 0.9152\n",
            "\n",
            "Classification Report:\n",
            "              precision    recall  f1-score   support\n",
            "\n",
            "           0       0.93      0.92      0.92        59\n",
            "           1       0.87      0.94      0.91        72\n",
            "           2       0.95      0.88      0.92        69\n",
            "\n",
            "    accuracy                           0.92       200\n",
            "   macro avg       0.92      0.91      0.92       200\n",
            "weighted avg       0.92      0.92      0.92       200\n",
            "\n",
            "\n",
            "5. Creating visualizations...\n"
          ]
        },
        {
          "output_type": "display_data",
          "data": {
            "text/plain": [
              "<Figure size 1500x1000 with 4 Axes>"
            ],
            "image/png": "[encoded data removed]"
          },
          "metadata": {}
        },
        {
          "output_type": "display_data",
          "data": {
            "text/plain": [
              "<Figure size 1500x1200 with 5 Axes>"
            ],
            "image/png": "[encoded data removed]"
          },
          "metadata": {}
        },
        {
          "output_type": "stream",
          "name": "stdout",
          "text": [
            "\n",
            "6. Generating summary report...\n",
            "==================================================\n",
            "MODEL SUMMARY REPORT\n",
            "==================================================\n",
            "\n",
            "1. MODEL ARCHITECTURE:\n",
            "------------------------------\n",
            "Total parameters: 11,523\n",
            "Trainable parameters: 11,523\n",
            "Model size: 0.04 MB (float32)\n",
            "\n",
            "2. TRAINING SUMMARY:\n",
            "------------------------------\n",
            "Total epochs trained: 56\n",
            "Final training loss: 0.1723\n",
            "Final validation loss: 0.2598\n",
            "Best validation loss: 0.2092\n",
            "Final training accuracy: 93.47%\n",
            "Final validation accuracy: 91.25%\n",
            "Best validation accuracy: 93.75%\n",
            "\n",
            "3. PERFORMANCE METRICS:\n",
            "------------------------------\n",
            "Test Accuracy: 0.9150\n",
            "Test Precision: 0.9173\n",
            "Test Recall: 0.9150\n",
            "Test F1-Score: 0.9152\n",
            "\n",
            "4. OVERFITTING ANALYSIS:\n",
            "------------------------------\n",
            "Final loss difference (val - train): 0.0875\n",
            "✅ Model appears well-fitted\n",
            "\n",
            "5. RECOMMENDATIONS:\n",
            "------------------------------\n",
            "• Model performance looks good\n",
            "• Consider ensemble methods for further improvement\n",
            "Model and results successfully saved to: classification_results\n",
            "\n",
            "==================================================\n",
            "=== REGRESSION EXAMPLE ===\n",
            "Starting complete training workflow...\n",
            "Task type: regression\n",
            "Data shape: (1000, 10)\n",
            "Results will be saved to: regression_results\n",
            "\n",
            "1. Preparing data...\n",
            "Data split - Train: 720, Val: 80, Test: 200\n",
            "Input size: 10, Number of classes: 453\n",
            "\n",
            "2. Creating model...\n",
            "Model created with 39,493 parameters\n",
            "\n",
            "3. Training model...\n",
            "Training on device: cpu\n"
          ]
        },
        {
          "output_type": "stream",
          "name": "stderr",
          "text": [
            "Epoch 1/100 [Train]:   0%|          | 0/23 [00:00<?, ?it/s]/usr/local/lib/python3.11/dist-packages/torch/nn/modules/loss.py:610: UserWarning: Using a target size (torch.Size([32, 1])) that is different to the input size (torch.Size([32, 453])). This will likely lead to incorrect results due to broadcasting. Please ensure they have the same size.\n",
            "  return F.mse_loss(input, target, reduction=self.reduction)\n",
            "Epoch 1/100 [Train]:  74%|███████▍  | 17/23 [00:00<00:00, 166.57it/s, Loss=17215.0425]/usr/local/lib/python3.11/dist-packages/torch/nn/modules/loss.py:610: UserWarning: Using a target size (torch.Size([16, 1])) that is different to the input size (torch.Size([16, 453])). This will likely lead to incorrect results due to broadcasting. Please ensure they have the same size.\n",
            "  return F.mse_loss(input, target, reduction=self.reduction)\n",
            "Epoch 1/100 [Train]: 100%|██████████| 23/23 [00:00<00:00, 168.89it/s, Loss=17029.7318]\n"
          ]
        },
        {
          "output_type": "stream",
          "name": "stdout",
          "text": [
            "Epoch 1: Train Loss: 17029.7318, Val Loss: 14693.8994\n"
          ]
        },
        {
          "output_type": "stream",
          "name": "stderr",
          "text": [
            "Epoch 2/100 [Train]: 100%|██████████| 23/23 [00:00<00:00, 153.63it/s, Loss=17152.4260]\n"
          ]
        },
        {
          "output_type": "stream",
          "name": "stdout",
          "text": [
            "Epoch 2: Train Loss: 17152.4260, Val Loss: 14509.7240\n"
          ]
        },
        {
          "output_type": "stream",
          "name": "stderr",
          "text": [
            "Epoch 3/100 [Train]: 100%|██████████| 23/23 [00:00<00:00, 189.99it/s, Loss=16627.8963]\n"
          ]
        },
        {
          "output_type": "stream",
          "name": "stdout",
          "text": [
            "Epoch 3: Train Loss: 16627.8963, Val Loss: 14190.6481\n"
          ]
        },
        {
          "output_type": "stream",
          "name": "stderr",
          "text": [
            "Epoch 4/100 [Train]: 100%|██████████| 23/23 [00:00<00:00, 170.12it/s, Loss=16492.4001]\n"
          ]
        },
        {
          "output_type": "stream",
          "name": "stdout",
          "text": [
            "Epoch 4: Train Loss: 16492.4001, Val Loss: 13892.7747\n"
          ]
        },
        {
          "output_type": "stream",
          "name": "stderr",
          "text": [
            "Epoch 5/100 [Train]: 100%|██████████| 23/23 [00:00<00:00, 180.54it/s, Loss=16276.9965]\n"
          ]
        },
        {
          "output_type": "stream",
          "name": "stdout",
          "text": [
            "Epoch 5: Train Loss: 16276.9965, Val Loss: 13532.0719\n"
          ]
        },
        {
          "output_type": "stream",
          "name": "stderr",
          "text": [
            "Epoch 6/100 [Train]: 100%|██████████| 23/23 [00:00<00:00, 164.44it/s, Loss=15871.6377]\n"
          ]
        },
        {
          "output_type": "stream",
          "name": "stdout",
          "text": [
            "Epoch 6: Train Loss: 15871.6377, Val Loss: 13247.7917\n"
          ]
        },
        {
          "output_type": "stream",
          "name": "stderr",
          "text": [
            "Epoch 7/100 [Train]: 100%|██████████| 23/23 [00:00<00:00, 160.91it/s, Loss=15358.8749]\n"
          ]
        },
        {
          "output_type": "stream",
          "name": "stdout",
          "text": [
            "Epoch 7: Train Loss: 15358.8749, Val Loss: 12805.4984\n"
          ]
        },
        {
          "output_type": "stream",
          "name": "stderr",
          "text": [
            "Epoch 8/100 [Train]: 100%|██████████| 23/23 [00:00<00:00, 146.77it/s, Loss=14546.7227]\n"
          ]
        },
        {
          "output_type": "stream",
          "name": "stdout",
          "text": [
            "Epoch 8: Train Loss: 14546.7227, Val Loss: 12266.5228\n"
          ]
        },
        {
          "output_type": "stream",
          "name": "stderr",
          "text": [
            "Epoch 9/100 [Train]: 100%|██████████| 23/23 [00:00<00:00, 160.60it/s, Loss=14227.6405]\n"
          ]
        },
        {
          "output_type": "stream",
          "name": "stdout",
          "text": [
            "Epoch 9: Train Loss: 14227.6405, Val Loss: 11976.1532\n"
          ]
        },
        {
          "output_type": "stream",
          "name": "stderr",
          "text": [
            "Epoch 10/100 [Train]: 100%|██████████| 23/23 [00:00<00:00, 180.90it/s, Loss=13660.9337]\n"
          ]
        },
        {
          "output_type": "stream",
          "name": "stdout",
          "text": [
            "Epoch 10: Train Loss: 13660.9337, Val Loss: 11547.6715\n"
          ]
        },
        {
          "output_type": "stream",
          "name": "stderr",
          "text": [
            "Epoch 11/100 [Train]: 100%|██████████| 23/23 [00:00<00:00, 182.64it/s, Loss=13360.5826]\n"
          ]
        },
        {
          "output_type": "stream",
          "name": "stdout",
          "text": [
            "Epoch 11: Train Loss: 13360.5826, Val Loss: 11129.6147\n"
          ]
        },
        {
          "output_type": "stream",
          "name": "stderr",
          "text": [
            "Epoch 12/100 [Train]: 100%|██████████| 23/23 [00:00<00:00, 168.85it/s, Loss=12738.0191]\n"
          ]
        },
        {
          "output_type": "stream",
          "name": "stdout",
          "text": [
            "Epoch 12: Train Loss: 12738.0191, Val Loss: 10586.2638\n"
          ]
        },
        {
          "output_type": "stream",
          "name": "stderr",
          "text": [
            "Epoch 13/100 [Train]: 100%|██████████| 23/23 [00:00<00:00, 150.98it/s, Loss=12351.0824]\n"
          ]
        },
        {
          "output_type": "stream",
          "name": "stdout",
          "text": [
            "Epoch 13: Train Loss: 12351.0824, Val Loss: 10293.4645\n"
          ]
        },
        {
          "output_type": "stream",
          "name": "stderr",
          "text": [
            "Epoch 14/100 [Train]: 100%|██████████| 23/23 [00:00<00:00, 140.05it/s, Loss=11784.3045]\n"
          ]
        },
        {
          "output_type": "stream",
          "name": "stdout",
          "text": [
            "Epoch 14: Train Loss: 11784.3045, Val Loss: 9815.8332\n"
          ]
        },
        {
          "output_type": "stream",
          "name": "stderr",
          "text": [
            "Epoch 15/100 [Train]: 100%|██████████| 23/23 [00:00<00:00, 185.79it/s, Loss=11379.6689]\n"
          ]
        },
        {
          "output_type": "stream",
          "name": "stdout",
          "text": [
            "Epoch 15: Train Loss: 11379.6689, Val Loss: 9267.6812\n"
          ]
        },
        {
          "output_type": "stream",
          "name": "stderr",
          "text": [
            "Epoch 16/100 [Train]: 100%|██████████| 23/23 [00:00<00:00, 166.51it/s, Loss=10782.2323]\n"
          ]
        },
        {
          "output_type": "stream",
          "name": "stdout",
          "text": [
            "Epoch 16: Train Loss: 10782.2323, Val Loss: 8718.5698\n"
          ]
        },
        {
          "output_type": "stream",
          "name": "stderr",
          "text": [
            "Epoch 17/100 [Train]: 100%|██████████| 23/23 [00:00<00:00, 182.08it/s, Loss=10312.6005]\n"
          ]
        },
        {
          "output_type": "stream",
          "name": "stdout",
          "text": [
            "Epoch 17: Train Loss: 10312.6005, Val Loss: 8333.7375\n"
          ]
        },
        {
          "output_type": "stream",
          "name": "stderr",
          "text": [
            "Epoch 18/100 [Train]: 100%|██████████| 23/23 [00:00<00:00, 170.61it/s, Loss=9612.0371]\n"
          ]
        },
        {
          "output_type": "stream",
          "name": "stdout",
          "text": [
            "Epoch 18: Train Loss: 9612.0371, Val Loss: 7962.4167\n"
          ]
        },
        {
          "output_type": "stream",
          "name": "stderr",
          "text": [
            "Epoch 19/100 [Train]: 100%|██████████| 23/23 [00:00<00:00, 179.42it/s, Loss=9194.8405]\n"
          ]
        },
        {
          "output_type": "stream",
          "name": "stdout",
          "text": [
            "Epoch 19: Train Loss: 9194.8405, Val Loss: 7509.5742\n"
          ]
        },
        {
          "output_type": "stream",
          "name": "stderr",
          "text": [
            "Epoch 20/100 [Train]: 100%|██████████| 23/23 [00:00<00:00, 152.69it/s, Loss=8764.2882]\n"
          ]
        },
        {
          "output_type": "stream",
          "name": "stdout",
          "text": [
            "Epoch 20: Train Loss: 8764.2882, Val Loss: 7155.6436\n"
          ]
        },
        {
          "output_type": "stream",
          "name": "stderr",
          "text": [
            "Epoch 21/100 [Train]: 100%|██████████| 23/23 [00:00<00:00, 142.15it/s, Loss=8293.3656]\n"
          ]
        },
        {
          "output_type": "stream",
          "name": "stdout",
          "text": [
            "Epoch 21: Train Loss: 8293.3656, Val Loss: 6886.0765\n"
          ]
        },
        {
          "output_type": "stream",
          "name": "stderr",
          "text": [
            "Epoch 22/100 [Train]: 100%|██████████| 23/23 [00:00<00:00, 167.89it/s, Loss=7661.7447]\n"
          ]
        },
        {
          "output_type": "stream",
          "name": "stdout",
          "text": [
            "Epoch 22: Train Loss: 7661.7447, Val Loss: 6386.1725\n"
          ]
        },
        {
          "output_type": "stream",
          "name": "stderr",
          "text": [
            "Epoch 23/100 [Train]: 100%|██████████| 23/23 [00:00<00:00, 165.53it/s, Loss=7356.2486]\n"
          ]
        },
        {
          "output_type": "stream",
          "name": "stdout",
          "text": [
            "Epoch 23: Train Loss: 7356.2486, Val Loss: 5530.8542\n"
          ]
        },
        {
          "output_type": "stream",
          "name": "stderr",
          "text": [
            "Epoch 24/100 [Train]: 100%|██████████| 23/23 [00:00<00:00, 173.19it/s, Loss=6721.6918]\n"
          ]
        },
        {
          "output_type": "stream",
          "name": "stdout",
          "text": [
            "Epoch 24: Train Loss: 6721.6918, Val Loss: 5397.1362\n"
          ]
        },
        {
          "output_type": "stream",
          "name": "stderr",
          "text": [
            "Epoch 25/100 [Train]: 100%|██████████| 23/23 [00:00<00:00, 171.99it/s, Loss=6354.4748]\n"
          ]
        },
        {
          "output_type": "stream",
          "name": "stdout",
          "text": [
            "Epoch 25: Train Loss: 6354.4748, Val Loss: 4942.8123\n"
          ]
        },
        {
          "output_type": "stream",
          "name": "stderr",
          "text": [
            "Epoch 26/100 [Train]: 100%|██████████| 23/23 [00:00<00:00, 177.91it/s, Loss=5870.3259]\n"
          ]
        },
        {
          "output_type": "stream",
          "name": "stdout",
          "text": [
            "Epoch 26: Train Loss: 5870.3259, Val Loss: 4444.4508\n"
          ]
        },
        {
          "output_type": "stream",
          "name": "stderr",
          "text": [
            "Epoch 27/100 [Train]: 100%|██████████| 23/23 [00:00<00:00, 173.71it/s, Loss=5361.9736]\n"
          ]
        },
        {
          "output_type": "stream",
          "name": "stdout",
          "text": [
            "Epoch 27: Train Loss: 5361.9736, Val Loss: 3758.6987\n"
          ]
        },
        {
          "output_type": "stream",
          "name": "stderr",
          "text": [
            "Epoch 28/100 [Train]: 100%|██████████| 23/23 [00:00<00:00, 151.80it/s, Loss=5134.6503]\n"
          ]
        },
        {
          "output_type": "stream",
          "name": "stdout",
          "text": [
            "Epoch 28: Train Loss: 5134.6503, Val Loss: 3803.9476\n"
          ]
        },
        {
          "output_type": "stream",
          "name": "stderr",
          "text": [
            "Epoch 29/100 [Train]: 100%|██████████| 23/23 [00:00<00:00, 148.64it/s, Loss=4756.2547]\n"
          ]
        },
        {
          "output_type": "stream",
          "name": "stdout",
          "text": [
            "Epoch 29: Train Loss: 4756.2547, Val Loss: 3334.9682\n"
          ]
        },
        {
          "output_type": "stream",
          "name": "stderr",
          "text": [
            "Epoch 30/100 [Train]: 100%|██████████| 23/23 [00:00<00:00, 174.36it/s, Loss=4509.2203]\n"
          ]
        },
        {
          "output_type": "stream",
          "name": "stdout",
          "text": [
            "Epoch 30: Train Loss: 4509.2203, Val Loss: 2926.6817\n"
          ]
        },
        {
          "output_type": "stream",
          "name": "stderr",
          "text": [
            "Epoch 31/100 [Train]: 100%|██████████| 23/23 [00:00<00:00, 195.79it/s, Loss=3956.2511]\n"
          ]
        },
        {
          "output_type": "stream",
          "name": "stdout",
          "text": [
            "Epoch 31: Train Loss: 3956.2511, Val Loss: 2884.5356\n"
          ]
        },
        {
          "output_type": "stream",
          "name": "stderr",
          "text": [
            "Epoch 32/100 [Train]: 100%|██████████| 23/23 [00:00<00:00, 193.46it/s, Loss=3806.7483]\n"
          ]
        },
        {
          "output_type": "stream",
          "name": "stdout",
          "text": [
            "Epoch 32: Train Loss: 3806.7483, Val Loss: 2688.4000\n"
          ]
        },
        {
          "output_type": "stream",
          "name": "stderr",
          "text": [
            "Epoch 33/100 [Train]: 100%|██████████| 23/23 [00:00<00:00, 175.49it/s, Loss=3408.2569]\n"
          ]
        },
        {
          "output_type": "stream",
          "name": "stdout",
          "text": [
            "Epoch 33: Train Loss: 3408.2569, Val Loss: 2147.9489\n"
          ]
        },
        {
          "output_type": "stream",
          "name": "stderr",
          "text": [
            "Epoch 34/100 [Train]: 100%|██████████| 23/23 [00:00<00:00, 158.13it/s, Loss=3351.7384]\n"
          ]
        },
        {
          "output_type": "stream",
          "name": "stdout",
          "text": [
            "Epoch 34: Train Loss: 3351.7384, Val Loss: 2216.3984\n"
          ]
        },
        {
          "output_type": "stream",
          "name": "stderr",
          "text": [
            "Epoch 35/100 [Train]: 100%|██████████| 23/23 [00:00<00:00, 151.07it/s, Loss=3021.0582]\n"
          ]
        },
        {
          "output_type": "stream",
          "name": "stdout",
          "text": [
            "Epoch 35: Train Loss: 3021.0582, Val Loss: 1952.2492\n"
          ]
        },
        {
          "output_type": "stream",
          "name": "stderr",
          "text": [
            "Epoch 36/100 [Train]: 100%|██████████| 23/23 [00:00<00:00, 160.27it/s, Loss=2757.1030]\n"
          ]
        },
        {
          "output_type": "stream",
          "name": "stdout",
          "text": [
            "Epoch 36: Train Loss: 2757.1030, Val Loss: 1377.7719\n"
          ]
        },
        {
          "output_type": "stream",
          "name": "stderr",
          "text": [
            "Epoch 37/100 [Train]: 100%|██████████| 23/23 [00:00<00:00, 186.96it/s, Loss=2478.6115]\n"
          ]
        },
        {
          "output_type": "stream",
          "name": "stdout",
          "text": [
            "Epoch 37: Train Loss: 2478.6115, Val Loss: 1507.4980\n"
          ]
        },
        {
          "output_type": "stream",
          "name": "stderr",
          "text": [
            "Epoch 38/100 [Train]: 100%|██████████| 23/23 [00:00<00:00, 189.30it/s, Loss=2402.0136]\n"
          ]
        },
        {
          "output_type": "stream",
          "name": "stdout",
          "text": [
            "Epoch 38: Train Loss: 2402.0136, Val Loss: 1426.3883\n"
          ]
        },
        {
          "output_type": "stream",
          "name": "stderr",
          "text": [
            "Epoch 39/100 [Train]: 100%|██████████| 23/23 [00:00<00:00, 186.53it/s, Loss=2292.3453]\n"
          ]
        },
        {
          "output_type": "stream",
          "name": "stdout",
          "text": [
            "Epoch 39: Train Loss: 2292.3453, Val Loss: 1491.0662\n"
          ]
        },
        {
          "output_type": "stream",
          "name": "stderr",
          "text": [
            "Epoch 40/100 [Train]: 100%|██████████| 23/23 [00:00<00:00, 181.96it/s, Loss=1912.2637]\n"
          ]
        },
        {
          "output_type": "stream",
          "name": "stdout",
          "text": [
            "Epoch 40: Train Loss: 1912.2637, Val Loss: 1193.1025\n"
          ]
        },
        {
          "output_type": "stream",
          "name": "stderr",
          "text": [
            "Epoch 41/100 [Train]: 100%|██████████| 23/23 [00:00<00:00, 154.63it/s, Loss=2008.3765]\n"
          ]
        },
        {
          "output_type": "stream",
          "name": "stdout",
          "text": [
            "Epoch 41: Train Loss: 2008.3765, Val Loss: 1044.3536\n"
          ]
        },
        {
          "output_type": "stream",
          "name": "stderr",
          "text": [
            "Epoch 42/100 [Train]: 100%|██████████| 23/23 [00:00<00:00, 171.24it/s, Loss=1813.2330]\n"
          ]
        },
        {
          "output_type": "stream",
          "name": "stdout",
          "text": [
            "Epoch 42: Train Loss: 1813.2330, Val Loss: 915.8519\n"
          ]
        },
        {
          "output_type": "stream",
          "name": "stderr",
          "text": [
            "Epoch 43/100 [Train]: 100%|██████████| 23/23 [00:00<00:00, 168.51it/s, Loss=1875.7618]\n"
          ]
        },
        {
          "output_type": "stream",
          "name": "stdout",
          "text": [
            "Epoch 43: Train Loss: 1875.7618, Val Loss: 749.2008\n"
          ]
        },
        {
          "output_type": "stream",
          "name": "stderr",
          "text": [
            "Epoch 44/100 [Train]: 100%|██████████| 23/23 [00:00<00:00, 168.08it/s, Loss=1664.8104]\n"
          ]
        },
        {
          "output_type": "stream",
          "name": "stdout",
          "text": [
            "Epoch 44: Train Loss: 1664.8104, Val Loss: 819.4124\n"
          ]
        },
        {
          "output_type": "stream",
          "name": "stderr",
          "text": [
            "Epoch 45/100 [Train]: 100%|██████████| 23/23 [00:00<00:00, 178.12it/s, Loss=1563.9079]\n"
          ]
        },
        {
          "output_type": "stream",
          "name": "stdout",
          "text": [
            "Epoch 45: Train Loss: 1563.9079, Val Loss: 474.4136\n"
          ]
        },
        {
          "output_type": "stream",
          "name": "stderr",
          "text": [
            "Epoch 46/100 [Train]: 100%|██████████| 23/23 [00:00<00:00, 157.11it/s, Loss=1341.1076]\n"
          ]
        },
        {
          "output_type": "stream",
          "name": "stdout",
          "text": [
            "Epoch 46: Train Loss: 1341.1076, Val Loss: 470.0930\n"
          ]
        },
        {
          "output_type": "stream",
          "name": "stderr",
          "text": [
            "Epoch 47/100 [Train]: 100%|██████████| 23/23 [00:00<00:00, 145.42it/s, Loss=1382.3053]\n"
          ]
        },
        {
          "output_type": "stream",
          "name": "stdout",
          "text": [
            "Epoch 47: Train Loss: 1382.3053, Val Loss: 376.3817\n"
          ]
        },
        {
          "output_type": "stream",
          "name": "stderr",
          "text": [
            "Epoch 48/100 [Train]: 100%|██████████| 23/23 [00:00<00:00, 136.97it/s, Loss=1298.8927]\n"
          ]
        },
        {
          "output_type": "stream",
          "name": "stdout",
          "text": [
            "Epoch 48: Train Loss: 1298.8927, Val Loss: 476.6165\n"
          ]
        },
        {
          "output_type": "stream",
          "name": "stderr",
          "text": [
            "Epoch 49/100 [Train]: 100%|██████████| 23/23 [00:00<00:00, 148.55it/s, Loss=1221.0637]\n"
          ]
        },
        {
          "output_type": "stream",
          "name": "stdout",
          "text": [
            "Epoch 49: Train Loss: 1221.0637, Val Loss: 457.7795\n"
          ]
        },
        {
          "output_type": "stream",
          "name": "stderr",
          "text": [
            "Epoch 50/100 [Train]: 100%|██████████| 23/23 [00:00<00:00, 148.37it/s, Loss=1486.3099]\n"
          ]
        },
        {
          "output_type": "stream",
          "name": "stdout",
          "text": [
            "Epoch 50: Train Loss: 1486.3099, Val Loss: 266.6289\n"
          ]
        },
        {
          "output_type": "stream",
          "name": "stderr",
          "text": [
            "Epoch 51/100 [Train]: 100%|██████████| 23/23 [00:00<00:00, 157.53it/s, Loss=1786.4007]\n"
          ]
        },
        {
          "output_type": "stream",
          "name": "stdout",
          "text": [
            "Epoch 51: Train Loss: 1786.4007, Val Loss: 279.9164\n"
          ]
        },
        {
          "output_type": "stream",
          "name": "stderr",
          "text": [
            "Epoch 52/100 [Train]: 100%|██████████| 23/23 [00:00<00:00, 179.12it/s, Loss=927.3808]\n"
          ]
        },
        {
          "output_type": "stream",
          "name": "stdout",
          "text": [
            "Epoch 52: Train Loss: 927.3808, Val Loss: 265.8244\n"
          ]
        },
        {
          "output_type": "stream",
          "name": "stderr",
          "text": [
            "Epoch 53/100 [Train]: 100%|██████████| 23/23 [00:00<00:00, 199.52it/s, Loss=1077.1621]\n"
          ]
        },
        {
          "output_type": "stream",
          "name": "stdout",
          "text": [
            "Epoch 53: Train Loss: 1077.1621, Val Loss: 146.6871\n"
          ]
        },
        {
          "output_type": "stream",
          "name": "stderr",
          "text": [
            "Epoch 54/100 [Train]: 100%|██████████| 23/23 [00:00<00:00, 149.29it/s, Loss=1445.5635]\n"
          ]
        },
        {
          "output_type": "stream",
          "name": "stdout",
          "text": [
            "Epoch 54: Train Loss: 1445.5635, Val Loss: 298.4547\n"
          ]
        },
        {
          "output_type": "stream",
          "name": "stderr",
          "text": [
            "Epoch 55/100 [Train]: 100%|██████████| 23/23 [00:00<00:00, 174.61it/s, Loss=1133.8838]\n"
          ]
        },
        {
          "output_type": "stream",
          "name": "stdout",
          "text": [
            "Epoch 55: Train Loss: 1133.8838, Val Loss: 174.2196\n"
          ]
        },
        {
          "output_type": "stream",
          "name": "stderr",
          "text": [
            "Epoch 56/100 [Train]: 100%|██████████| 23/23 [00:00<00:00, 192.31it/s, Loss=1125.7127]\n"
          ]
        },
        {
          "output_type": "stream",
          "name": "stdout",
          "text": [
            "Epoch 56: Train Loss: 1125.7127, Val Loss: 105.2418\n"
          ]
        },
        {
          "output_type": "stream",
          "name": "stderr",
          "text": [
            "Epoch 57/100 [Train]: 100%|██████████| 23/23 [00:00<00:00, 187.04it/s, Loss=1264.4878]\n"
          ]
        },
        {
          "output_type": "stream",
          "name": "stdout",
          "text": [
            "Epoch 57: Train Loss: 1264.4878, Val Loss: 153.5801\n"
          ]
        },
        {
          "output_type": "stream",
          "name": "stderr",
          "text": [
            "Epoch 58/100 [Train]: 100%|██████████| 23/23 [00:00<00:00, 170.60it/s, Loss=962.5180]\n"
          ]
        },
        {
          "output_type": "stream",
          "name": "stdout",
          "text": [
            "Epoch 58: Train Loss: 962.5180, Val Loss: 121.1653\n"
          ]
        },
        {
          "output_type": "stream",
          "name": "stderr",
          "text": [
            "Epoch 59/100 [Train]: 100%|██████████| 23/23 [00:00<00:00, 151.88it/s, Loss=982.4616]\n"
          ]
        },
        {
          "output_type": "stream",
          "name": "stdout",
          "text": [
            "Epoch 59: Train Loss: 982.4616, Val Loss: 91.1245\n"
          ]
        },
        {
          "output_type": "stream",
          "name": "stderr",
          "text": [
            "Epoch 60/100 [Train]: 100%|██████████| 23/23 [00:00<00:00, 180.16it/s, Loss=1509.3695]\n"
          ]
        },
        {
          "output_type": "stream",
          "name": "stdout",
          "text": [
            "Epoch 60: Train Loss: 1509.3695, Val Loss: 135.7520\n"
          ]
        },
        {
          "output_type": "stream",
          "name": "stderr",
          "text": [
            "Epoch 61/100 [Train]: 100%|██████████| 23/23 [00:00<00:00, 160.53it/s, Loss=1337.4114]\n"
          ]
        },
        {
          "output_type": "stream",
          "name": "stdout",
          "text": [
            "Epoch 61: Train Loss: 1337.4114, Val Loss: 177.6370\n"
          ]
        },
        {
          "output_type": "stream",
          "name": "stderr",
          "text": [
            "Epoch 62/100 [Train]: 100%|██████████| 23/23 [00:00<00:00, 139.01it/s, Loss=1175.1082]\n"
          ]
        },
        {
          "output_type": "stream",
          "name": "stdout",
          "text": [
            "Epoch 62: Train Loss: 1175.1082, Val Loss: 274.1810\n"
          ]
        },
        {
          "output_type": "stream",
          "name": "stderr",
          "text": [
            "Epoch 63/100 [Train]: 100%|██████████| 23/23 [00:00<00:00, 166.19it/s, Loss=1044.5411]\n"
          ]
        },
        {
          "output_type": "stream",
          "name": "stdout",
          "text": [
            "Epoch 63: Train Loss: 1044.5411, Val Loss: 27.8868\n"
          ]
        },
        {
          "output_type": "stream",
          "name": "stderr",
          "text": [
            "Epoch 64/100 [Train]: 100%|██████████| 23/23 [00:00<00:00, 187.78it/s, Loss=967.6575]\n"
          ]
        },
        {
          "output_type": "stream",
          "name": "stdout",
          "text": [
            "Epoch 64: Train Loss: 967.6575, Val Loss: 109.8059\n"
          ]
        },
        {
          "output_type": "stream",
          "name": "stderr",
          "text": [
            "Epoch 65/100 [Train]: 100%|██████████| 23/23 [00:00<00:00, 194.18it/s, Loss=886.5500]\n"
          ]
        },
        {
          "output_type": "stream",
          "name": "stdout",
          "text": [
            "Epoch 65: Train Loss: 886.5500, Val Loss: 61.2145\n"
          ]
        },
        {
          "output_type": "stream",
          "name": "stderr",
          "text": [
            "Epoch 66/100 [Train]: 100%|██████████| 23/23 [00:00<00:00, 163.22it/s, Loss=1359.8246]\n"
          ]
        },
        {
          "output_type": "stream",
          "name": "stdout",
          "text": [
            "Epoch 66: Train Loss: 1359.8246, Val Loss: 148.8062\n"
          ]
        },
        {
          "output_type": "stream",
          "name": "stderr",
          "text": [
            "Epoch 67/100 [Train]: 100%|██████████| 23/23 [00:00<00:00, 175.82it/s, Loss=1172.7931]\n"
          ]
        },
        {
          "output_type": "stream",
          "name": "stdout",
          "text": [
            "Epoch 67: Train Loss: 1172.7931, Val Loss: 86.0550\n"
          ]
        },
        {
          "output_type": "stream",
          "name": "stderr",
          "text": [
            "Epoch 68/100 [Train]: 100%|██████████| 23/23 [00:00<00:00, 187.61it/s, Loss=923.5628]\n"
          ]
        },
        {
          "output_type": "stream",
          "name": "stdout",
          "text": [
            "Epoch 68: Train Loss: 923.5628, Val Loss: 114.9430\n"
          ]
        },
        {
          "output_type": "stream",
          "name": "stderr",
          "text": [
            "Epoch 69/100 [Train]: 100%|██████████| 23/23 [00:00<00:00, 159.93it/s, Loss=934.0446]\n"
          ]
        },
        {
          "output_type": "stream",
          "name": "stdout",
          "text": [
            "Epoch 69: Train Loss: 934.0446, Val Loss: 145.3321\n"
          ]
        },
        {
          "output_type": "stream",
          "name": "stderr",
          "text": [
            "Epoch 70/100 [Train]: 100%|██████████| 23/23 [00:00<00:00, 192.07it/s, Loss=1088.3538]\n"
          ]
        },
        {
          "output_type": "stream",
          "name": "stdout",
          "text": [
            "Epoch 70: Train Loss: 1088.3538, Val Loss: 165.7951\n"
          ]
        },
        {
          "output_type": "stream",
          "name": "stderr",
          "text": [
            "Epoch 71/100 [Train]: 100%|██████████| 23/23 [00:00<00:00, 144.30it/s, Loss=1092.3773]\n"
          ]
        },
        {
          "output_type": "stream",
          "name": "stdout",
          "text": [
            "Epoch 71: Train Loss: 1092.3773, Val Loss: 40.4253\n"
          ]
        },
        {
          "output_type": "stream",
          "name": "stderr",
          "text": [
            "Epoch 72/100 [Train]: 100%|██████████| 23/23 [00:00<00:00, 166.12it/s, Loss=1382.1003]\n"
          ]
        },
        {
          "output_type": "stream",
          "name": "stdout",
          "text": [
            "Epoch 72: Train Loss: 1382.1003, Val Loss: 44.4667\n"
          ]
        },
        {
          "output_type": "stream",
          "name": "stderr",
          "text": [
            "Epoch 73/100 [Train]: 100%|██████████| 23/23 [00:00<00:00, 151.24it/s, Loss=967.0493]\n"
          ]
        },
        {
          "output_type": "stream",
          "name": "stdout",
          "text": [
            "Epoch 73: Train Loss: 967.0493, Val Loss: 66.8825\n",
            "Early stopping triggered after epoch 73\n",
            "\n",
            "4. Evaluating model...\n",
            "Evaluating on test set...\n",
            "Evaluating model on test set with 7 batches...\n",
            "Making predictions on 7 batches...\n",
            "Batch 0: data shape torch.Size([32, 10]), target shape torch.Size([32]), output shape torch.Size([32, 453])\n",
            "Batch 1: data shape torch.Size([32, 10]), target shape torch.Size([32]), output shape torch.Size([32, 453])\n",
            "Batch 2: data shape torch.Size([32, 10]), target shape torch.Size([32]), output shape torch.Size([32, 453])\n",
            "Final predictions shape: (90600,)\n",
            "Final true_labels shape: (200,)\n",
            "WARNING: Shape mismatch! Predictions: 90600, Labels: 200\n",
            "Truncated to size: 200\n",
            "Evaluation - Predictions shape: (200,)\n",
            "Evaluation - True labels shape: (200,)\n",
            "Regression metrics calculated successfully:\n",
            "MSE: 27550.2852\n",
            "RMSE: 165.9828\n",
            "MAE: 133.6551\n",
            "R²: -0.4511\n",
            "Evaluating on validation set...\n",
            "Evaluating model on test set with 3 batches...\n",
            "Making predictions on 3 batches...\n",
            "Batch 0: data shape torch.Size([32, 10]), target shape torch.Size([32]), output shape torch.Size([32, 453])\n",
            "Batch 1: data shape torch.Size([32, 10]), target shape torch.Size([32]), output shape torch.Size([32, 453])\n",
            "Batch 2: data shape torch.Size([16, 10]), target shape torch.Size([16]), output shape torch.Size([16, 453])\n",
            "Final predictions shape: (36240,)\n",
            "Final true_labels shape: (80,)\n",
            "WARNING: Shape mismatch! Predictions: 36240, Labels: 80\n",
            "Truncated to size: 80\n",
            "Evaluation - Predictions shape: (80,)\n",
            "Evaluation - True labels shape: (80,)\n",
            "Regression metrics calculated successfully:\n",
            "MSE: 18722.5957\n",
            "RMSE: 136.8305\n",
            "MAE: 107.9319\n",
            "R²: -0.2175\n",
            "\n",
            "=== REGRESSION RESULTS ===\n",
            "Test MSE: 27550.2852\n",
            "Test RMSE: 165.9828\n",
            "Test MAE: 133.6551\n",
            "Test R² Score: -0.4511\n",
            "\n",
            "5. Creating visualizations...\n"
          ]
        },
        {
          "output_type": "display_data",
          "data": {
            "text/plain": [
              "<Figure size 1500x1000 with 4 Axes>"
            ],
            "image/png": "[encoded data removed]"
          },
          "metadata": {}
        },
        {
          "output_type": "display_data",
          "data": {
            "text/plain": [
              "<Figure size 1500x1000 with 4 Axes>"
            ],
            "image/png": "[encoded data removed]"
          },
          "metadata": {}
        },
        {
          "output_type": "stream",
          "name": "stdout",
          "text": [
            "\n",
            "6. Generating summary report...\n",
            "==================================================\n",
            "MODEL SUMMARY REPORT\n",
            "==================================================\n",
            "\n",
            "1. MODEL ARCHITECTURE:\n",
            "------------------------------\n",
            "Total parameters: 39,493\n",
            "Trainable parameters: 39,493\n",
            "Model size: 0.15 MB (float32)\n",
            "\n",
            "2. TRAINING SUMMARY:\n",
            "------------------------------\n",
            "Total epochs trained: 73\n",
            "Final training loss: 967.0493\n",
            "Final validation loss: 66.8825\n",
            "Best validation loss: 27.8868\n",
            "Accuracy data available but empty or incomplete.\n",
            "\n",
            "3. PERFORMANCE METRICS:\n",
            "------------------------------\n",
            "Test MSE: 27550.2852\n",
            "Test RMSE: 165.9828\n",
            "Test MAE: 133.6551\n",
            "Test R² Score: -0.4511\n",
            "\n",
            "4. OVERFITTING ANALYSIS:\n",
            "------------------------------\n",
            "Final loss difference (val - train): -900.1668\n",
            "⚠️  WARNING: Model may be underfitting\n",
            "\n",
            "5. RECOMMENDATIONS:\n",
            "------------------------------\n",
            "• Consider increasing model complexity\n",
            "• Reduce regularization\n",
            "• Train for more epochs\n",
            "• Check for data quality issues\n",
            "Model and results successfully saved to: regression_results\n"
          ]
        }
      ]
    }
  ]
}