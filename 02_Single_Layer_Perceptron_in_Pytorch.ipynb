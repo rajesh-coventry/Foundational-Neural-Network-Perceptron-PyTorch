{
  "nbformat": 4,
  "nbformat_minor": 0,
  "metadata": {
    "colab": {
      "provenance": [],
      "authorship_tag": "ABX9TyMgvUs8CiEeHUcswsx+j+2p",
      "include_colab_link": true
    },
    "kernelspec": {
      "name": "python3",
      "display_name": "Python 3"
    },
    "language_info": {
      "name": "python"
    }
  },
  "cells": [
    {
      "cell_type": "markdown",
      "metadata": {
        "id": "view-in-github",
        "colab_type": "text"
      },
      "source": [
        "<a href=\"https://colab.research.google.com/github/rajesh-coventry/Foundational-Neural-Network-Perceptron-PyTorch/blob/master/02_Single_Layer_Perceptron_in_Pytorch.ipynb\" target=\"_parent\"><img src=\"https://colab.research.google.com/assets/colab-badge.svg\" alt=\"Open In Colab\"/></a>"
      ]
    },
    {
      "cell_type": "markdown",
      "source": [
        "# **Single Layer Perceptron in PyTorch:**"
      ],
      "metadata": {
        "id": "TdF3k0EMMrfr"
      }
    },
    {
      "cell_type": "markdown",
      "source": [
        "The `Perceptron` is one of the simplest artificial neural network architectures, introduced by `Frank Rosenblatt` in 1957. It is primarily used for `binary classification`.\n",
        "\n",
        "At that time, traditional methods like `Statistical Machine Learning` and `Conventional Programming` were commonly used for predictions. Despite being one of the simplest forms of artificial neural networks, the `Perceptron model` proved to be highly effective in solving specific classification problems, laying the groundwork for advancements in AI and machine learning."
      ],
      "metadata": {
        "id": "yA7urpw_Rkyg"
      }
    },
    {
      "cell_type": "markdown",
      "source": [
        "## **What is Perceptron?**\n",
        "\n",
        "`Perceptron` is a type of neural network that performs `binary classification` that maps input features to an output decision, usually classifying data into one of `two categories`, such as `0 or 1`.\n",
        "\n",
        "`Perceptron` consists of a single layer of input nodes that are fully connected to a layer of output nodes. It is particularly good at learning linearly separable patterns. It utilizes a variation of `artificial neurons` called `Threshold Logic Units` $(TLU)$, which were first introduced by `McCulloch` and `Walter Pitts` in the 1940s. This foundational model has played a crucial role in the development of more advanced neural networks and machine learning algorithms."
      ],
      "metadata": {
        "id": "o0Ao1z0uSC3A"
      }
    },
    {
      "cell_type": "markdown",
      "source": [
        "## **Types of Perceptron:**\n",
        "\n",
        "> - **`Single-Layer Perceptron`** is a type of perceptron that is limited to `learning linearly separable patterns`. It is effective for tasks where the data can be divided into distinct categories through a straight line. While powerful in its simplicity, it struggles with more complex problems where the relationship between inputs and outputs is `non-linear`.\n",
        "\n",
        "> - **`Multi-Layer Perceptron`** possess enhanced processing capabilities as they consist of two or more layers, adept at handling more complex patterns and relationships within the data."
      ],
      "metadata": {
        "id": "uw6CFxF0Sc7Y"
      }
    },
    {
      "cell_type": "markdown",
      "source": [
        "## **Basic Components of Perceptron:**\n",
        "\n",
        "A Perceptron is composed of key components that work together to process information and make predictions.\n",
        "\n",
        "1. **`Input Features:`**   \n",
        "The perceptron takes multiple input features, each representing a characteristic of the input data.\n",
        "\n",
        "2. **`Weights:`**   \n",
        "Each input feature is assigned a weight that determines its influence on the output. These weights are adjusted during training to find the optimal values.\n",
        "\n",
        "3. **`Summation Function:`**   \n",
        "The perceptron calculates the weighted sum of its inputs, combining them with their respective weights.\n",
        "\n",
        "4. **`Activation Function:`**  \n",
        "The weighted sum is passed through the Heaviside step function, comparing it to a threshold to produce a binary output (0 or 1).\n",
        "\n",
        "5. **`Output:`**   \n",
        "The final output is determined by the activation function, often used for binary classification tasks.\n",
        "\n",
        "\n",
        "6. **`Bias:`**  \n",
        "The bias term helps the perceptron make adjustments independent of the input, improving its flexibility in learning.\n",
        "\n",
        "7. **`Learning Algorithm:`**  \n",
        "The perceptron adjusts its weights and bias using a learning algorithm, such as the Perceptron Learning Rule, to minimize prediction errors."
      ],
      "metadata": {
        "id": "3CXhl_9ITN5r"
      }
    },
    {
      "cell_type": "markdown",
      "source": [
        "These components enable the `perceptron` to learn from data and make predictions. While a single perceptron can handle simple binary classification, complex tasks require multiple perceptrons organized into layers, forming a neural network."
      ],
      "metadata": {
        "id": "9blC8fAbmhmF"
      }
    },
    {
      "cell_type": "markdown",
      "source": [
        "## **How does Perceptron work?**\n",
        "\n",
        "A `weight` is assigned to each input node of a perceptron, indicating the importance of that input in determining the output. The Perceptron’s output is calculated as a `weighted sum` of the inputs, which is then passed through an `activation function` to decide whether the Perceptron will fire.\n",
        "\n",
        "**The weighted sum is computed as:**"
      ],
      "metadata": {
        "id": "iVwRR6yLmqSX"
      }
    },
    {
      "cell_type": "markdown",
      "source": [
        "> $( z = w_1 x_1 + w_2 x_2 + \\ldots + w_n x_n = X^T W $\\)"
      ],
      "metadata": {
        "id": "R4szc5v1m7I-"
      }
    },
    {
      "cell_type": "markdown",
      "source": [
        "The `step function` compares this weighted sum to a `threshold`. If the input is larger than the threshold value, the output is 1; otherwise, it's 0. This is the most common activation function used in `Perceptrons` are represented by the Heaviside step function:"
      ],
      "metadata": {
        "id": "qS5eCVHLnkl-"
      }
    },
    {
      "cell_type": "markdown",
      "source": [
        "\n",
        "h(z) =\n",
        "\\begin{cases}\n",
        "0 & \\text{if } z < \\text{Threshold} \\\\\n",
        "1 & \\text{if } z \\geq \\text{Threshold}\n",
        "\\end{cases}\n"
      ],
      "metadata": {
        "id": "aOrxA92Mny4i"
      }
    },
    {
      "cell_type": "markdown",
      "source": [
        "A perceptron consists of a single layer of `Threshold Logic Units` $(TLU)$, with each $TLU$ fully connected to all input nodes."
      ],
      "metadata": {
        "id": "m0UNhXN-n9nv"
      }
    },
    {
      "cell_type": "markdown",
      "source": [
        "> ![](https://media.geeksforgeeks.org/wp-content/uploads/20230426162726/Perceptron-1.webp)"
      ],
      "metadata": {
        "id": "uTLJ6vSdoFl-"
      }
    },
    {
      "cell_type": "markdown",
      "source": [
        "In a `fully connected layer`, also known as a `dense layer`, all neurons in one layer are connected to every neuron in the previous layer.\n",
        "\n",
        "The output of the fully connected layer is computed as:\n",
        "\n",
        "> $( f_{W,b}(X) = h(XW + b) $\\)"
      ],
      "metadata": {
        "id": "ChPocVgXoQRj"
      }
    },
    {
      "cell_type": "markdown",
      "source": [
        "where\n",
        "X is the input,\n",
        "W is the weight for each inputs neurons and\n",
        "b is the bias and\n",
        "h is the step function.\n",
        "\n",
        "During training, the Perceptron's weights are adjusted to minimize the difference between the predicted output and the actual output. This is achieved using supervised learning algorithms like the delta rule or the Perceptron learning rule.\n",
        "\n",
        "The weight update formula is:"
      ],
      "metadata": {
        "id": "2Dmc9qmwomYK"
      }
    },
    {
      "cell_type": "markdown",
      "source": [
        "\\[$\n",
        "w_{i,j} = w_{i,j} + \\eta (y_j - \\hat{y}_j) x_i\n",
        "$\\]\n",
        "\n",
        "Where:\n",
        "\n",
        "- \\( $w_{i,j} $\\) is the weight between the \\($ i $\\)-th input and \\($ j $\\)-th output neuron.\n",
        "\n",
        "- \\( $x_i $\\) is the \\($ i $\\)-th input value.\n",
        "\n",
        "- \\( $y_j $\\) is the actual value.\n",
        "\n",
        "- \\( $\\hat{y}_j $\\) is the predicted value.\n",
        "\n",
        "- \\( $\\eta $\\) is the learning rate, controlling how much the weights are adjusted."
      ],
      "metadata": {
        "id": "22oEzyp6o6Hh"
      }
    },
    {
      "cell_type": "markdown",
      "source": [
        "This process enables the perceptron to learn from data and improve its prediction accuracy over time."
      ],
      "metadata": {
        "id": "8KjDZSXSpDrI"
      }
    },
    {
      "cell_type": "markdown",
      "source": [
        "### **`Example:` Perceptron in Action:**\n",
        "\n",
        "Let’s take a simple example of classifying whether a given fruit is an `apple or not` based on two inputs:\n",
        "  - its weight (in grams) and   \n",
        "  - its color (on a scale of 0 to 1, where 1 means red).\n",
        "  \n",
        "The `perceptron` receives these inputs, multiplies them by their `weights`, adds a `bias`, and applies the `activation function` to decide whether the fruit is an apple or not.\n",
        "\n",
        "  - `Input 1` (Weight): 150 grams\n",
        "  - `Input 2` (Color): 0.9 (since the fruit is mostly red)\n",
        "  - `Weights`: [0.5, 1.0]\n",
        "  - `Bias`: 1.5\n",
        "\n",
        "The perceptron’s weighted sum would be:\n",
        "  > $\n",
        "(150 \\times 0.5) + (0.9 \\times 1.0) + 1.5 = 76.4\n",
        "$"
      ],
      "metadata": {
        "id": "rLq77FiL9LHl"
      }
    },
    {
      "cell_type": "markdown",
      "source": [
        "Let’s assume the activation function uses a threshold of 75. Since `76.4 > 75`, the perceptron classifies the fruit as an apple (`output = 1`)."
      ],
      "metadata": {
        "id": "SL_p6Mv6AXQC"
      }
    },
    {
      "cell_type": "markdown",
      "source": [
        "## **Building and Training Single Layer Perceptron Model:**\n",
        "\n",
        "For building the `perceptron model` we are going to implement following steps\n",
        "\n",
        "### **`Step 1:` Initialize the weight and learning rate:**\n",
        "\n",
        "We consider the `weight values` for the number of inputs + 1 (with the additional +1 accounting for the bias term). This ensures that both the inputs and bias are included during training."
      ],
      "metadata": {
        "id": "in346AFTAey6"
      }
    },
    {
      "cell_type": "code",
      "source": [
        "class Perceptron:\n",
        "    def __init__(self, num_inputs, learning_rate=0.01):\n",
        "        # Initialize the weights (num_inputs + 1 for bias)\n",
        "        self.weights = np.random.rand(num_inputs + 1)  # Random initialization\n",
        "        self.learning_rate = learning_rate  # Learning rate"
      ],
      "metadata": {
        "id": "NVnj1Q4UAwup"
      },
      "execution_count": null,
      "outputs": []
    },
    {
      "cell_type": "markdown",
      "source": [
        "### **`Step 2:` Define the Linear Layer:**\n",
        "\n",
        "The first step is to calculate the weighted sum of the inputs. This is done using the formula: `Z = XW + b`, where `X` represents the `inputs`, `W` the `weights`, and `b` the `bias`."
      ],
      "metadata": {
        "id": "UqGZsH-6A4__"
      }
    },
    {
      "cell_type": "code",
      "source": [
        "    def linear(self, inputs):\n",
        "        Z = inputs @ self.weights[1:].T + self.weights[0]  # Weighted sum: XW + b\n",
        "        return Z"
      ],
      "metadata": {
        "id": "9rSmykz2BHLW"
      },
      "execution_count": null,
      "outputs": []
    },
    {
      "cell_type": "markdown",
      "source": [
        "### **`Step 3`: Define the Activation Function:**\n",
        "\n",
        "The Heaviside Step function is used as the activation function, which compares the weighted sum to a threshold. If the sum is greater than or equal to 0, it outputs 1; otherwise, it outputs 0."
      ],
      "metadata": {
        "id": "IuqrIrRsBO3S"
      }
    },
    {
      "cell_type": "code",
      "source": [
        "    def Heaviside_step_fn(self, z):\n",
        "        if z >= 0:\n",
        "            return 1  # Output 1 if the input is >= 0\n",
        "        else:\n",
        "            return 0  # Output 0 otherwise"
      ],
      "metadata": {
        "id": "PbIt0xTzBYaN"
      },
      "execution_count": null,
      "outputs": []
    },
    {
      "cell_type": "markdown",
      "source": [
        "## **`Step 4:` Define the Prediction:**\n",
        "\n",
        "Use the `linear function` followed by the `activation function` to generate predictions based on the input features."
      ],
      "metadata": {
        "id": "kxnw31YdBcyc"
      }
    },
    {
      "cell_type": "code",
      "source": [
        "    def predict(self, inputs):\n",
        "        Z = self.linear(inputs)  # Pass inputs through the linear layer\n",
        "        try:\n",
        "            pred = []\n",
        "            for z in Z:  # For batch inputs\n",
        "                pred.append(self.Heaviside_step_fn(z))\n",
        "        except:\n",
        "            return self.Heaviside_step_fn(Z)  # For single input\n",
        "        return pred  # Return prediction"
      ],
      "metadata": {
        "id": "agF8TIYuBqLd"
      },
      "execution_count": null,
      "outputs": []
    },
    {
      "cell_type": "markdown",
      "source": [
        "### **`Step 5:` Define the Loss Function:**\n",
        "\n",
        "The `loss function` calculates the `error between the predicted output and the actual output`. In the `Perceptron`, the loss is the difference between the target value and the predicted value."
      ],
      "metadata": {
        "id": "oYN1uOVgBx2Q"
      }
    },
    {
      "cell_type": "code",
      "source": [
        "    def loss(self, prediction, target):\n",
        "        loss = (prediction - target)  # Error or loss calculation\n",
        "        return loss"
      ],
      "metadata": {
        "id": "k_XiHRyMB8UI"
      },
      "execution_count": null,
      "outputs": []
    },
    {
      "cell_type": "markdown",
      "source": [
        "### **`Step 6:` Define Training:**\n",
        "\n",
        "In this step, `weights` and `bias` are updated according to the `error` calculated from the loss function. The `Perceptron learning rule` is applied to adjust the weights to minimize the error."
      ],
      "metadata": {
        "id": "gjCXsJuaCAKI"
      }
    },
    {
      "cell_type": "code",
      "source": [
        "    def train(self, inputs, target):\n",
        "        prediction = self.predict(inputs)  # Get prediction\n",
        "        error = self.loss(prediction, target)  # Calculate error (loss)\n",
        "        self.weights[1:] += self.learning_rate * error * inputs  # Update weights\n",
        "        self.weights[0] += self.learning_rate * error  # Update bias"
      ],
      "metadata": {
        "id": "uU7_w0rBCUKx"
      },
      "execution_count": null,
      "outputs": []
    },
    {
      "cell_type": "markdown",
      "source": [
        "### **`Step 7:` Fit the Model:**\n",
        "\n",
        "The fitting process involves training the model over multiple iterations (epochs) to adjust the `weights` and `bias`. This allows the `Perceptron` to learn from the data and improve its prediction accuracy over time."
      ],
      "metadata": {
        "id": "7ieT2OXjCXXs"
      }
    },
    {
      "cell_type": "code",
      "source": [
        "    def fit(self, X, y, num_epochs):\n",
        "        for epoch in range(num_epochs):\n",
        "            for inputs, target in zip(X, y):  # Loop through dataset\n",
        "                self.train(inputs, target)  # Train on each input-target pair"
      ],
      "metadata": {
        "id": "X53EfNSPCh8j"
      },
      "execution_count": null,
      "outputs": []
    },
    {
      "cell_type": "markdown",
      "source": [],
      "metadata": {
        "id": "R7vbWxGtFO3V"
      }
    },
    {
      "cell_type": "code",
      "source": [
        "# Complete Code:\n",
        "\n",
        "# Import the necessary library\n",
        "import numpy as np\n",
        "\n",
        "# Build the Perceptron Model:\n",
        "class Perceptron:\n",
        "\n",
        "    def __init__(self, num_inputs, learning_rate=0.01):\n",
        "        # Initialize the weight and learning rate\n",
        "        self.weights = np.random.rand(num_inputs + 1)\n",
        "        self.learning_rate = learning_rate\n",
        "\n",
        "    # Define the first linear layer\n",
        "    def linear(self, inputs):\n",
        "        Z = inputs @ self.weights[1:].T + + self.weights[0]\n",
        "        return Z\n",
        "\n",
        "    # Define the Heaviside Step function.\n",
        "    def Heaviside_step_fn(self, z):\n",
        "        if z>=0:\n",
        "            return 1\n",
        "        else:\n",
        "            return 0\n",
        "\n",
        "    # Define the Prediction\n",
        "    def predict(self, inputs):\n",
        "        Z = self.linear(inputs)\n",
        "        try:\n",
        "            pred = []\n",
        "            for z in Z:\n",
        "                pred.append(self.Heaviside_step_fn(z))\n",
        "        except:\n",
        "            return self.Heaviside_step_fn(Z)\n",
        "        return pred\n",
        "\n",
        "    # Define the Loss function\n",
        "    def loss(self, prediction, target):\n",
        "        loss = (prediction-target)\n",
        "        return loss\n",
        "\n",
        "    #Define training\n",
        "    def train(self, inputs, target):\n",
        "        prediction = self.predict(inputs)\n",
        "        error = self.loss(prediction, target)\n",
        "        self.weights[1:] += self.learning_rate * error * inputs\n",
        "        self.weights[0]  += self.learning_rate * error\n",
        "\n",
        "    # Fit the model\n",
        "    def fit(self, X, y, num_epochs):\n",
        "        for epoch in range(num_epochs):\n",
        "            for inputs, target in zip(X, y):\n",
        "                self.train(inputs, target)"
      ],
      "metadata": {
        "id": "rosyvNRzFPj3"
      },
      "execution_count": null,
      "outputs": []
    },
    {
      "cell_type": "markdown",
      "source": [
        "---\n",
        "----\n",
        "---\n",
        "----\n",
        "----\n",
        "----\n",
        "----\n",
        "----"
      ],
      "metadata": {
        "id": "3eoqCqKHGAMS"
      }
    },
    {
      "cell_type": "markdown",
      "source": [
        "## **Binary Classification using Perceptron with PyTorch:**\n",
        "\n",
        "In this section, we are going to implement perceptron model using PyTorch to perform binary classification on linearly separable data that is generated using `make_blobs()`.\n",
        "\n",
        "**The steps include:**\n",
        "\n",
        "1. **`Data Preparation:`**   \n",
        "A synthetic dataset with two features is created, scaled, and split into training and test sets.\n",
        "\n",
        "2. **`Perceptron Model:`**   \n",
        "A single-layer perceptron is implemented using PyTorch's nn.Module.\n",
        "\n",
        "3. **`Training:`**   \n",
        "The Perceptron is trained using a simple learning rate and weight update rule for 10 epochs.\n",
        "\n",
        "4. **`Evaluation:`**   \n",
        "The model's performance is evaluated by calculating the accuracy on the test set.\n",
        "\n",
        "5. **`Visualization:`**   \n",
        "The test dataset is visualized, with the predictions color-coded for easy interpretation."
      ],
      "metadata": {
        "id": "4NwqtiicGCov"
      }
    },
    {
      "cell_type": "code",
      "source": [
        "# Import the necessary libraries\n",
        "import torch\n",
        "import torch.nn as nn\n",
        "from sklearn.datasets import make_blobs\n",
        "import matplotlib.pyplot as plt\n",
        "from sklearn.model_selection import train_test_split\n",
        "from sklearn.preprocessing import StandardScaler\n",
        "\n",
        "# Generate a linearly separable dataset with two classes\n",
        "X, y = make_blobs(n_samples=1000,\n",
        "                  n_features=2,\n",
        "                  centers=2,\n",
        "                  cluster_std=3,\n",
        "                  random_state=23)\n"
      ],
      "metadata": {
        "id": "IrTLwg2JGkPb"
      },
      "execution_count": null,
      "outputs": []
    },
    {
      "cell_type": "code",
      "source": [
        "X.shape"
      ],
      "metadata": {
        "colab": {
          "base_uri": "https://localhost:8080/"
        },
        "id": "Dtb2QaeJHNQJ",
        "outputId": "6ae13db9-abf4-4513-bbfd-fc8361978f50"
      },
      "execution_count": null,
      "outputs": [
        {
          "output_type": "execute_result",
          "data": {
            "text/plain": [
              "(1000, 2)"
            ]
          },
          "metadata": {},
          "execution_count": 5
        }
      ]
    },
    {
      "cell_type": "code",
      "source": [
        "y.shape"
      ],
      "metadata": {
        "colab": {
          "base_uri": "https://localhost:8080/"
        },
        "id": "FnoRfFDHHQcp",
        "outputId": "70c263c3-3875-4387-aecb-6f64fbf4d185"
      },
      "execution_count": null,
      "outputs": [
        {
          "output_type": "execute_result",
          "data": {
            "text/plain": [
              "(1000,)"
            ]
          },
          "metadata": {},
          "execution_count": 6
        }
      ]
    },
    {
      "cell_type": "code",
      "source": [
        "# Split the dataset into training and testing sets\n",
        "X_train, X_test, y_train, y_test = train_test_split(X,\n",
        "                                                    y,\n",
        "                                                    test_size=0.2,\n",
        "                                                    random_state=23,\n",
        "                                                    shuffle=True\n",
        "                                                   )"
      ],
      "metadata": {
        "id": "4z7ocn7-GrDb"
      },
      "execution_count": null,
      "outputs": []
    },
    {
      "cell_type": "code",
      "source": [
        "X_train.shape, X_test.shape, y_train.shape, y_test.shape"
      ],
      "metadata": {
        "colab": {
          "base_uri": "https://localhost:8080/"
        },
        "id": "BUh1IWwzHjwZ",
        "outputId": "c0e783d7-aaf4-4def-e159-70cc273f5cfd"
      },
      "execution_count": null,
      "outputs": [
        {
          "output_type": "execute_result",
          "data": {
            "text/plain": [
              "((800, 2), (200, 2), (800,), (200,))"
            ]
          },
          "metadata": {},
          "execution_count": 8
        }
      ]
    },
    {
      "cell_type": "code",
      "source": [
        "# Scale the input features to have zero mean and unit variance\n",
        "scaler = StandardScaler()\n",
        "X_train = scaler.fit_transform(X_train)\n",
        "X_test = scaler.transform(X_test)"
      ],
      "metadata": {
        "id": "l7_WshcoGvYs"
      },
      "execution_count": null,
      "outputs": []
    },
    {
      "cell_type": "code",
      "source": [
        "# Convert the data to PyTorch tensors\n",
        "X_train = torch.tensor(X_train, dtype=torch.float32, requires_grad=False)\n",
        "X_test = torch.tensor(X_test, dtype=torch.float32, requires_grad=False)\n",
        "y_train = torch.tensor(y_train, dtype=torch.float32, requires_grad=False)\n",
        "y_test = torch.tensor(y_test, dtype=torch.float32, requires_grad=False)"
      ],
      "metadata": {
        "id": "sXztcSp8G0rh"
      },
      "execution_count": null,
      "outputs": []
    },
    {
      "cell_type": "code",
      "source": [
        "X_train, X_test, y_train, y_test"
      ],
      "metadata": {
        "colab": {
          "base_uri": "https://localhost:8080/"
        },
        "id": "hjZCwwoFH7YX",
        "outputId": "6ee1a418-4864-45a6-c6a7-da976df094c2"
      },
      "execution_count": null,
      "outputs": [
        {
          "output_type": "execute_result",
          "data": {
            "text/plain": [
              "(tensor([[ 0.6555, -0.6095],\n",
              "         [-0.1341,  0.5184],\n",
              "         [-0.3043, -0.9566],\n",
              "         ...,\n",
              "         [-0.7537, -0.3502],\n",
              "         [-1.5984,  1.4337],\n",
              "         [ 0.2064, -0.7418]]),\n",
              " tensor([[ 1.0271, -1.5367],\n",
              "         [-0.6081,  1.2389],\n",
              "         [-0.4481,  0.5136],\n",
              "         [ 0.2953, -0.9378],\n",
              "         [-0.6325,  0.7618],\n",
              "         [ 1.0386, -0.3649],\n",
              "         [-0.9223,  0.0637],\n",
              "         [-2.0100,  0.7534],\n",
              "         [-1.5054,  0.6653],\n",
              "         [ 0.9682, -1.0031],\n",
              "         [-0.1957,  1.2612],\n",
              "         [-0.4639,  0.0482],\n",
              "         [-0.8058,  0.6859],\n",
              "         [-1.0804,  0.6181],\n",
              "         [-1.2310,  0.2692],\n",
              "         [-0.6841,  0.5850],\n",
              "         [-0.8723,  0.5863],\n",
              "         [-1.0171,  1.2537],\n",
              "         [-0.7426,  0.6643],\n",
              "         [ 0.8912, -0.5990],\n",
              "         [-0.2629, -0.5331],\n",
              "         [-0.7680,  0.7156],\n",
              "         [ 0.6126, -1.4788],\n",
              "         [ 0.2966, -0.9304],\n",
              "         [-1.6108,  1.6564],\n",
              "         [ 0.5219,  1.0845],\n",
              "         [-0.9882,  1.2255],\n",
              "         [ 0.7285,  1.5316],\n",
              "         [ 0.9503, -0.7642],\n",
              "         [-0.9326,  1.3173],\n",
              "         [-0.3445,  0.7279],\n",
              "         [ 2.1129, -0.5841],\n",
              "         [ 0.5530,  1.4657],\n",
              "         [ 0.2453, -0.3331],\n",
              "         [-0.2720,  0.9680],\n",
              "         [ 0.8422, -0.4716],\n",
              "         [-1.8813,  0.7030],\n",
              "         [ 1.3702, -0.9417],\n",
              "         [ 0.3468, -0.2446],\n",
              "         [ 0.6121, -0.6417],\n",
              "         [-0.7707,  1.0368],\n",
              "         [ 2.1140, -1.5042],\n",
              "         [ 0.3226, -0.5883],\n",
              "         [ 1.5384, -0.0552],\n",
              "         [-0.3437,  0.0923],\n",
              "         [-0.0079,  0.6186],\n",
              "         [-0.8655,  0.6703],\n",
              "         [-0.8222,  0.2008],\n",
              "         [ 0.5493, -1.5158],\n",
              "         [-0.6732,  1.3285],\n",
              "         [-0.5618,  0.9784],\n",
              "         [ 0.2607,  1.0515],\n",
              "         [ 1.1161, -1.3959],\n",
              "         [-0.4791,  0.8617],\n",
              "         [-1.0363,  0.2391],\n",
              "         [-0.1724,  0.8901],\n",
              "         [ 0.6085, -0.8594],\n",
              "         [ 0.0414,  0.9639],\n",
              "         [ 1.4308, -0.2016],\n",
              "         [ 0.4739, -1.0959],\n",
              "         [-0.0767, -0.9194],\n",
              "         [-0.8371, -0.6554],\n",
              "         [ 0.1164, -0.8586],\n",
              "         [ 0.3677, -0.6474],\n",
              "         [-0.2225, -1.7001],\n",
              "         [ 0.7528, -1.1634],\n",
              "         [-0.5754,  1.0875],\n",
              "         [ 1.4189, -0.8422],\n",
              "         [-0.9646,  0.9751],\n",
              "         [-0.6724,  1.5162],\n",
              "         [ 1.1735, -0.8363],\n",
              "         [-1.2685,  0.4073],\n",
              "         [-2.1699,  1.0592],\n",
              "         [-1.9471,  1.1601],\n",
              "         [ 1.3931,  0.1459],\n",
              "         [-0.3094,  1.2428],\n",
              "         [ 0.3723, -1.1913],\n",
              "         [ 0.9720, -0.5743],\n",
              "         [ 2.0297, -1.1195],\n",
              "         [-1.0112,  0.6803],\n",
              "         [-0.5647, -1.3070],\n",
              "         [-0.6043,  1.0468],\n",
              "         [ 0.5026, -0.3502],\n",
              "         [-0.5950,  0.7272],\n",
              "         [-0.3684,  0.8878],\n",
              "         [-0.5861, -1.3137],\n",
              "         [-1.6126,  0.6710],\n",
              "         [-0.1413,  0.8499],\n",
              "         [ 0.1136, -0.4903],\n",
              "         [-0.0452,  0.7891],\n",
              "         [ 0.4620,  1.5244],\n",
              "         [ 0.0047, -0.9316],\n",
              "         [-0.8313,  0.7895],\n",
              "         [ 0.3979, -1.0443],\n",
              "         [-0.9187,  1.1877],\n",
              "         [-1.0702,  0.9503],\n",
              "         [ 0.0113,  0.5797],\n",
              "         [ 0.8579, -0.8550],\n",
              "         [-0.2396, -1.0934],\n",
              "         [-0.5365,  0.8883],\n",
              "         [ 0.3830, -1.2282],\n",
              "         [ 0.6214,  0.3942],\n",
              "         [ 0.5213, -0.9374],\n",
              "         [-1.7697,  1.2812],\n",
              "         [ 0.7404, -0.5548],\n",
              "         [ 2.1374, -0.8247],\n",
              "         [ 1.1249, -0.9541],\n",
              "         [-0.2379, -1.8762],\n",
              "         [-1.7075,  0.0756],\n",
              "         [-1.1606,  1.1760],\n",
              "         [-0.7228, -0.4111],\n",
              "         [ 0.8569, -0.9693],\n",
              "         [ 0.0985, -0.4423],\n",
              "         [ 0.7403, -0.9897],\n",
              "         [-2.5114,  0.9874],\n",
              "         [-0.8321, -0.2373],\n",
              "         [-0.6972,  1.0052],\n",
              "         [ 0.1475, -1.6600],\n",
              "         [-1.3935,  1.0566],\n",
              "         [ 1.5007, -0.9669],\n",
              "         [ 0.6451, -0.9150],\n",
              "         [ 0.8288, -1.1195],\n",
              "         [ 0.0046, -1.7050],\n",
              "         [ 1.4877, -1.2491],\n",
              "         [-0.3972,  0.8835],\n",
              "         [ 0.6380, -0.6169],\n",
              "         [ 0.3914, -0.7018],\n",
              "         [-1.4466,  1.1431],\n",
              "         [ 0.2366, -1.1072],\n",
              "         [-0.6297, -0.9901],\n",
              "         [-1.6189,  1.6009],\n",
              "         [-0.1407,  0.5814],\n",
              "         [ 0.6560, -1.3215],\n",
              "         [ 0.2755, -0.0851],\n",
              "         [ 0.0082, -0.5805],\n",
              "         [-0.8018,  0.5404],\n",
              "         [-0.2859,  0.5120],\n",
              "         [-1.2528,  0.9078],\n",
              "         [-0.7496,  0.9604],\n",
              "         [-0.1737, -1.2247],\n",
              "         [-1.8574,  0.7456],\n",
              "         [ 1.3725,  0.0044],\n",
              "         [-1.0487,  0.3960],\n",
              "         [ 0.5706,  0.0232],\n",
              "         [ 1.0816, -1.7077],\n",
              "         [ 0.2151,  0.4523],\n",
              "         [ 0.8470, -1.1801],\n",
              "         [-0.8975, -1.3458],\n",
              "         [-0.8184,  0.3999],\n",
              "         [ 0.1185, -0.6908],\n",
              "         [ 1.5606, -1.0821],\n",
              "         [-0.4129,  0.8179],\n",
              "         [-1.5643,  0.8928],\n",
              "         [ 0.8447, -0.5711],\n",
              "         [ 0.7580, -0.4406],\n",
              "         [-0.2323, -1.3963],\n",
              "         [ 1.0707, -1.6407],\n",
              "         [-0.7010,  1.0782],\n",
              "         [-1.4306,  1.6775],\n",
              "         [ 2.1126, -0.7301],\n",
              "         [ 1.3343, -0.5304],\n",
              "         [-0.6885,  1.4532],\n",
              "         [-1.2860, -1.0730],\n",
              "         [-0.3159,  1.1004],\n",
              "         [-1.1264,  0.6516],\n",
              "         [ 0.7075, -1.0291],\n",
              "         [ 0.0868,  1.0655],\n",
              "         [ 1.1676, -1.4945],\n",
              "         [ 0.2420,  1.1765],\n",
              "         [ 0.2428,  1.2609],\n",
              "         [ 0.7423, -1.2332],\n",
              "         [-0.7714, -0.6315],\n",
              "         [-1.3389,  0.9579],\n",
              "         [ 2.2738, -0.7977],\n",
              "         [ 1.3951, -0.5269],\n",
              "         [-0.7584,  1.0263],\n",
              "         [ 1.1192,  1.4486],\n",
              "         [ 0.2439, -0.9252],\n",
              "         [-0.5274, -0.8075],\n",
              "         [-0.5553,  1.4310],\n",
              "         [ 0.2593, -1.5882],\n",
              "         [-0.9389,  1.1522],\n",
              "         [-0.1692,  0.6582],\n",
              "         [-1.1905,  1.0060],\n",
              "         [ 0.1522,  1.2042],\n",
              "         [-1.7846,  0.1202],\n",
              "         [ 0.0126,  1.1453],\n",
              "         [-0.1289, -0.3319],\n",
              "         [-0.8693,  1.2028],\n",
              "         [-0.6184,  0.4135],\n",
              "         [ 0.1570, -0.0272],\n",
              "         [ 0.0605,  0.5941],\n",
              "         [-0.5511,  0.7523],\n",
              "         [ 1.4174, -1.3896],\n",
              "         [-0.7287,  1.1722],\n",
              "         [ 0.6826, -0.5525],\n",
              "         [ 1.6615, -0.6495],\n",
              "         [ 0.2441,  0.5736],\n",
              "         [-0.6895,  1.2172],\n",
              "         [-0.5009,  0.2203]]),\n",
              " tensor([1., 0., 1., 1., 1., 0., 1., 1., 1., 1., 1., 0., 1., 0., 0., 0., 1., 0.,\n",
              "         1., 1., 0., 0., 0., 0., 1., 0., 1., 0., 1., 1., 1., 1., 1., 1., 0., 1.,\n",
              "         1., 1., 0., 0., 0., 0., 1., 0., 0., 0., 0., 1., 0., 0., 1., 1., 1., 1.,\n",
              "         0., 1., 0., 1., 0., 1., 1., 1., 0., 1., 1., 0., 1., 1., 1., 1., 0., 1.,\n",
              "         1., 0., 0., 0., 1., 0., 1., 1., 1., 1., 0., 1., 1., 1., 1., 1., 0., 0.,\n",
              "         1., 1., 0., 1., 0., 0., 1., 1., 1., 1., 0., 0., 0., 0., 1., 1., 1., 0.,\n",
              "         0., 0., 0., 0., 0., 1., 1., 1., 1., 0., 1., 0., 1., 0., 0., 1., 0., 0.,\n",
              "         0., 1., 0., 0., 0., 1., 0., 1., 1., 0., 1., 1., 1., 1., 1., 0., 1., 1.,\n",
              "         1., 1., 0., 0., 1., 1., 0., 1., 1., 1., 1., 0., 0., 0., 1., 0., 1., 0.,\n",
              "         0., 1., 1., 0., 0., 0., 1., 1., 0., 1., 1., 0., 0., 1., 1., 0., 1., 0.,\n",
              "         1., 1., 0., 1., 0., 0., 1., 0., 1., 1., 0., 1., 1., 1., 1., 0., 1., 1.,\n",
              "         1., 1., 1., 0., 1., 0., 1., 1., 0., 0., 0., 1., 0., 1., 1., 1., 1., 1.,\n",
              "         1., 0., 1., 0., 1., 0., 1., 0., 0., 0., 1., 1., 1., 1., 1., 0., 1., 1.,\n",
              "         1., 0., 0., 1., 0., 1., 0., 1., 0., 0., 0., 1., 1., 0., 0., 1., 1., 0.,\n",
              "         0., 1., 1., 1., 0., 0., 0., 0., 1., 0., 0., 1., 1., 1., 0., 1., 0., 0.,\n",
              "         1., 1., 1., 0., 1., 0., 0., 0., 1., 0., 1., 1., 1., 0., 1., 1., 0., 0.,\n",
              "         0., 1., 0., 1., 0., 0., 0., 1., 0., 0., 1., 0., 1., 0., 1., 0., 0., 1.,\n",
              "         0., 0., 1., 0., 1., 1., 0., 0., 0., 1., 1., 1., 1., 0., 1., 1., 1., 0.,\n",
              "         0., 0., 1., 0., 1., 1., 1., 0., 1., 1., 0., 0., 1., 0., 1., 0., 1., 1.,\n",
              "         0., 0., 1., 1., 0., 1., 0., 0., 0., 0., 1., 0., 0., 0., 1., 1., 0., 1.,\n",
              "         1., 0., 0., 1., 0., 1., 1., 1., 0., 1., 0., 1., 0., 1., 1., 1., 0., 1.,\n",
              "         0., 0., 1., 1., 0., 1., 0., 0., 1., 0., 0., 1., 0., 0., 1., 1., 0., 0.,\n",
              "         0., 0., 0., 0., 0., 0., 0., 0., 0., 1., 1., 0., 0., 1., 1., 1., 0., 1.,\n",
              "         1., 0., 1., 1., 0., 1., 0., 0., 1., 0., 1., 0., 1., 1., 0., 1., 1., 1.,\n",
              "         1., 0., 0., 0., 1., 0., 0., 0., 1., 0., 0., 0., 0., 0., 1., 0., 1., 1.,\n",
              "         1., 1., 1., 1., 1., 1., 0., 1., 0., 0., 1., 0., 0., 0., 0., 0., 1., 1.,\n",
              "         1., 1., 0., 1., 1., 1., 1., 0., 1., 1., 1., 1., 0., 0., 1., 1., 1., 1.,\n",
              "         0., 0., 0., 0., 0., 0., 1., 1., 0., 1., 1., 1., 1., 0., 0., 1., 1., 0.,\n",
              "         0., 0., 1., 1., 1., 0., 1., 0., 0., 0., 0., 0., 0., 0., 0., 1., 0., 1.,\n",
              "         1., 1., 1., 0., 1., 1., 1., 1., 0., 1., 0., 0., 0., 1., 0., 1., 0., 0.,\n",
              "         0., 1., 0., 0., 0., 1., 1., 1., 1., 1., 0., 1., 1., 0., 1., 0., 1., 0.,\n",
              "         0., 0., 1., 1., 0., 1., 0., 1., 0., 0., 0., 1., 1., 1., 1., 1., 0., 1.,\n",
              "         0., 0., 0., 1., 0., 1., 1., 1., 0., 1., 1., 1., 0., 1., 1., 0., 0., 0.,\n",
              "         0., 0., 0., 0., 1., 0., 1., 0., 0., 0., 0., 1., 0., 0., 0., 0., 1., 0.,\n",
              "         0., 0., 0., 1., 0., 0., 0., 1., 1., 1., 0., 0., 0., 0., 1., 1., 1., 0.,\n",
              "         1., 0., 1., 0., 1., 1., 1., 0., 1., 0., 0., 1., 1., 0., 0., 1., 0., 1.,\n",
              "         0., 1., 0., 0., 0., 1., 0., 1., 0., 1., 0., 0., 0., 1., 1., 1., 1., 0.,\n",
              "         1., 1., 0., 1., 0., 1., 0., 0., 1., 0., 0., 1., 1., 0., 1., 1., 1., 0.,\n",
              "         1., 0., 1., 0., 0., 0., 1., 1., 1., 1., 1., 0., 0., 0., 1., 0., 1., 1.,\n",
              "         1., 1., 0., 0., 0., 0., 1., 0., 0., 0., 0., 0., 0., 0., 1., 0., 0., 0.,\n",
              "         1., 1., 1., 1., 0., 1., 0., 1., 0., 1., 1., 0., 1., 1., 1., 0., 1., 0.,\n",
              "         1., 1., 0., 0., 1., 1., 0., 0., 1., 1., 0., 0., 1., 0., 1., 1., 1., 0.,\n",
              "         0., 0., 1., 1., 1., 1., 1., 0., 1., 1., 1., 0., 1., 1., 0., 1., 0., 0.,\n",
              "         1., 0., 0., 0., 0., 0., 0., 0., 0., 0., 0., 0., 0., 0., 0., 0., 0., 0.,\n",
              "         0., 0., 0., 1., 1., 1., 0., 1.]),\n",
              " tensor([1., 0., 0., 1., 0., 1., 0., 0., 0., 1., 0., 0., 0., 0., 0., 0., 0., 0.,\n",
              "         0., 1., 1., 0., 1., 1., 0., 0., 0., 0., 1., 0., 0., 1., 0., 1., 0., 1.,\n",
              "         0., 1., 1., 1., 0., 1., 1., 1., 0., 0., 0., 0., 1., 0., 0., 0., 1., 0.,\n",
              "         0., 0., 1., 0., 1., 1., 1., 1., 1., 1., 1., 1., 0., 1., 0., 0., 1., 0.,\n",
              "         0., 0., 1., 0., 1., 1., 1., 0., 1., 0., 1., 0., 0., 1., 0., 0., 1., 0.,\n",
              "         0., 1., 0., 1., 0., 0., 0., 1., 1., 0., 1., 0., 1., 0., 1., 1., 1., 1.,\n",
              "         0., 0., 1., 1., 1., 1., 0., 1., 0., 1., 0., 1., 1., 1., 1., 1., 0., 1.,\n",
              "         1., 0., 1., 1., 0., 0., 1., 1., 1., 0., 0., 0., 0., 1., 0., 1., 0., 1.,\n",
              "         1., 1., 1., 1., 0., 1., 1., 0., 0., 1., 1., 1., 1., 0., 0., 1., 1., 0.,\n",
              "         1., 0., 0., 1., 0., 1., 0., 0., 1., 1., 0., 1., 1., 0., 0., 1., 1., 0.,\n",
              "         1., 0., 0., 0., 0., 0., 0., 1., 0., 0., 0., 0., 0., 1., 0., 1., 1., 0.,\n",
              "         0., 0.]))"
            ]
          },
          "metadata": {},
          "execution_count": 16
        }
      ]
    },
    {
      "cell_type": "code",
      "source": [
        "# reshape the target tensor to match the predicted output tensor\n",
        "y_train = y_train.reshape(-1, 1)\n",
        "y_test = y_test.reshape(-1, 1)"
      ],
      "metadata": {
        "id": "wZLOz_YvH5S2"
      },
      "execution_count": null,
      "outputs": []
    },
    {
      "cell_type": "code",
      "source": [
        "y_train.shape, y_test.shape"
      ],
      "metadata": {
        "colab": {
          "base_uri": "https://localhost:8080/"
        },
        "id": "hcFxIgQYIRXp",
        "outputId": "b226e57d-f17f-41e0-f923-dfc2c84ad2b8"
      },
      "execution_count": null,
      "outputs": [
        {
          "output_type": "execute_result",
          "data": {
            "text/plain": [
              "(torch.Size([800, 1]), torch.Size([200, 1]))"
            ]
          },
          "metadata": {},
          "execution_count": 18
        }
      ]
    },
    {
      "cell_type": "code",
      "source": [
        "torch.random.seed()\n",
        "\n",
        "# Define the Perceptron model\n",
        "class Perceptron(nn.Module):\n",
        "    def __init__(self, num_inputs):\n",
        "        super(Perceptron, self).__init__()\n",
        "        self.linear = nn.Linear(num_inputs, 1)\n",
        "\n",
        "    # Heaviside Step function\n",
        "    def heaviside_step_fn(self,Z):\n",
        "        Class = []\n",
        "        for z in Z:\n",
        "            if z >=0:\n",
        "                Class.append(1)\n",
        "            else:\n",
        "                Class.append(0)\n",
        "        return torch.tensor(Class)\n",
        "\n",
        "    def forward(self, x):\n",
        "        Z = self.linear(x)\n",
        "        return self.heaviside_step_fn(Z)"
      ],
      "metadata": {
        "id": "XCYJwRXPIM45"
      },
      "execution_count": null,
      "outputs": []
    },
    {
      "cell_type": "code",
      "source": [
        "# Initialize the Perceptron with the appropriate number of inputs\n",
        "perceptron = Perceptron(num_inputs=X_train.shape[1])"
      ],
      "metadata": {
        "id": "eHn5Lhy8ImGI"
      },
      "execution_count": null,
      "outputs": []
    },
    {
      "cell_type": "code",
      "source": [
        "# loss function\n",
        "def loss(y_pred,Y):\n",
        "    cost = y_pred-Y\n",
        "    return cost"
      ],
      "metadata": {
        "id": "M7Ets17CIq-0"
      },
      "execution_count": null,
      "outputs": []
    },
    {
      "cell_type": "code",
      "source": [
        "# Learning Rate\n",
        "learning_rate = 0.001\n",
        "\n",
        "# Train the Perceptron on the training data\n",
        "num_epochs = 10\n",
        "for epoch in range(num_epochs):\n",
        "    Losses = 0\n",
        "    for Input, Class in zip(X_train, y_train):\n",
        "        # Forward pass\n",
        "        predicted_class = perceptron(Input)\n",
        "        error = loss(predicted_class, Class)\n",
        "        Losses += error\n",
        "        # Perceptron Learning Rule\n",
        "\n",
        "        # Model Parameter\n",
        "        w = perceptron.linear.weight\n",
        "        b = perceptron.linear.bias\n",
        "\n",
        "        # Matually Update the model parameter\n",
        "        w = w - learning_rate * error * Input\n",
        "        b = b - learning_rate * error\n",
        "\n",
        "        # assign the weight &amp; bias parameter to the linear layer\n",
        "        perceptron.linear.weight = nn.Parameter(w)\n",
        "        perceptron.linear.bias   = nn.Parameter(b)\n",
        "    print('Epoch [{}/{}], weight:{}, bias:{} Loss: {:.4f}'.format(\n",
        "        epoch+1,num_epochs,\n",
        "        w.detach().numpy(),\n",
        "        b.detach().numpy(),\n",
        "        Losses.item()))\n"
      ],
      "metadata": {
        "colab": {
          "base_uri": "https://localhost:8080/"
        },
        "id": "uDs0NPkuIvac",
        "outputId": "10337da0-d024-489d-a55d-2e317f9085c9"
      },
      "execution_count": null,
      "outputs": [
        {
          "output_type": "stream",
          "name": "stdout",
          "text": [
            "Epoch [1/10], weight:[[ 0.38610172 -0.18079485]], bias:[-0.30871856] Loss: -239.0000\n",
            "Epoch [2/10], weight:[[ 0.35575312 -0.2648694 ]], bias:[-0.20371921] Loss: -105.0000\n",
            "Epoch [3/10], weight:[[ 0.32479152 -0.30713525]], bias:[-0.1467191] Loss: -57.0000\n",
            "Epoch [4/10], weight:[[ 0.29935345 -0.32919532]], bias:[-0.11571904] Loss: -31.0000\n",
            "Epoch [5/10], weight:[[ 0.2785551  -0.34303546]], bias:[-0.09571899] Loss: -20.0000\n",
            "Epoch [6/10], weight:[[ 0.26085457 -0.35249582]], bias:[-0.08171897] Loss: -14.0000\n",
            "Epoch [7/10], weight:[[ 0.24407244 -0.36075437]], bias:[-0.06971894] Loss: -12.0000\n",
            "Epoch [8/10], weight:[[ 0.23052506 -0.36617178]], bias:[-0.06071893] Loss: -9.0000\n",
            "Epoch [9/10], weight:[[ 0.21697769 -0.37158918]], bias:[-0.05171895] Loss: -9.0000\n",
            "Epoch [10/10], weight:[[ 0.20450234 -0.37625384]], bias:[-0.04371896] Loss: -8.0000\n"
          ]
        }
      ]
    },
    {
      "cell_type": "code",
      "source": [
        "# Test the accuracy of the trained Perceptron on the testing data\n",
        "pred = perceptron(X_test)\n",
        "\n",
        "accuracy = (pred==y_test[:,0]).float().mean()\n",
        "print(\"Accuracy on Test Dataset:\", accuracy.item())"
      ],
      "metadata": {
        "colab": {
          "base_uri": "https://localhost:8080/"
        },
        "id": "9DfOo_PwI01H",
        "outputId": "7f6928f9-f7ae-4a78-d9f0-93b1839960ce"
      },
      "execution_count": null,
      "outputs": [
        {
          "output_type": "stream",
          "name": "stdout",
          "text": [
            "Accuracy on Test Dataset: 0.9850000143051147\n"
          ]
        }
      ]
    },
    {
      "cell_type": "code",
      "source": [
        "# Plot the dataset\n",
        "plt.scatter(X_test[:, 0], X_test[:, 1], c=pred)\n",
        "plt.xlabel('Feature 1')\n",
        "plt.ylabel('Feature 2')\n",
        "plt.show()"
      ],
      "metadata": {
        "colab": {
          "base_uri": "https://localhost:8080/",
          "height": 449
        },
        "id": "6yBVn1HkI9Zu",
        "outputId": "bfd40f3f-6658-4932-ab3b-284f7d0e6cc3"
      },
      "execution_count": null,
      "outputs": [
        {
          "output_type": "display_data",
          "data": {
            "text/plain": [
              "<Figure size 640x480 with 1 Axes>"
            ],
            "image/png": "[encoded data removed]"
          },
          "metadata": {}
        }
      ]
    },
    {
      "cell_type": "markdown",
      "source": [
        "---\n",
        "---\n",
        "----\n",
        "----\n",
        "----\n",
        "----\n",
        "---"
      ],
      "metadata": {
        "id": "4aEwopJ8J_1N"
      }
    },
    {
      "cell_type": "markdown",
      "source": [
        "## **Single Layer Perceptron Using `sklearn` and `numpy`:**"
      ],
      "metadata": {
        "id": "XypU3NtxKCRw"
      }
    },
    {
      "cell_type": "markdown",
      "source": [
        "`(Binary Classification on a Linearly Separable Dataset):`\n",
        "\n",
        "Here, we are going to the process of `building`, `training`, and `evaluating` a `Perceptron model` for binary classification using a synthetic, linearly separable dataset.\n",
        "\n",
        "**We will follow these steps:**\n",
        "\n",
        "1. Import Libraries\n",
        "\n",
        "2. Generate Dataset using `make_blobs()`\n",
        "\n",
        "3. Train-Test Split with `train_test_split()`\n",
        "\n",
        "4. Scale Features using `StandardScaler()`\n",
        "\n",
        "5. Initialize Perceptron with appropriate input size\n",
        "\n",
        "6. Train the Model with `fit()` over 100 epochs\n",
        "\n",
        "7. Predict on test data and evaluate accuracy by comparing predictions with actual labels\n",
        "\n",
        "8. Visualize Results using a scatter plot"
      ],
      "metadata": {
        "id": "rE6-7vAsKTQO"
      }
    },
    {
      "cell_type": "code",
      "source": [
        "# First, define the model:\n",
        "\n",
        "# Import the necessary library\n",
        "import numpy as np\n",
        "\n",
        "# Build the Perceptron Model:\n",
        "class Perceptron:\n",
        "\n",
        "    def __init__(self, num_inputs, learning_rate=0.01):\n",
        "        # Initialize the weight and learning rate\n",
        "        self.weights = np.random.rand(num_inputs + 1)\n",
        "        self.learning_rate = learning_rate\n",
        "\n",
        "    # Define the first linear layer\n",
        "    def linear(self, inputs):\n",
        "        Z = inputs @ self.weights[1:].T + + self.weights[0]\n",
        "        return Z\n",
        "\n",
        "    # Define the Heaviside Step function.\n",
        "    def Heaviside_step_fn(self, z):\n",
        "        if z>=0:\n",
        "            return 1\n",
        "        else:\n",
        "            return 0\n",
        "\n",
        "    # Define the Prediction\n",
        "    def predict(self, inputs):\n",
        "        Z = self.linear(inputs)\n",
        "        try:\n",
        "            pred = []\n",
        "            for z in Z:\n",
        "                pred.append(self.Heaviside_step_fn(z))\n",
        "        except:\n",
        "            return self.Heaviside_step_fn(Z)\n",
        "        return pred\n",
        "\n",
        "    # Define the Loss function\n",
        "    def loss(self, prediction, target):\n",
        "        loss = (prediction-target)\n",
        "        return loss\n",
        "\n",
        "    #Define training\n",
        "    def train(self, inputs, target):\n",
        "        prediction = self.predict(inputs)\n",
        "        error = self.loss(prediction, target)\n",
        "        self.weights[1:] += self.learning_rate * error * inputs\n",
        "        self.weights[0]  += self.learning_rate * error\n",
        "\n",
        "    # Fit the model\n",
        "    def fit(self, X, y, num_epochs):\n",
        "        for epoch in range(num_epochs):\n",
        "            for inputs, target in zip(X, y):\n",
        "                self.train(inputs, target)"
      ],
      "metadata": {
        "id": "0fNkjhP5MXRx"
      },
      "execution_count": null,
      "outputs": []
    },
    {
      "cell_type": "code",
      "source": [
        "# Import the necessary library\n",
        "import numpy as np\n",
        "from sklearn.datasets import make_blobs\n",
        "import matplotlib.pyplot as plt\n",
        "from sklearn.model_selection import train_test_split\n",
        "from sklearn.preprocessing import StandardScaler"
      ],
      "metadata": {
        "id": "OIWpVhhFKBm6"
      },
      "execution_count": null,
      "outputs": []
    },
    {
      "cell_type": "code",
      "source": [
        "# Generate a linearly separable dataset with two classes\n",
        "X, y = make_blobs(n_samples=1000,\n",
        "                  n_features=2,\n",
        "                  centers=2,\n",
        "                  cluster_std=3,\n",
        "                  random_state=23)"
      ],
      "metadata": {
        "id": "z8uJ15LJLPTY"
      },
      "execution_count": null,
      "outputs": []
    },
    {
      "cell_type": "code",
      "source": [
        "# Split the dataset into training and testing sets\n",
        "X_train, X_test, y_train, y_test = train_test_split(X,\n",
        "                                                    y,\n",
        "                                                    test_size=0.2,\n",
        "                                                    random_state=23,\n",
        "                                                    shuffle=True\n",
        "                                                   )"
      ],
      "metadata": {
        "id": "mqwXi3F7Lhtq"
      },
      "execution_count": null,
      "outputs": []
    },
    {
      "cell_type": "code",
      "source": [
        "# Scale the input features to have zero mean and unit variance\n",
        "scaler = StandardScaler()\n",
        "X_train = scaler.fit_transform(X_train)\n",
        "X_test = scaler.transform(X_test)"
      ],
      "metadata": {
        "id": "j7olQGqcLj_D"
      },
      "execution_count": null,
      "outputs": []
    },
    {
      "cell_type": "code",
      "source": [
        "# Set the random seed legacy\n",
        "np.random.seed(23)\n",
        "\n",
        "# Initialize the Perceptron with the appropriate number of inputs\n",
        "perceptron = Perceptron(num_inputs=X_train.shape[1])\n",
        "\n",
        "# Train the Perceptron on the training data\n",
        "perceptron.fit(X_train, y_train, num_epochs=100)\n",
        "\n",
        "# Prediction\n",
        "pred = perceptron.predict(X_test)"
      ],
      "metadata": {
        "id": "PzYI6zS0LlIH"
      },
      "execution_count": null,
      "outputs": []
    },
    {
      "cell_type": "code",
      "source": [
        "# Test the accuracy of the trained Perceptron on the testing data\n",
        "accuracy = np.mean(pred != y_test)\n",
        "print(\"Accuracy:\", accuracy)"
      ],
      "metadata": {
        "colab": {
          "base_uri": "https://localhost:8080/"
        },
        "id": "NRsrhut9LsdJ",
        "outputId": "3054f033-3c5b-43ad-e8cc-d0ad1be6f84d"
      },
      "execution_count": null,
      "outputs": [
        {
          "output_type": "stream",
          "name": "stdout",
          "text": [
            "Accuracy: 0.975\n"
          ]
        }
      ]
    },
    {
      "cell_type": "code",
      "source": [
        "# Plot the dataset\n",
        "plt.scatter(X_test[:, 0], X_test[:, 1], c=pred)\n",
        "plt.xlabel('Feature 1')\n",
        "plt.ylabel('Feature 2')\n",
        "plt.show()"
      ],
      "metadata": {
        "colab": {
          "base_uri": "https://localhost:8080/",
          "height": 449
        },
        "id": "LDYrhBkMLt1M",
        "outputId": "19e85fd1-6ec0-4594-cb7a-0587f858f61f"
      },
      "execution_count": null,
      "outputs": [
        {
          "output_type": "display_data",
          "data": {
            "text/plain": [
              "<Figure size 640x480 with 1 Axes>"
            ],
            "image/png": "[encoded data removed]"
          },
          "metadata": {}
        }
      ]
    },
    {
      "cell_type": "markdown",
      "source": [
        "## **Limitations of Perceptron:**\n",
        "\n",
        "The `Perceptron` was a significant breakthrough in the development of neural networks, proving that simple networks could learn to classify patterns. However, the `Perceptron model` has certain limitations that can make it unsuitable for some tasks:\n",
        "\n",
        "1. Limited to `linearly separable` problems\n",
        "\n",
        "2. Struggles with `convergence` when handling non-separable data\n",
        "\n",
        "3. Requires `labeled data` for training\n",
        "\n",
        "4. Sensitive to `input scaling`\n",
        "\n",
        "5. `Lacks hidden layers` for complex decision-making\n",
        "\n",
        "To overcome these limitations, more advanced neural network architectures, such as `Multilayer Perceptrons` $(MLPs)$, `Convolutional Neural Networks` $(CNNs)$, `Recurrent Neural Networks` ($RNNs)$ and, `Transformers` have been developed. These models can learn more complex patterns and are widely used in modern machine learning and deep learning applications."
      ],
      "metadata": {
        "id": "ZjtEk8Y8NNp6"
      }
    }
  ]
}